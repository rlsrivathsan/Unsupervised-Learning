{
 "cells": [
  {
   "cell_type": "code",
   "execution_count": 2,
   "metadata": {},
   "outputs": [],
   "source": [
    "import pandas as pd\n",
    "import numpy as np"
   ]
  },
  {
   "cell_type": "markdown",
   "metadata": {},
   "source": [
    "#### Question 1"
   ]
  },
  {
   "cell_type": "code",
   "execution_count": 3,
   "metadata": {},
   "outputs": [],
   "source": [
    "df = pd.read_csv('vehicle.csv')"
   ]
  },
  {
   "cell_type": "code",
   "execution_count": 4,
   "metadata": {},
   "outputs": [
    {
     "data": {
      "text/html": [
       "<div>\n",
       "<style scoped>\n",
       "    .dataframe tbody tr th:only-of-type {\n",
       "        vertical-align: middle;\n",
       "    }\n",
       "\n",
       "    .dataframe tbody tr th {\n",
       "        vertical-align: top;\n",
       "    }\n",
       "\n",
       "    .dataframe thead th {\n",
       "        text-align: right;\n",
       "    }\n",
       "</style>\n",
       "<table border=\"1\" class=\"dataframe\">\n",
       "  <thead>\n",
       "    <tr style=\"text-align: right;\">\n",
       "      <th></th>\n",
       "      <th>compactness</th>\n",
       "      <th>circularity</th>\n",
       "      <th>distance_circularity</th>\n",
       "      <th>radius_ratio</th>\n",
       "      <th>pr.axis_aspect_ratio</th>\n",
       "      <th>max.length_aspect_ratio</th>\n",
       "      <th>scatter_ratio</th>\n",
       "      <th>elongatedness</th>\n",
       "      <th>pr.axis_rectangularity</th>\n",
       "      <th>max.length_rectangularity</th>\n",
       "      <th>scaled_variance</th>\n",
       "      <th>scaled_variance.1</th>\n",
       "      <th>scaled_radius_of_gyration</th>\n",
       "      <th>scaled_radius_of_gyration.1</th>\n",
       "      <th>skewness_about</th>\n",
       "      <th>skewness_about.1</th>\n",
       "      <th>skewness_about.2</th>\n",
       "      <th>hollows_ratio</th>\n",
       "      <th>class</th>\n",
       "    </tr>\n",
       "  </thead>\n",
       "  <tbody>\n",
       "    <tr>\n",
       "      <th>474</th>\n",
       "      <td>82</td>\n",
       "      <td>40.0</td>\n",
       "      <td>73.0</td>\n",
       "      <td>141.0</td>\n",
       "      <td>57.0</td>\n",
       "      <td>8</td>\n",
       "      <td>153.0</td>\n",
       "      <td>44.0</td>\n",
       "      <td>19.0</td>\n",
       "      <td>133</td>\n",
       "      <td>173.0</td>\n",
       "      <td>342.0</td>\n",
       "      <td>153.0</td>\n",
       "      <td>75.0</td>\n",
       "      <td>11.0</td>\n",
       "      <td>9.0</td>\n",
       "      <td>181.0</td>\n",
       "      <td>187</td>\n",
       "      <td>car</td>\n",
       "    </tr>\n",
       "    <tr>\n",
       "      <th>394</th>\n",
       "      <td>90</td>\n",
       "      <td>49.0</td>\n",
       "      <td>83.0</td>\n",
       "      <td>187.0</td>\n",
       "      <td>63.0</td>\n",
       "      <td>7</td>\n",
       "      <td>176.0</td>\n",
       "      <td>37.0</td>\n",
       "      <td>21.0</td>\n",
       "      <td>154</td>\n",
       "      <td>205.0</td>\n",
       "      <td>467.0</td>\n",
       "      <td>222.0</td>\n",
       "      <td>70.0</td>\n",
       "      <td>1.0</td>\n",
       "      <td>2.0</td>\n",
       "      <td>189.0</td>\n",
       "      <td>195</td>\n",
       "      <td>car</td>\n",
       "    </tr>\n",
       "    <tr>\n",
       "      <th>510</th>\n",
       "      <td>86</td>\n",
       "      <td>43.0</td>\n",
       "      <td>70.0</td>\n",
       "      <td>126.0</td>\n",
       "      <td>56.0</td>\n",
       "      <td>6</td>\n",
       "      <td>148.0</td>\n",
       "      <td>46.0</td>\n",
       "      <td>19.0</td>\n",
       "      <td>145</td>\n",
       "      <td>166.0</td>\n",
       "      <td>317.0</td>\n",
       "      <td>171.0</td>\n",
       "      <td>86.0</td>\n",
       "      <td>6.0</td>\n",
       "      <td>9.0</td>\n",
       "      <td>179.0</td>\n",
       "      <td>182</td>\n",
       "      <td>bus</td>\n",
       "    </tr>\n",
       "    <tr>\n",
       "      <th>667</th>\n",
       "      <td>110</td>\n",
       "      <td>53.0</td>\n",
       "      <td>104.0</td>\n",
       "      <td>223.0</td>\n",
       "      <td>66.0</td>\n",
       "      <td>10</td>\n",
       "      <td>211.0</td>\n",
       "      <td>32.0</td>\n",
       "      <td>24.0</td>\n",
       "      <td>164</td>\n",
       "      <td>223.0</td>\n",
       "      <td>659.0</td>\n",
       "      <td>210.0</td>\n",
       "      <td>67.0</td>\n",
       "      <td>5.0</td>\n",
       "      <td>16.0</td>\n",
       "      <td>190.0</td>\n",
       "      <td>203</td>\n",
       "      <td>car</td>\n",
       "    </tr>\n",
       "    <tr>\n",
       "      <th>637</th>\n",
       "      <td>86</td>\n",
       "      <td>44.0</td>\n",
       "      <td>65.0</td>\n",
       "      <td>129.0</td>\n",
       "      <td>56.0</td>\n",
       "      <td>6</td>\n",
       "      <td>152.0</td>\n",
       "      <td>45.0</td>\n",
       "      <td>19.0</td>\n",
       "      <td>150</td>\n",
       "      <td>168.0</td>\n",
       "      <td>331.0</td>\n",
       "      <td>177.0</td>\n",
       "      <td>83.0</td>\n",
       "      <td>4.0</td>\n",
       "      <td>13.0</td>\n",
       "      <td>178.0</td>\n",
       "      <td>183</td>\n",
       "      <td>bus</td>\n",
       "    </tr>\n",
       "  </tbody>\n",
       "</table>\n",
       "</div>"
      ],
      "text/plain": [
       "     compactness  circularity  distance_circularity  radius_ratio  \\\n",
       "474           82         40.0                  73.0         141.0   \n",
       "394           90         49.0                  83.0         187.0   \n",
       "510           86         43.0                  70.0         126.0   \n",
       "667          110         53.0                 104.0         223.0   \n",
       "637           86         44.0                  65.0         129.0   \n",
       "\n",
       "     pr.axis_aspect_ratio  max.length_aspect_ratio  scatter_ratio  \\\n",
       "474                  57.0                        8          153.0   \n",
       "394                  63.0                        7          176.0   \n",
       "510                  56.0                        6          148.0   \n",
       "667                  66.0                       10          211.0   \n",
       "637                  56.0                        6          152.0   \n",
       "\n",
       "     elongatedness  pr.axis_rectangularity  max.length_rectangularity  \\\n",
       "474           44.0                    19.0                        133   \n",
       "394           37.0                    21.0                        154   \n",
       "510           46.0                    19.0                        145   \n",
       "667           32.0                    24.0                        164   \n",
       "637           45.0                    19.0                        150   \n",
       "\n",
       "     scaled_variance  scaled_variance.1  scaled_radius_of_gyration  \\\n",
       "474            173.0              342.0                      153.0   \n",
       "394            205.0              467.0                      222.0   \n",
       "510            166.0              317.0                      171.0   \n",
       "667            223.0              659.0                      210.0   \n",
       "637            168.0              331.0                      177.0   \n",
       "\n",
       "     scaled_radius_of_gyration.1  skewness_about  skewness_about.1  \\\n",
       "474                         75.0            11.0               9.0   \n",
       "394                         70.0             1.0               2.0   \n",
       "510                         86.0             6.0               9.0   \n",
       "667                         67.0             5.0              16.0   \n",
       "637                         83.0             4.0              13.0   \n",
       "\n",
       "     skewness_about.2  hollows_ratio class  \n",
       "474             181.0            187   car  \n",
       "394             189.0            195   car  \n",
       "510             179.0            182   bus  \n",
       "667             190.0            203   car  \n",
       "637             178.0            183   bus  "
      ]
     },
     "execution_count": 4,
     "metadata": {},
     "output_type": "execute_result"
    }
   ],
   "source": [
    "df.sample(5)"
   ]
  },
  {
   "cell_type": "code",
   "execution_count": 5,
   "metadata": {},
   "outputs": [],
   "source": [
    "df_enc=pd.get_dummies(df)"
   ]
  },
  {
   "cell_type": "code",
   "execution_count": 6,
   "metadata": {},
   "outputs": [
    {
     "data": {
      "text/plain": [
       "(846, 21)"
      ]
     },
     "execution_count": 6,
     "metadata": {},
     "output_type": "execute_result"
    }
   ],
   "source": [
    "df_enc.shape"
   ]
  },
  {
   "cell_type": "code",
   "execution_count": 7,
   "metadata": {},
   "outputs": [
    {
     "data": {
      "text/html": [
       "<div>\n",
       "<style scoped>\n",
       "    .dataframe tbody tr th:only-of-type {\n",
       "        vertical-align: middle;\n",
       "    }\n",
       "\n",
       "    .dataframe tbody tr th {\n",
       "        vertical-align: top;\n",
       "    }\n",
       "\n",
       "    .dataframe thead th {\n",
       "        text-align: right;\n",
       "    }\n",
       "</style>\n",
       "<table border=\"1\" class=\"dataframe\">\n",
       "  <thead>\n",
       "    <tr style=\"text-align: right;\">\n",
       "      <th></th>\n",
       "      <th>compactness</th>\n",
       "      <th>circularity</th>\n",
       "      <th>distance_circularity</th>\n",
       "      <th>radius_ratio</th>\n",
       "      <th>pr.axis_aspect_ratio</th>\n",
       "      <th>max.length_aspect_ratio</th>\n",
       "      <th>scatter_ratio</th>\n",
       "      <th>elongatedness</th>\n",
       "      <th>pr.axis_rectangularity</th>\n",
       "      <th>max.length_rectangularity</th>\n",
       "      <th>...</th>\n",
       "      <th>scaled_variance.1</th>\n",
       "      <th>scaled_radius_of_gyration</th>\n",
       "      <th>scaled_radius_of_gyration.1</th>\n",
       "      <th>skewness_about</th>\n",
       "      <th>skewness_about.1</th>\n",
       "      <th>skewness_about.2</th>\n",
       "      <th>hollows_ratio</th>\n",
       "      <th>class_bus</th>\n",
       "      <th>class_car</th>\n",
       "      <th>class_van</th>\n",
       "    </tr>\n",
       "  </thead>\n",
       "  <tbody>\n",
       "    <tr>\n",
       "      <th>723</th>\n",
       "      <td>105</td>\n",
       "      <td>46.0</td>\n",
       "      <td>100.0</td>\n",
       "      <td>195.0</td>\n",
       "      <td>61.0</td>\n",
       "      <td>9</td>\n",
       "      <td>193.0</td>\n",
       "      <td>34.0</td>\n",
       "      <td>22.0</td>\n",
       "      <td>150</td>\n",
       "      <td>...</td>\n",
       "      <td>557.0</td>\n",
       "      <td>161.0</td>\n",
       "      <td>65.0</td>\n",
       "      <td>5.0</td>\n",
       "      <td>9.0</td>\n",
       "      <td>194.0</td>\n",
       "      <td>202</td>\n",
       "      <td>0</td>\n",
       "      <td>1</td>\n",
       "      <td>0</td>\n",
       "    </tr>\n",
       "    <tr>\n",
       "      <th>512</th>\n",
       "      <td>103</td>\n",
       "      <td>54.0</td>\n",
       "      <td>107.0</td>\n",
       "      <td>189.0</td>\n",
       "      <td>56.0</td>\n",
       "      <td>11</td>\n",
       "      <td>223.0</td>\n",
       "      <td>30.0</td>\n",
       "      <td>25.0</td>\n",
       "      <td>174</td>\n",
       "      <td>...</td>\n",
       "      <td>729.0</td>\n",
       "      <td>200.0</td>\n",
       "      <td>70.0</td>\n",
       "      <td>0.0</td>\n",
       "      <td>29.0</td>\n",
       "      <td>187.0</td>\n",
       "      <td>201</td>\n",
       "      <td>0</td>\n",
       "      <td>1</td>\n",
       "      <td>0</td>\n",
       "    </tr>\n",
       "    <tr>\n",
       "      <th>89</th>\n",
       "      <td>80</td>\n",
       "      <td>37.0</td>\n",
       "      <td>57.0</td>\n",
       "      <td>116.0</td>\n",
       "      <td>55.0</td>\n",
       "      <td>6</td>\n",
       "      <td>125.0</td>\n",
       "      <td>54.0</td>\n",
       "      <td>18.0</td>\n",
       "      <td>125</td>\n",
       "      <td>...</td>\n",
       "      <td>229.0</td>\n",
       "      <td>132.0</td>\n",
       "      <td>81.0</td>\n",
       "      <td>8.0</td>\n",
       "      <td>5.0</td>\n",
       "      <td>178.0</td>\n",
       "      <td>184</td>\n",
       "      <td>0</td>\n",
       "      <td>1</td>\n",
       "      <td>0</td>\n",
       "    </tr>\n",
       "    <tr>\n",
       "      <th>760</th>\n",
       "      <td>107</td>\n",
       "      <td>45.0</td>\n",
       "      <td>92.0</td>\n",
       "      <td>197.0</td>\n",
       "      <td>62.0</td>\n",
       "      <td>10</td>\n",
       "      <td>188.0</td>\n",
       "      <td>35.0</td>\n",
       "      <td>22.0</td>\n",
       "      <td>148</td>\n",
       "      <td>...</td>\n",
       "      <td>526.0</td>\n",
       "      <td>159.0</td>\n",
       "      <td>64.0</td>\n",
       "      <td>12.0</td>\n",
       "      <td>20.0</td>\n",
       "      <td>195.0</td>\n",
       "      <td>203</td>\n",
       "      <td>0</td>\n",
       "      <td>1</td>\n",
       "      <td>0</td>\n",
       "    </tr>\n",
       "    <tr>\n",
       "      <th>288</th>\n",
       "      <td>96</td>\n",
       "      <td>47.0</td>\n",
       "      <td>103.0</td>\n",
       "      <td>215.0</td>\n",
       "      <td>69.0</td>\n",
       "      <td>10</td>\n",
       "      <td>200.0</td>\n",
       "      <td>33.0</td>\n",
       "      <td>23.0</td>\n",
       "      <td>147</td>\n",
       "      <td>...</td>\n",
       "      <td>598.0</td>\n",
       "      <td>200.0</td>\n",
       "      <td>73.0</td>\n",
       "      <td>6.0</td>\n",
       "      <td>6.0</td>\n",
       "      <td>187.0</td>\n",
       "      <td>194</td>\n",
       "      <td>0</td>\n",
       "      <td>1</td>\n",
       "      <td>0</td>\n",
       "    </tr>\n",
       "  </tbody>\n",
       "</table>\n",
       "<p>5 rows × 21 columns</p>\n",
       "</div>"
      ],
      "text/plain": [
       "     compactness  circularity  distance_circularity  radius_ratio  \\\n",
       "723          105         46.0                 100.0         195.0   \n",
       "512          103         54.0                 107.0         189.0   \n",
       "89            80         37.0                  57.0         116.0   \n",
       "760          107         45.0                  92.0         197.0   \n",
       "288           96         47.0                 103.0         215.0   \n",
       "\n",
       "     pr.axis_aspect_ratio  max.length_aspect_ratio  scatter_ratio  \\\n",
       "723                  61.0                        9          193.0   \n",
       "512                  56.0                       11          223.0   \n",
       "89                   55.0                        6          125.0   \n",
       "760                  62.0                       10          188.0   \n",
       "288                  69.0                       10          200.0   \n",
       "\n",
       "     elongatedness  pr.axis_rectangularity  max.length_rectangularity  ...  \\\n",
       "723           34.0                    22.0                        150  ...   \n",
       "512           30.0                    25.0                        174  ...   \n",
       "89            54.0                    18.0                        125  ...   \n",
       "760           35.0                    22.0                        148  ...   \n",
       "288           33.0                    23.0                        147  ...   \n",
       "\n",
       "     scaled_variance.1  scaled_radius_of_gyration  \\\n",
       "723              557.0                      161.0   \n",
       "512              729.0                      200.0   \n",
       "89               229.0                      132.0   \n",
       "760              526.0                      159.0   \n",
       "288              598.0                      200.0   \n",
       "\n",
       "     scaled_radius_of_gyration.1  skewness_about  skewness_about.1  \\\n",
       "723                         65.0             5.0               9.0   \n",
       "512                         70.0             0.0              29.0   \n",
       "89                          81.0             8.0               5.0   \n",
       "760                         64.0            12.0              20.0   \n",
       "288                         73.0             6.0               6.0   \n",
       "\n",
       "     skewness_about.2  hollows_ratio  class_bus  class_car  class_van  \n",
       "723             194.0            202          0          1          0  \n",
       "512             187.0            201          0          1          0  \n",
       "89              178.0            184          0          1          0  \n",
       "760             195.0            203          0          1          0  \n",
       "288             187.0            194          0          1          0  \n",
       "\n",
       "[5 rows x 21 columns]"
      ]
     },
     "execution_count": 7,
     "metadata": {},
     "output_type": "execute_result"
    }
   ],
   "source": [
    "df_enc.sample(5)"
   ]
  },
  {
   "cell_type": "markdown",
   "metadata": {},
   "source": [
    "Columns having missing values"
   ]
  },
  {
   "cell_type": "code",
   "execution_count": 8,
   "metadata": {},
   "outputs": [
    {
     "data": {
      "text/plain": [
       "Index(['circularity', 'distance_circularity', 'radius_ratio',\n",
       "       'pr.axis_aspect_ratio', 'scatter_ratio', 'elongatedness',\n",
       "       'pr.axis_rectangularity', 'scaled_variance', 'scaled_variance.1',\n",
       "       'scaled_radius_of_gyration', 'scaled_radius_of_gyration.1',\n",
       "       'skewness_about', 'skewness_about.1', 'skewness_about.2'],\n",
       "      dtype='object')"
      ]
     },
     "execution_count": 8,
     "metadata": {},
     "output_type": "execute_result"
    }
   ],
   "source": [
    "df_enc.isnull().sum()[df_enc.isnull().sum() > 0].index"
   ]
  },
  {
   "cell_type": "code",
   "execution_count": 9,
   "metadata": {},
   "outputs": [],
   "source": [
    "null_df = df_enc[df_enc['circularity'].isnull()|df_enc['distance_circularity'].isnull()|df_enc['radius_ratio'].isnull()|df_enc['pr.axis_aspect_ratio'].isnull()|df_enc['scatter_ratio'].isnull()|df_enc['elongatedness'].isnull()|df_enc['pr.axis_rectangularity'].isnull()|df_enc['scaled_variance'].isnull()|df_enc['scaled_variance.1'].isnull()|df_enc['scaled_radius_of_gyration'].isnull()|df_enc['scaled_radius_of_gyration.1'].isnull()|df_enc['skewness_about'].isnull()|df_enc['skewness_about.1'].isnull()|df_enc['skewness_about.2'].isnull()]"
   ]
  },
  {
   "cell_type": "code",
   "execution_count": 10,
   "metadata": {},
   "outputs": [
    {
     "data": {
      "text/plain": [
       "(33, 21)"
      ]
     },
     "execution_count": 10,
     "metadata": {},
     "output_type": "execute_result"
    }
   ],
   "source": [
    "null_df.shape"
   ]
  },
  {
   "cell_type": "code",
   "execution_count": 11,
   "metadata": {},
   "outputs": [],
   "source": [
    "not_null_df = df_enc[~df_enc.index.isin(null_df.index)]"
   ]
  },
  {
   "cell_type": "code",
   "execution_count": 12,
   "metadata": {},
   "outputs": [
    {
     "data": {
      "text/plain": [
       "(813, 21)"
      ]
     },
     "execution_count": 12,
     "metadata": {},
     "output_type": "execute_result"
    }
   ],
   "source": [
    "not_null_df.shape"
   ]
  },
  {
   "cell_type": "code",
   "execution_count": 13,
   "metadata": {},
   "outputs": [
    {
     "data": {
      "text/html": [
       "<div>\n",
       "<style scoped>\n",
       "    .dataframe tbody tr th:only-of-type {\n",
       "        vertical-align: middle;\n",
       "    }\n",
       "\n",
       "    .dataframe tbody tr th {\n",
       "        vertical-align: top;\n",
       "    }\n",
       "\n",
       "    .dataframe thead th {\n",
       "        text-align: right;\n",
       "    }\n",
       "</style>\n",
       "<table border=\"1\" class=\"dataframe\">\n",
       "  <thead>\n",
       "    <tr style=\"text-align: right;\">\n",
       "      <th></th>\n",
       "      <th>compactness</th>\n",
       "      <th>circularity</th>\n",
       "      <th>distance_circularity</th>\n",
       "      <th>radius_ratio</th>\n",
       "      <th>pr.axis_aspect_ratio</th>\n",
       "      <th>max.length_aspect_ratio</th>\n",
       "      <th>scatter_ratio</th>\n",
       "      <th>elongatedness</th>\n",
       "      <th>pr.axis_rectangularity</th>\n",
       "      <th>max.length_rectangularity</th>\n",
       "      <th>...</th>\n",
       "      <th>scaled_variance.1</th>\n",
       "      <th>scaled_radius_of_gyration</th>\n",
       "      <th>scaled_radius_of_gyration.1</th>\n",
       "      <th>skewness_about</th>\n",
       "      <th>skewness_about.1</th>\n",
       "      <th>skewness_about.2</th>\n",
       "      <th>hollows_ratio</th>\n",
       "      <th>class_bus</th>\n",
       "      <th>class_car</th>\n",
       "      <th>class_van</th>\n",
       "    </tr>\n",
       "  </thead>\n",
       "  <tbody>\n",
       "    <tr>\n",
       "      <th>5</th>\n",
       "      <td>107</td>\n",
       "      <td>NaN</td>\n",
       "      <td>106.0</td>\n",
       "      <td>172.0</td>\n",
       "      <td>50.0</td>\n",
       "      <td>6</td>\n",
       "      <td>255.0</td>\n",
       "      <td>26.0</td>\n",
       "      <td>28.0</td>\n",
       "      <td>169</td>\n",
       "      <td>...</td>\n",
       "      <td>957.0</td>\n",
       "      <td>264.0</td>\n",
       "      <td>85.0</td>\n",
       "      <td>5.0</td>\n",
       "      <td>9.0</td>\n",
       "      <td>181.0</td>\n",
       "      <td>183</td>\n",
       "      <td>1</td>\n",
       "      <td>0</td>\n",
       "      <td>0</td>\n",
       "    </tr>\n",
       "    <tr>\n",
       "      <th>9</th>\n",
       "      <td>93</td>\n",
       "      <td>44.0</td>\n",
       "      <td>98.0</td>\n",
       "      <td>NaN</td>\n",
       "      <td>62.0</td>\n",
       "      <td>11</td>\n",
       "      <td>183.0</td>\n",
       "      <td>36.0</td>\n",
       "      <td>22.0</td>\n",
       "      <td>146</td>\n",
       "      <td>...</td>\n",
       "      <td>505.0</td>\n",
       "      <td>152.0</td>\n",
       "      <td>64.0</td>\n",
       "      <td>4.0</td>\n",
       "      <td>14.0</td>\n",
       "      <td>195.0</td>\n",
       "      <td>204</td>\n",
       "      <td>0</td>\n",
       "      <td>1</td>\n",
       "      <td>0</td>\n",
       "    </tr>\n",
       "    <tr>\n",
       "      <th>19</th>\n",
       "      <td>101</td>\n",
       "      <td>56.0</td>\n",
       "      <td>100.0</td>\n",
       "      <td>215.0</td>\n",
       "      <td>NaN</td>\n",
       "      <td>10</td>\n",
       "      <td>208.0</td>\n",
       "      <td>32.0</td>\n",
       "      <td>24.0</td>\n",
       "      <td>169</td>\n",
       "      <td>...</td>\n",
       "      <td>651.0</td>\n",
       "      <td>223.0</td>\n",
       "      <td>74.0</td>\n",
       "      <td>6.0</td>\n",
       "      <td>5.0</td>\n",
       "      <td>186.0</td>\n",
       "      <td>193</td>\n",
       "      <td>0</td>\n",
       "      <td>1</td>\n",
       "      <td>0</td>\n",
       "    </tr>\n",
       "    <tr>\n",
       "      <th>35</th>\n",
       "      <td>100</td>\n",
       "      <td>46.0</td>\n",
       "      <td>NaN</td>\n",
       "      <td>172.0</td>\n",
       "      <td>67.0</td>\n",
       "      <td>9</td>\n",
       "      <td>157.0</td>\n",
       "      <td>43.0</td>\n",
       "      <td>20.0</td>\n",
       "      <td>150</td>\n",
       "      <td>...</td>\n",
       "      <td>363.0</td>\n",
       "      <td>184.0</td>\n",
       "      <td>67.0</td>\n",
       "      <td>17.0</td>\n",
       "      <td>7.0</td>\n",
       "      <td>192.0</td>\n",
       "      <td>200</td>\n",
       "      <td>0</td>\n",
       "      <td>0</td>\n",
       "      <td>1</td>\n",
       "    </tr>\n",
       "    <tr>\n",
       "      <th>66</th>\n",
       "      <td>81</td>\n",
       "      <td>43.0</td>\n",
       "      <td>68.0</td>\n",
       "      <td>125.0</td>\n",
       "      <td>57.0</td>\n",
       "      <td>8</td>\n",
       "      <td>149.0</td>\n",
       "      <td>46.0</td>\n",
       "      <td>19.0</td>\n",
       "      <td>146</td>\n",
       "      <td>...</td>\n",
       "      <td>323.0</td>\n",
       "      <td>172.0</td>\n",
       "      <td>NaN</td>\n",
       "      <td>NaN</td>\n",
       "      <td>18.0</td>\n",
       "      <td>179.0</td>\n",
       "      <td>184</td>\n",
       "      <td>1</td>\n",
       "      <td>0</td>\n",
       "      <td>0</td>\n",
       "    </tr>\n",
       "    <tr>\n",
       "      <th>70</th>\n",
       "      <td>96</td>\n",
       "      <td>55.0</td>\n",
       "      <td>98.0</td>\n",
       "      <td>161.0</td>\n",
       "      <td>54.0</td>\n",
       "      <td>10</td>\n",
       "      <td>215.0</td>\n",
       "      <td>31.0</td>\n",
       "      <td>NaN</td>\n",
       "      <td>175</td>\n",
       "      <td>...</td>\n",
       "      <td>683.0</td>\n",
       "      <td>221.0</td>\n",
       "      <td>76.0</td>\n",
       "      <td>3.0</td>\n",
       "      <td>6.0</td>\n",
       "      <td>185.0</td>\n",
       "      <td>193</td>\n",
       "      <td>0</td>\n",
       "      <td>1</td>\n",
       "      <td>0</td>\n",
       "    </tr>\n",
       "    <tr>\n",
       "      <th>77</th>\n",
       "      <td>86</td>\n",
       "      <td>40.0</td>\n",
       "      <td>62.0</td>\n",
       "      <td>140.0</td>\n",
       "      <td>62.0</td>\n",
       "      <td>7</td>\n",
       "      <td>150.0</td>\n",
       "      <td>45.0</td>\n",
       "      <td>19.0</td>\n",
       "      <td>133</td>\n",
       "      <td>...</td>\n",
       "      <td>330.0</td>\n",
       "      <td>173.0</td>\n",
       "      <td>NaN</td>\n",
       "      <td>2.0</td>\n",
       "      <td>3.0</td>\n",
       "      <td>180.0</td>\n",
       "      <td>185</td>\n",
       "      <td>0</td>\n",
       "      <td>1</td>\n",
       "      <td>0</td>\n",
       "    </tr>\n",
       "    <tr>\n",
       "      <th>78</th>\n",
       "      <td>104</td>\n",
       "      <td>52.0</td>\n",
       "      <td>94.0</td>\n",
       "      <td>NaN</td>\n",
       "      <td>66.0</td>\n",
       "      <td>5</td>\n",
       "      <td>208.0</td>\n",
       "      <td>31.0</td>\n",
       "      <td>24.0</td>\n",
       "      <td>161</td>\n",
       "      <td>...</td>\n",
       "      <td>666.0</td>\n",
       "      <td>218.0</td>\n",
       "      <td>76.0</td>\n",
       "      <td>11.0</td>\n",
       "      <td>4.0</td>\n",
       "      <td>193.0</td>\n",
       "      <td>191</td>\n",
       "      <td>1</td>\n",
       "      <td>0</td>\n",
       "      <td>0</td>\n",
       "    </tr>\n",
       "    <tr>\n",
       "      <th>105</th>\n",
       "      <td>108</td>\n",
       "      <td>NaN</td>\n",
       "      <td>103.0</td>\n",
       "      <td>202.0</td>\n",
       "      <td>64.0</td>\n",
       "      <td>10</td>\n",
       "      <td>220.0</td>\n",
       "      <td>30.0</td>\n",
       "      <td>25.0</td>\n",
       "      <td>168</td>\n",
       "      <td>...</td>\n",
       "      <td>711.0</td>\n",
       "      <td>214.0</td>\n",
       "      <td>73.0</td>\n",
       "      <td>11.0</td>\n",
       "      <td>NaN</td>\n",
       "      <td>188.0</td>\n",
       "      <td>199</td>\n",
       "      <td>0</td>\n",
       "      <td>1</td>\n",
       "      <td>0</td>\n",
       "    </tr>\n",
       "    <tr>\n",
       "      <th>118</th>\n",
       "      <td>85</td>\n",
       "      <td>NaN</td>\n",
       "      <td>NaN</td>\n",
       "      <td>128.0</td>\n",
       "      <td>56.0</td>\n",
       "      <td>8</td>\n",
       "      <td>150.0</td>\n",
       "      <td>46.0</td>\n",
       "      <td>19.0</td>\n",
       "      <td>144</td>\n",
       "      <td>...</td>\n",
       "      <td>324.0</td>\n",
       "      <td>173.0</td>\n",
       "      <td>82.0</td>\n",
       "      <td>9.0</td>\n",
       "      <td>14.0</td>\n",
       "      <td>180.0</td>\n",
       "      <td>184</td>\n",
       "      <td>1</td>\n",
       "      <td>0</td>\n",
       "      <td>0</td>\n",
       "    </tr>\n",
       "    <tr>\n",
       "      <th>141</th>\n",
       "      <td>81</td>\n",
       "      <td>42.0</td>\n",
       "      <td>63.0</td>\n",
       "      <td>125.0</td>\n",
       "      <td>55.0</td>\n",
       "      <td>8</td>\n",
       "      <td>149.0</td>\n",
       "      <td>46.0</td>\n",
       "      <td>19.0</td>\n",
       "      <td>145</td>\n",
       "      <td>...</td>\n",
       "      <td>320.0</td>\n",
       "      <td>172.0</td>\n",
       "      <td>86.0</td>\n",
       "      <td>NaN</td>\n",
       "      <td>7.0</td>\n",
       "      <td>179.0</td>\n",
       "      <td>182</td>\n",
       "      <td>1</td>\n",
       "      <td>0</td>\n",
       "      <td>0</td>\n",
       "    </tr>\n",
       "    <tr>\n",
       "      <th>159</th>\n",
       "      <td>91</td>\n",
       "      <td>45.0</td>\n",
       "      <td>75.0</td>\n",
       "      <td>NaN</td>\n",
       "      <td>57.0</td>\n",
       "      <td>6</td>\n",
       "      <td>150.0</td>\n",
       "      <td>44.0</td>\n",
       "      <td>19.0</td>\n",
       "      <td>146</td>\n",
       "      <td>...</td>\n",
       "      <td>335.0</td>\n",
       "      <td>180.0</td>\n",
       "      <td>66.0</td>\n",
       "      <td>16.0</td>\n",
       "      <td>2.0</td>\n",
       "      <td>193.0</td>\n",
       "      <td>198</td>\n",
       "      <td>0</td>\n",
       "      <td>1</td>\n",
       "      <td>0</td>\n",
       "    </tr>\n",
       "    <tr>\n",
       "      <th>177</th>\n",
       "      <td>89</td>\n",
       "      <td>44.0</td>\n",
       "      <td>72.0</td>\n",
       "      <td>160.0</td>\n",
       "      <td>66.0</td>\n",
       "      <td>7</td>\n",
       "      <td>144.0</td>\n",
       "      <td>46.0</td>\n",
       "      <td>19.0</td>\n",
       "      <td>147</td>\n",
       "      <td>...</td>\n",
       "      <td>312.0</td>\n",
       "      <td>169.0</td>\n",
       "      <td>69.0</td>\n",
       "      <td>NaN</td>\n",
       "      <td>1.0</td>\n",
       "      <td>191.0</td>\n",
       "      <td>198</td>\n",
       "      <td>1</td>\n",
       "      <td>0</td>\n",
       "      <td>0</td>\n",
       "    </tr>\n",
       "    <tr>\n",
       "      <th>192</th>\n",
       "      <td>93</td>\n",
       "      <td>43.0</td>\n",
       "      <td>76.0</td>\n",
       "      <td>149.0</td>\n",
       "      <td>57.0</td>\n",
       "      <td>7</td>\n",
       "      <td>149.0</td>\n",
       "      <td>44.0</td>\n",
       "      <td>19.0</td>\n",
       "      <td>143</td>\n",
       "      <td>...</td>\n",
       "      <td>335.0</td>\n",
       "      <td>176.0</td>\n",
       "      <td>NaN</td>\n",
       "      <td>14.0</td>\n",
       "      <td>0.0</td>\n",
       "      <td>189.0</td>\n",
       "      <td>194</td>\n",
       "      <td>0</td>\n",
       "      <td>1</td>\n",
       "      <td>0</td>\n",
       "    </tr>\n",
       "    <tr>\n",
       "      <th>207</th>\n",
       "      <td>85</td>\n",
       "      <td>42.0</td>\n",
       "      <td>NaN</td>\n",
       "      <td>121.0</td>\n",
       "      <td>55.0</td>\n",
       "      <td>7</td>\n",
       "      <td>149.0</td>\n",
       "      <td>46.0</td>\n",
       "      <td>19.0</td>\n",
       "      <td>146</td>\n",
       "      <td>...</td>\n",
       "      <td>323.0</td>\n",
       "      <td>NaN</td>\n",
       "      <td>85.0</td>\n",
       "      <td>1.0</td>\n",
       "      <td>6.0</td>\n",
       "      <td>179.0</td>\n",
       "      <td>182</td>\n",
       "      <td>1</td>\n",
       "      <td>0</td>\n",
       "      <td>0</td>\n",
       "    </tr>\n",
       "    <tr>\n",
       "      <th>215</th>\n",
       "      <td>90</td>\n",
       "      <td>39.0</td>\n",
       "      <td>86.0</td>\n",
       "      <td>169.0</td>\n",
       "      <td>62.0</td>\n",
       "      <td>7</td>\n",
       "      <td>162.0</td>\n",
       "      <td>NaN</td>\n",
       "      <td>20.0</td>\n",
       "      <td>131</td>\n",
       "      <td>...</td>\n",
       "      <td>388.0</td>\n",
       "      <td>147.0</td>\n",
       "      <td>74.0</td>\n",
       "      <td>1.0</td>\n",
       "      <td>22.0</td>\n",
       "      <td>185.0</td>\n",
       "      <td>191</td>\n",
       "      <td>0</td>\n",
       "      <td>1</td>\n",
       "      <td>0</td>\n",
       "    </tr>\n",
       "    <tr>\n",
       "      <th>222</th>\n",
       "      <td>100</td>\n",
       "      <td>50.0</td>\n",
       "      <td>81.0</td>\n",
       "      <td>197.0</td>\n",
       "      <td>NaN</td>\n",
       "      <td>6</td>\n",
       "      <td>186.0</td>\n",
       "      <td>34.0</td>\n",
       "      <td>22.0</td>\n",
       "      <td>158</td>\n",
       "      <td>...</td>\n",
       "      <td>531.0</td>\n",
       "      <td>198.0</td>\n",
       "      <td>74.0</td>\n",
       "      <td>NaN</td>\n",
       "      <td>1.0</td>\n",
       "      <td>197.0</td>\n",
       "      <td>198</td>\n",
       "      <td>1</td>\n",
       "      <td>0</td>\n",
       "      <td>0</td>\n",
       "    </tr>\n",
       "    <tr>\n",
       "      <th>237</th>\n",
       "      <td>85</td>\n",
       "      <td>45.0</td>\n",
       "      <td>65.0</td>\n",
       "      <td>128.0</td>\n",
       "      <td>56.0</td>\n",
       "      <td>8</td>\n",
       "      <td>151.0</td>\n",
       "      <td>45.0</td>\n",
       "      <td>NaN</td>\n",
       "      <td>145</td>\n",
       "      <td>...</td>\n",
       "      <td>332.0</td>\n",
       "      <td>186.0</td>\n",
       "      <td>81.0</td>\n",
       "      <td>1.0</td>\n",
       "      <td>10.0</td>\n",
       "      <td>179.0</td>\n",
       "      <td>184</td>\n",
       "      <td>1</td>\n",
       "      <td>0</td>\n",
       "      <td>0</td>\n",
       "    </tr>\n",
       "    <tr>\n",
       "      <th>249</th>\n",
       "      <td>85</td>\n",
       "      <td>34.0</td>\n",
       "      <td>53.0</td>\n",
       "      <td>127.0</td>\n",
       "      <td>58.0</td>\n",
       "      <td>6</td>\n",
       "      <td>NaN</td>\n",
       "      <td>58.0</td>\n",
       "      <td>17.0</td>\n",
       "      <td>121</td>\n",
       "      <td>...</td>\n",
       "      <td>197.0</td>\n",
       "      <td>127.0</td>\n",
       "      <td>70.0</td>\n",
       "      <td>NaN</td>\n",
       "      <td>20.0</td>\n",
       "      <td>185.0</td>\n",
       "      <td>189</td>\n",
       "      <td>0</td>\n",
       "      <td>1</td>\n",
       "      <td>0</td>\n",
       "    </tr>\n",
       "    <tr>\n",
       "      <th>266</th>\n",
       "      <td>86</td>\n",
       "      <td>NaN</td>\n",
       "      <td>65.0</td>\n",
       "      <td>116.0</td>\n",
       "      <td>53.0</td>\n",
       "      <td>6</td>\n",
       "      <td>152.0</td>\n",
       "      <td>45.0</td>\n",
       "      <td>19.0</td>\n",
       "      <td>141</td>\n",
       "      <td>...</td>\n",
       "      <td>335.0</td>\n",
       "      <td>NaN</td>\n",
       "      <td>85.0</td>\n",
       "      <td>5.0</td>\n",
       "      <td>4.0</td>\n",
       "      <td>179.0</td>\n",
       "      <td>183</td>\n",
       "      <td>1</td>\n",
       "      <td>0</td>\n",
       "      <td>0</td>\n",
       "    </tr>\n",
       "    <tr>\n",
       "      <th>273</th>\n",
       "      <td>96</td>\n",
       "      <td>45.0</td>\n",
       "      <td>80.0</td>\n",
       "      <td>162.0</td>\n",
       "      <td>63.0</td>\n",
       "      <td>9</td>\n",
       "      <td>146.0</td>\n",
       "      <td>46.0</td>\n",
       "      <td>NaN</td>\n",
       "      <td>148</td>\n",
       "      <td>...</td>\n",
       "      <td>316.0</td>\n",
       "      <td>161.0</td>\n",
       "      <td>64.0</td>\n",
       "      <td>5.0</td>\n",
       "      <td>10.0</td>\n",
       "      <td>199.0</td>\n",
       "      <td>207</td>\n",
       "      <td>0</td>\n",
       "      <td>0</td>\n",
       "      <td>1</td>\n",
       "    </tr>\n",
       "    <tr>\n",
       "      <th>285</th>\n",
       "      <td>89</td>\n",
       "      <td>48.0</td>\n",
       "      <td>85.0</td>\n",
       "      <td>189.0</td>\n",
       "      <td>64.0</td>\n",
       "      <td>8</td>\n",
       "      <td>169.0</td>\n",
       "      <td>39.0</td>\n",
       "      <td>20.0</td>\n",
       "      <td>153</td>\n",
       "      <td>...</td>\n",
       "      <td>427.0</td>\n",
       "      <td>190.0</td>\n",
       "      <td>64.0</td>\n",
       "      <td>NaN</td>\n",
       "      <td>5.0</td>\n",
       "      <td>195.0</td>\n",
       "      <td>201</td>\n",
       "      <td>0</td>\n",
       "      <td>1</td>\n",
       "      <td>0</td>\n",
       "    </tr>\n",
       "    <tr>\n",
       "      <th>287</th>\n",
       "      <td>88</td>\n",
       "      <td>43.0</td>\n",
       "      <td>84.0</td>\n",
       "      <td>NaN</td>\n",
       "      <td>55.0</td>\n",
       "      <td>11</td>\n",
       "      <td>154.0</td>\n",
       "      <td>44.0</td>\n",
       "      <td>19.0</td>\n",
       "      <td>150</td>\n",
       "      <td>...</td>\n",
       "      <td>350.0</td>\n",
       "      <td>164.0</td>\n",
       "      <td>73.0</td>\n",
       "      <td>6.0</td>\n",
       "      <td>2.0</td>\n",
       "      <td>185.0</td>\n",
       "      <td>196</td>\n",
       "      <td>0</td>\n",
       "      <td>0</td>\n",
       "      <td>1</td>\n",
       "    </tr>\n",
       "    <tr>\n",
       "      <th>308</th>\n",
       "      <td>109</td>\n",
       "      <td>51.0</td>\n",
       "      <td>100.0</td>\n",
       "      <td>197.0</td>\n",
       "      <td>59.0</td>\n",
       "      <td>10</td>\n",
       "      <td>192.0</td>\n",
       "      <td>34.0</td>\n",
       "      <td>22.0</td>\n",
       "      <td>161</td>\n",
       "      <td>...</td>\n",
       "      <td>NaN</td>\n",
       "      <td>195.0</td>\n",
       "      <td>64.0</td>\n",
       "      <td>14.0</td>\n",
       "      <td>3.0</td>\n",
       "      <td>196.0</td>\n",
       "      <td>202</td>\n",
       "      <td>0</td>\n",
       "      <td>1</td>\n",
       "      <td>0</td>\n",
       "    </tr>\n",
       "    <tr>\n",
       "      <th>319</th>\n",
       "      <td>102</td>\n",
       "      <td>51.0</td>\n",
       "      <td>NaN</td>\n",
       "      <td>194.0</td>\n",
       "      <td>60.0</td>\n",
       "      <td>6</td>\n",
       "      <td>220.0</td>\n",
       "      <td>30.0</td>\n",
       "      <td>25.0</td>\n",
       "      <td>162</td>\n",
       "      <td>...</td>\n",
       "      <td>731.0</td>\n",
       "      <td>209.0</td>\n",
       "      <td>80.0</td>\n",
       "      <td>7.0</td>\n",
       "      <td>7.0</td>\n",
       "      <td>188.0</td>\n",
       "      <td>186</td>\n",
       "      <td>1</td>\n",
       "      <td>0</td>\n",
       "      <td>0</td>\n",
       "    </tr>\n",
       "    <tr>\n",
       "      <th>329</th>\n",
       "      <td>89</td>\n",
       "      <td>38.0</td>\n",
       "      <td>80.0</td>\n",
       "      <td>169.0</td>\n",
       "      <td>59.0</td>\n",
       "      <td>7</td>\n",
       "      <td>161.0</td>\n",
       "      <td>41.0</td>\n",
       "      <td>20.0</td>\n",
       "      <td>131</td>\n",
       "      <td>...</td>\n",
       "      <td>389.0</td>\n",
       "      <td>137.0</td>\n",
       "      <td>NaN</td>\n",
       "      <td>5.0</td>\n",
       "      <td>15.0</td>\n",
       "      <td>192.0</td>\n",
       "      <td>197</td>\n",
       "      <td>0</td>\n",
       "      <td>1</td>\n",
       "      <td>0</td>\n",
       "    </tr>\n",
       "    <tr>\n",
       "      <th>345</th>\n",
       "      <td>101</td>\n",
       "      <td>54.0</td>\n",
       "      <td>106.0</td>\n",
       "      <td>NaN</td>\n",
       "      <td>57.0</td>\n",
       "      <td>7</td>\n",
       "      <td>236.0</td>\n",
       "      <td>28.0</td>\n",
       "      <td>26.0</td>\n",
       "      <td>164</td>\n",
       "      <td>...</td>\n",
       "      <td>833.0</td>\n",
       "      <td>253.0</td>\n",
       "      <td>81.0</td>\n",
       "      <td>6.0</td>\n",
       "      <td>14.0</td>\n",
       "      <td>185.0</td>\n",
       "      <td>185</td>\n",
       "      <td>1</td>\n",
       "      <td>0</td>\n",
       "      <td>0</td>\n",
       "    </tr>\n",
       "    <tr>\n",
       "      <th>372</th>\n",
       "      <td>97</td>\n",
       "      <td>47.0</td>\n",
       "      <td>87.0</td>\n",
       "      <td>164.0</td>\n",
       "      <td>64.0</td>\n",
       "      <td>9</td>\n",
       "      <td>156.0</td>\n",
       "      <td>43.0</td>\n",
       "      <td>20.0</td>\n",
       "      <td>149</td>\n",
       "      <td>...</td>\n",
       "      <td>359.0</td>\n",
       "      <td>182.0</td>\n",
       "      <td>68.0</td>\n",
       "      <td>1.0</td>\n",
       "      <td>13.0</td>\n",
       "      <td>192.0</td>\n",
       "      <td>202</td>\n",
       "      <td>0</td>\n",
       "      <td>0</td>\n",
       "      <td>1</td>\n",
       "    </tr>\n",
       "    <tr>\n",
       "      <th>396</th>\n",
       "      <td>108</td>\n",
       "      <td>NaN</td>\n",
       "      <td>106.0</td>\n",
       "      <td>177.0</td>\n",
       "      <td>51.0</td>\n",
       "      <td>5</td>\n",
       "      <td>256.0</td>\n",
       "      <td>26.0</td>\n",
       "      <td>28.0</td>\n",
       "      <td>170</td>\n",
       "      <td>...</td>\n",
       "      <td>966.0</td>\n",
       "      <td>261.0</td>\n",
       "      <td>87.0</td>\n",
       "      <td>11.0</td>\n",
       "      <td>2.0</td>\n",
       "      <td>182.0</td>\n",
       "      <td>181</td>\n",
       "      <td>1</td>\n",
       "      <td>0</td>\n",
       "      <td>0</td>\n",
       "    </tr>\n",
       "    <tr>\n",
       "      <th>419</th>\n",
       "      <td>93</td>\n",
       "      <td>34.0</td>\n",
       "      <td>72.0</td>\n",
       "      <td>144.0</td>\n",
       "      <td>56.0</td>\n",
       "      <td>6</td>\n",
       "      <td>133.0</td>\n",
       "      <td>50.0</td>\n",
       "      <td>18.0</td>\n",
       "      <td>123</td>\n",
       "      <td>...</td>\n",
       "      <td>263.0</td>\n",
       "      <td>125.0</td>\n",
       "      <td>63.0</td>\n",
       "      <td>5.0</td>\n",
       "      <td>20.0</td>\n",
       "      <td>NaN</td>\n",
       "      <td>206</td>\n",
       "      <td>0</td>\n",
       "      <td>1</td>\n",
       "      <td>0</td>\n",
       "    </tr>\n",
       "    <tr>\n",
       "      <th>467</th>\n",
       "      <td>96</td>\n",
       "      <td>54.0</td>\n",
       "      <td>104.0</td>\n",
       "      <td>NaN</td>\n",
       "      <td>58.0</td>\n",
       "      <td>10</td>\n",
       "      <td>215.0</td>\n",
       "      <td>31.0</td>\n",
       "      <td>24.0</td>\n",
       "      <td>175</td>\n",
       "      <td>...</td>\n",
       "      <td>682.0</td>\n",
       "      <td>222.0</td>\n",
       "      <td>75.0</td>\n",
       "      <td>13.0</td>\n",
       "      <td>23.0</td>\n",
       "      <td>186.0</td>\n",
       "      <td>194</td>\n",
       "      <td>0</td>\n",
       "      <td>1</td>\n",
       "      <td>0</td>\n",
       "    </tr>\n",
       "    <tr>\n",
       "      <th>496</th>\n",
       "      <td>106</td>\n",
       "      <td>55.0</td>\n",
       "      <td>98.0</td>\n",
       "      <td>224.0</td>\n",
       "      <td>68.0</td>\n",
       "      <td>11</td>\n",
       "      <td>215.0</td>\n",
       "      <td>31.0</td>\n",
       "      <td>24.0</td>\n",
       "      <td>170</td>\n",
       "      <td>...</td>\n",
       "      <td>NaN</td>\n",
       "      <td>214.0</td>\n",
       "      <td>68.0</td>\n",
       "      <td>2.0</td>\n",
       "      <td>29.0</td>\n",
       "      <td>189.0</td>\n",
       "      <td>201</td>\n",
       "      <td>0</td>\n",
       "      <td>1</td>\n",
       "      <td>0</td>\n",
       "    </tr>\n",
       "    <tr>\n",
       "      <th>522</th>\n",
       "      <td>89</td>\n",
       "      <td>36.0</td>\n",
       "      <td>69.0</td>\n",
       "      <td>162.0</td>\n",
       "      <td>63.0</td>\n",
       "      <td>6</td>\n",
       "      <td>140.0</td>\n",
       "      <td>48.0</td>\n",
       "      <td>18.0</td>\n",
       "      <td>131</td>\n",
       "      <td>...</td>\n",
       "      <td>291.0</td>\n",
       "      <td>126.0</td>\n",
       "      <td>66.0</td>\n",
       "      <td>1.0</td>\n",
       "      <td>38.0</td>\n",
       "      <td>193.0</td>\n",
       "      <td>204</td>\n",
       "      <td>0</td>\n",
       "      <td>1</td>\n",
       "      <td>0</td>\n",
       "    </tr>\n",
       "  </tbody>\n",
       "</table>\n",
       "<p>33 rows × 21 columns</p>\n",
       "</div>"
      ],
      "text/plain": [
       "     compactness  circularity  distance_circularity  radius_ratio  \\\n",
       "5            107          NaN                 106.0         172.0   \n",
       "9             93         44.0                  98.0           NaN   \n",
       "19           101         56.0                 100.0         215.0   \n",
       "35           100         46.0                   NaN         172.0   \n",
       "66            81         43.0                  68.0         125.0   \n",
       "70            96         55.0                  98.0         161.0   \n",
       "77            86         40.0                  62.0         140.0   \n",
       "78           104         52.0                  94.0           NaN   \n",
       "105          108          NaN                 103.0         202.0   \n",
       "118           85          NaN                   NaN         128.0   \n",
       "141           81         42.0                  63.0         125.0   \n",
       "159           91         45.0                  75.0           NaN   \n",
       "177           89         44.0                  72.0         160.0   \n",
       "192           93         43.0                  76.0         149.0   \n",
       "207           85         42.0                   NaN         121.0   \n",
       "215           90         39.0                  86.0         169.0   \n",
       "222          100         50.0                  81.0         197.0   \n",
       "237           85         45.0                  65.0         128.0   \n",
       "249           85         34.0                  53.0         127.0   \n",
       "266           86          NaN                  65.0         116.0   \n",
       "273           96         45.0                  80.0         162.0   \n",
       "285           89         48.0                  85.0         189.0   \n",
       "287           88         43.0                  84.0           NaN   \n",
       "308          109         51.0                 100.0         197.0   \n",
       "319          102         51.0                   NaN         194.0   \n",
       "329           89         38.0                  80.0         169.0   \n",
       "345          101         54.0                 106.0           NaN   \n",
       "372           97         47.0                  87.0         164.0   \n",
       "396          108          NaN                 106.0         177.0   \n",
       "419           93         34.0                  72.0         144.0   \n",
       "467           96         54.0                 104.0           NaN   \n",
       "496          106         55.0                  98.0         224.0   \n",
       "522           89         36.0                  69.0         162.0   \n",
       "\n",
       "     pr.axis_aspect_ratio  max.length_aspect_ratio  scatter_ratio  \\\n",
       "5                    50.0                        6          255.0   \n",
       "9                    62.0                       11          183.0   \n",
       "19                    NaN                       10          208.0   \n",
       "35                   67.0                        9          157.0   \n",
       "66                   57.0                        8          149.0   \n",
       "70                   54.0                       10          215.0   \n",
       "77                   62.0                        7          150.0   \n",
       "78                   66.0                        5          208.0   \n",
       "105                  64.0                       10          220.0   \n",
       "118                  56.0                        8          150.0   \n",
       "141                  55.0                        8          149.0   \n",
       "159                  57.0                        6          150.0   \n",
       "177                  66.0                        7          144.0   \n",
       "192                  57.0                        7          149.0   \n",
       "207                  55.0                        7          149.0   \n",
       "215                  62.0                        7          162.0   \n",
       "222                   NaN                        6          186.0   \n",
       "237                  56.0                        8          151.0   \n",
       "249                  58.0                        6            NaN   \n",
       "266                  53.0                        6          152.0   \n",
       "273                  63.0                        9          146.0   \n",
       "285                  64.0                        8          169.0   \n",
       "287                  55.0                       11          154.0   \n",
       "308                  59.0                       10          192.0   \n",
       "319                  60.0                        6          220.0   \n",
       "329                  59.0                        7          161.0   \n",
       "345                  57.0                        7          236.0   \n",
       "372                  64.0                        9          156.0   \n",
       "396                  51.0                        5          256.0   \n",
       "419                  56.0                        6          133.0   \n",
       "467                  58.0                       10          215.0   \n",
       "496                  68.0                       11          215.0   \n",
       "522                  63.0                        6          140.0   \n",
       "\n",
       "     elongatedness  pr.axis_rectangularity  max.length_rectangularity  ...  \\\n",
       "5             26.0                    28.0                        169  ...   \n",
       "9             36.0                    22.0                        146  ...   \n",
       "19            32.0                    24.0                        169  ...   \n",
       "35            43.0                    20.0                        150  ...   \n",
       "66            46.0                    19.0                        146  ...   \n",
       "70            31.0                     NaN                        175  ...   \n",
       "77            45.0                    19.0                        133  ...   \n",
       "78            31.0                    24.0                        161  ...   \n",
       "105           30.0                    25.0                        168  ...   \n",
       "118           46.0                    19.0                        144  ...   \n",
       "141           46.0                    19.0                        145  ...   \n",
       "159           44.0                    19.0                        146  ...   \n",
       "177           46.0                    19.0                        147  ...   \n",
       "192           44.0                    19.0                        143  ...   \n",
       "207           46.0                    19.0                        146  ...   \n",
       "215            NaN                    20.0                        131  ...   \n",
       "222           34.0                    22.0                        158  ...   \n",
       "237           45.0                     NaN                        145  ...   \n",
       "249           58.0                    17.0                        121  ...   \n",
       "266           45.0                    19.0                        141  ...   \n",
       "273           46.0                     NaN                        148  ...   \n",
       "285           39.0                    20.0                        153  ...   \n",
       "287           44.0                    19.0                        150  ...   \n",
       "308           34.0                    22.0                        161  ...   \n",
       "319           30.0                    25.0                        162  ...   \n",
       "329           41.0                    20.0                        131  ...   \n",
       "345           28.0                    26.0                        164  ...   \n",
       "372           43.0                    20.0                        149  ...   \n",
       "396           26.0                    28.0                        170  ...   \n",
       "419           50.0                    18.0                        123  ...   \n",
       "467           31.0                    24.0                        175  ...   \n",
       "496           31.0                    24.0                        170  ...   \n",
       "522           48.0                    18.0                        131  ...   \n",
       "\n",
       "     scaled_variance.1  scaled_radius_of_gyration  \\\n",
       "5                957.0                      264.0   \n",
       "9                505.0                      152.0   \n",
       "19               651.0                      223.0   \n",
       "35               363.0                      184.0   \n",
       "66               323.0                      172.0   \n",
       "70               683.0                      221.0   \n",
       "77               330.0                      173.0   \n",
       "78               666.0                      218.0   \n",
       "105              711.0                      214.0   \n",
       "118              324.0                      173.0   \n",
       "141              320.0                      172.0   \n",
       "159              335.0                      180.0   \n",
       "177              312.0                      169.0   \n",
       "192              335.0                      176.0   \n",
       "207              323.0                        NaN   \n",
       "215              388.0                      147.0   \n",
       "222              531.0                      198.0   \n",
       "237              332.0                      186.0   \n",
       "249              197.0                      127.0   \n",
       "266              335.0                        NaN   \n",
       "273              316.0                      161.0   \n",
       "285              427.0                      190.0   \n",
       "287              350.0                      164.0   \n",
       "308                NaN                      195.0   \n",
       "319              731.0                      209.0   \n",
       "329              389.0                      137.0   \n",
       "345              833.0                      253.0   \n",
       "372              359.0                      182.0   \n",
       "396              966.0                      261.0   \n",
       "419              263.0                      125.0   \n",
       "467              682.0                      222.0   \n",
       "496                NaN                      214.0   \n",
       "522              291.0                      126.0   \n",
       "\n",
       "     scaled_radius_of_gyration.1  skewness_about  skewness_about.1  \\\n",
       "5                           85.0             5.0               9.0   \n",
       "9                           64.0             4.0              14.0   \n",
       "19                          74.0             6.0               5.0   \n",
       "35                          67.0            17.0               7.0   \n",
       "66                           NaN             NaN              18.0   \n",
       "70                          76.0             3.0               6.0   \n",
       "77                           NaN             2.0               3.0   \n",
       "78                          76.0            11.0               4.0   \n",
       "105                         73.0            11.0               NaN   \n",
       "118                         82.0             9.0              14.0   \n",
       "141                         86.0             NaN               7.0   \n",
       "159                         66.0            16.0               2.0   \n",
       "177                         69.0             NaN               1.0   \n",
       "192                          NaN            14.0               0.0   \n",
       "207                         85.0             1.0               6.0   \n",
       "215                         74.0             1.0              22.0   \n",
       "222                         74.0             NaN               1.0   \n",
       "237                         81.0             1.0              10.0   \n",
       "249                         70.0             NaN              20.0   \n",
       "266                         85.0             5.0               4.0   \n",
       "273                         64.0             5.0              10.0   \n",
       "285                         64.0             NaN               5.0   \n",
       "287                         73.0             6.0               2.0   \n",
       "308                         64.0            14.0               3.0   \n",
       "319                         80.0             7.0               7.0   \n",
       "329                          NaN             5.0              15.0   \n",
       "345                         81.0             6.0              14.0   \n",
       "372                         68.0             1.0              13.0   \n",
       "396                         87.0            11.0               2.0   \n",
       "419                         63.0             5.0              20.0   \n",
       "467                         75.0            13.0              23.0   \n",
       "496                         68.0             2.0              29.0   \n",
       "522                         66.0             1.0              38.0   \n",
       "\n",
       "     skewness_about.2  hollows_ratio  class_bus  class_car  class_van  \n",
       "5               181.0            183          1          0          0  \n",
       "9               195.0            204          0          1          0  \n",
       "19              186.0            193          0          1          0  \n",
       "35              192.0            200          0          0          1  \n",
       "66              179.0            184          1          0          0  \n",
       "70              185.0            193          0          1          0  \n",
       "77              180.0            185          0          1          0  \n",
       "78              193.0            191          1          0          0  \n",
       "105             188.0            199          0          1          0  \n",
       "118             180.0            184          1          0          0  \n",
       "141             179.0            182          1          0          0  \n",
       "159             193.0            198          0          1          0  \n",
       "177             191.0            198          1          0          0  \n",
       "192             189.0            194          0          1          0  \n",
       "207             179.0            182          1          0          0  \n",
       "215             185.0            191          0          1          0  \n",
       "222             197.0            198          1          0          0  \n",
       "237             179.0            184          1          0          0  \n",
       "249             185.0            189          0          1          0  \n",
       "266             179.0            183          1          0          0  \n",
       "273             199.0            207          0          0          1  \n",
       "285             195.0            201          0          1          0  \n",
       "287             185.0            196          0          0          1  \n",
       "308             196.0            202          0          1          0  \n",
       "319             188.0            186          1          0          0  \n",
       "329             192.0            197          0          1          0  \n",
       "345             185.0            185          1          0          0  \n",
       "372             192.0            202          0          0          1  \n",
       "396             182.0            181          1          0          0  \n",
       "419               NaN            206          0          1          0  \n",
       "467             186.0            194          0          1          0  \n",
       "496             189.0            201          0          1          0  \n",
       "522             193.0            204          0          1          0  \n",
       "\n",
       "[33 rows x 21 columns]"
      ]
     },
     "execution_count": 13,
     "metadata": {},
     "output_type": "execute_result"
    }
   ],
   "source": [
    "null_df.head(33)"
   ]
  },
  {
   "cell_type": "markdown",
   "metadata": {},
   "source": [
    "#### Filling the missing values using linear regression.  Instead of using the standard impute techniques of mean, mode & median"
   ]
  },
  {
   "cell_type": "code",
   "execution_count": 14,
   "metadata": {},
   "outputs": [],
   "source": [
    "X=not_null_df.drop('radius_ratio',axis=1)"
   ]
  },
  {
   "cell_type": "code",
   "execution_count": 15,
   "metadata": {},
   "outputs": [],
   "source": [
    "y=not_null_df['radius_ratio']"
   ]
  },
  {
   "cell_type": "code",
   "execution_count": 16,
   "metadata": {},
   "outputs": [],
   "source": [
    "from sklearn.model_selection import train_test_split\n",
    "xTrain, xTest, yTrain, yTest = train_test_split(X,y,test_size=0.2, random_state=24)"
   ]
  },
  {
   "cell_type": "code",
   "execution_count": 17,
   "metadata": {},
   "outputs": [],
   "source": [
    "from sklearn.linear_model import LinearRegression"
   ]
  },
  {
   "cell_type": "code",
   "execution_count": 18,
   "metadata": {},
   "outputs": [],
   "source": [
    "model = LinearRegression()"
   ]
  },
  {
   "cell_type": "code",
   "execution_count": 19,
   "metadata": {},
   "outputs": [
    {
     "data": {
      "text/plain": [
       "LinearRegression(copy_X=True, fit_intercept=True, n_jobs=None, normalize=False)"
      ]
     },
     "execution_count": 19,
     "metadata": {},
     "output_type": "execute_result"
    }
   ],
   "source": [
    "model.fit(xTrain,yTrain)"
   ]
  },
  {
   "cell_type": "code",
   "execution_count": 20,
   "metadata": {},
   "outputs": [
    {
     "data": {
      "text/plain": [
       "0.9860137745624046"
      ]
     },
     "execution_count": 20,
     "metadata": {},
     "output_type": "execute_result"
    }
   ],
   "source": [
    "model.score(xTest,yTest)"
   ]
  },
  {
   "cell_type": "code",
   "execution_count": 21,
   "metadata": {},
   "outputs": [],
   "source": [
    "x_null = null_df[null_df['radius_ratio'].isnull()]"
   ]
  },
  {
   "cell_type": "code",
   "execution_count": 22,
   "metadata": {},
   "outputs": [],
   "source": [
    "x_null= x_null.drop('radius_ratio',axis=1)"
   ]
  },
  {
   "cell_type": "code",
   "execution_count": 23,
   "metadata": {},
   "outputs": [
    {
     "data": {
      "text/html": [
       "<div>\n",
       "<style scoped>\n",
       "    .dataframe tbody tr th:only-of-type {\n",
       "        vertical-align: middle;\n",
       "    }\n",
       "\n",
       "    .dataframe tbody tr th {\n",
       "        vertical-align: top;\n",
       "    }\n",
       "\n",
       "    .dataframe thead th {\n",
       "        text-align: right;\n",
       "    }\n",
       "</style>\n",
       "<table border=\"1\" class=\"dataframe\">\n",
       "  <thead>\n",
       "    <tr style=\"text-align: right;\">\n",
       "      <th></th>\n",
       "      <th>compactness</th>\n",
       "      <th>circularity</th>\n",
       "      <th>distance_circularity</th>\n",
       "      <th>pr.axis_aspect_ratio</th>\n",
       "      <th>max.length_aspect_ratio</th>\n",
       "      <th>scatter_ratio</th>\n",
       "      <th>elongatedness</th>\n",
       "      <th>pr.axis_rectangularity</th>\n",
       "      <th>max.length_rectangularity</th>\n",
       "      <th>scaled_variance</th>\n",
       "      <th>scaled_variance.1</th>\n",
       "      <th>scaled_radius_of_gyration</th>\n",
       "      <th>scaled_radius_of_gyration.1</th>\n",
       "      <th>skewness_about</th>\n",
       "      <th>skewness_about.1</th>\n",
       "      <th>skewness_about.2</th>\n",
       "      <th>hollows_ratio</th>\n",
       "      <th>class_bus</th>\n",
       "      <th>class_car</th>\n",
       "      <th>class_van</th>\n",
       "    </tr>\n",
       "  </thead>\n",
       "  <tbody>\n",
       "    <tr>\n",
       "      <th>9</th>\n",
       "      <td>93</td>\n",
       "      <td>44.0</td>\n",
       "      <td>98.0</td>\n",
       "      <td>62.0</td>\n",
       "      <td>11</td>\n",
       "      <td>183.0</td>\n",
       "      <td>36.0</td>\n",
       "      <td>22.0</td>\n",
       "      <td>146</td>\n",
       "      <td>202.0</td>\n",
       "      <td>505.0</td>\n",
       "      <td>152.0</td>\n",
       "      <td>64.0</td>\n",
       "      <td>4.0</td>\n",
       "      <td>14.0</td>\n",
       "      <td>195.0</td>\n",
       "      <td>204</td>\n",
       "      <td>0</td>\n",
       "      <td>1</td>\n",
       "      <td>0</td>\n",
       "    </tr>\n",
       "    <tr>\n",
       "      <th>78</th>\n",
       "      <td>104</td>\n",
       "      <td>52.0</td>\n",
       "      <td>94.0</td>\n",
       "      <td>66.0</td>\n",
       "      <td>5</td>\n",
       "      <td>208.0</td>\n",
       "      <td>31.0</td>\n",
       "      <td>24.0</td>\n",
       "      <td>161</td>\n",
       "      <td>227.0</td>\n",
       "      <td>666.0</td>\n",
       "      <td>218.0</td>\n",
       "      <td>76.0</td>\n",
       "      <td>11.0</td>\n",
       "      <td>4.0</td>\n",
       "      <td>193.0</td>\n",
       "      <td>191</td>\n",
       "      <td>1</td>\n",
       "      <td>0</td>\n",
       "      <td>0</td>\n",
       "    </tr>\n",
       "    <tr>\n",
       "      <th>159</th>\n",
       "      <td>91</td>\n",
       "      <td>45.0</td>\n",
       "      <td>75.0</td>\n",
       "      <td>57.0</td>\n",
       "      <td>6</td>\n",
       "      <td>150.0</td>\n",
       "      <td>44.0</td>\n",
       "      <td>19.0</td>\n",
       "      <td>146</td>\n",
       "      <td>170.0</td>\n",
       "      <td>335.0</td>\n",
       "      <td>180.0</td>\n",
       "      <td>66.0</td>\n",
       "      <td>16.0</td>\n",
       "      <td>2.0</td>\n",
       "      <td>193.0</td>\n",
       "      <td>198</td>\n",
       "      <td>0</td>\n",
       "      <td>1</td>\n",
       "      <td>0</td>\n",
       "    </tr>\n",
       "    <tr>\n",
       "      <th>287</th>\n",
       "      <td>88</td>\n",
       "      <td>43.0</td>\n",
       "      <td>84.0</td>\n",
       "      <td>55.0</td>\n",
       "      <td>11</td>\n",
       "      <td>154.0</td>\n",
       "      <td>44.0</td>\n",
       "      <td>19.0</td>\n",
       "      <td>150</td>\n",
       "      <td>174.0</td>\n",
       "      <td>350.0</td>\n",
       "      <td>164.0</td>\n",
       "      <td>73.0</td>\n",
       "      <td>6.0</td>\n",
       "      <td>2.0</td>\n",
       "      <td>185.0</td>\n",
       "      <td>196</td>\n",
       "      <td>0</td>\n",
       "      <td>0</td>\n",
       "      <td>1</td>\n",
       "    </tr>\n",
       "    <tr>\n",
       "      <th>345</th>\n",
       "      <td>101</td>\n",
       "      <td>54.0</td>\n",
       "      <td>106.0</td>\n",
       "      <td>57.0</td>\n",
       "      <td>7</td>\n",
       "      <td>236.0</td>\n",
       "      <td>28.0</td>\n",
       "      <td>26.0</td>\n",
       "      <td>164</td>\n",
       "      <td>256.0</td>\n",
       "      <td>833.0</td>\n",
       "      <td>253.0</td>\n",
       "      <td>81.0</td>\n",
       "      <td>6.0</td>\n",
       "      <td>14.0</td>\n",
       "      <td>185.0</td>\n",
       "      <td>185</td>\n",
       "      <td>1</td>\n",
       "      <td>0</td>\n",
       "      <td>0</td>\n",
       "    </tr>\n",
       "    <tr>\n",
       "      <th>467</th>\n",
       "      <td>96</td>\n",
       "      <td>54.0</td>\n",
       "      <td>104.0</td>\n",
       "      <td>58.0</td>\n",
       "      <td>10</td>\n",
       "      <td>215.0</td>\n",
       "      <td>31.0</td>\n",
       "      <td>24.0</td>\n",
       "      <td>175</td>\n",
       "      <td>221.0</td>\n",
       "      <td>682.0</td>\n",
       "      <td>222.0</td>\n",
       "      <td>75.0</td>\n",
       "      <td>13.0</td>\n",
       "      <td>23.0</td>\n",
       "      <td>186.0</td>\n",
       "      <td>194</td>\n",
       "      <td>0</td>\n",
       "      <td>1</td>\n",
       "      <td>0</td>\n",
       "    </tr>\n",
       "  </tbody>\n",
       "</table>\n",
       "</div>"
      ],
      "text/plain": [
       "     compactness  circularity  distance_circularity  pr.axis_aspect_ratio  \\\n",
       "9             93         44.0                  98.0                  62.0   \n",
       "78           104         52.0                  94.0                  66.0   \n",
       "159           91         45.0                  75.0                  57.0   \n",
       "287           88         43.0                  84.0                  55.0   \n",
       "345          101         54.0                 106.0                  57.0   \n",
       "467           96         54.0                 104.0                  58.0   \n",
       "\n",
       "     max.length_aspect_ratio  scatter_ratio  elongatedness  \\\n",
       "9                         11          183.0           36.0   \n",
       "78                         5          208.0           31.0   \n",
       "159                        6          150.0           44.0   \n",
       "287                       11          154.0           44.0   \n",
       "345                        7          236.0           28.0   \n",
       "467                       10          215.0           31.0   \n",
       "\n",
       "     pr.axis_rectangularity  max.length_rectangularity  scaled_variance  \\\n",
       "9                      22.0                        146            202.0   \n",
       "78                     24.0                        161            227.0   \n",
       "159                    19.0                        146            170.0   \n",
       "287                    19.0                        150            174.0   \n",
       "345                    26.0                        164            256.0   \n",
       "467                    24.0                        175            221.0   \n",
       "\n",
       "     scaled_variance.1  scaled_radius_of_gyration  \\\n",
       "9                505.0                      152.0   \n",
       "78               666.0                      218.0   \n",
       "159              335.0                      180.0   \n",
       "287              350.0                      164.0   \n",
       "345              833.0                      253.0   \n",
       "467              682.0                      222.0   \n",
       "\n",
       "     scaled_radius_of_gyration.1  skewness_about  skewness_about.1  \\\n",
       "9                           64.0             4.0              14.0   \n",
       "78                          76.0            11.0               4.0   \n",
       "159                         66.0            16.0               2.0   \n",
       "287                         73.0             6.0               2.0   \n",
       "345                         81.0             6.0              14.0   \n",
       "467                         75.0            13.0              23.0   \n",
       "\n",
       "     skewness_about.2  hollows_ratio  class_bus  class_car  class_van  \n",
       "9               195.0            204          0          1          0  \n",
       "78              193.0            191          1          0          0  \n",
       "159             193.0            198          0          1          0  \n",
       "287             185.0            196          0          0          1  \n",
       "345             185.0            185          1          0          0  \n",
       "467             186.0            194          0          1          0  "
      ]
     },
     "execution_count": 23,
     "metadata": {},
     "output_type": "execute_result"
    }
   ],
   "source": [
    "x_null\n"
   ]
  },
  {
   "cell_type": "code",
   "execution_count": 24,
   "metadata": {},
   "outputs": [],
   "source": [
    "values= model.predict(x_null)"
   ]
  },
  {
   "cell_type": "code",
   "execution_count": 25,
   "metadata": {},
   "outputs": [],
   "source": [
    "values = values.astype('int64')"
   ]
  },
  {
   "cell_type": "code",
   "execution_count": 26,
   "metadata": {},
   "outputs": [],
   "source": [
    "x_null['radius_ratio']=values"
   ]
  },
  {
   "cell_type": "code",
   "execution_count": 27,
   "metadata": {},
   "outputs": [
    {
     "name": "stderr",
     "output_type": "stream",
     "text": [
      "D:\\ProgramData\\Anaconda3\\lib\\site-packages\\ipykernel_launcher.py:2: FutureWarning: set_value is deprecated and will be removed in a future release. Please use .at[] or .iat[] accessors instead\n",
      "  \n",
      "D:\\ProgramData\\Anaconda3\\lib\\site-packages\\ipykernel_launcher.py:3: FutureWarning: set_value is deprecated and will be removed in a future release. Please use .at[] or .iat[] accessors instead\n",
      "  This is separate from the ipykernel package so we can avoid doing imports until\n"
     ]
    }
   ],
   "source": [
    "for x in x_null['radius_ratio'].iteritems():\n",
    "    null_df.set_value(x[0],'radius_ratio',x[1])\n",
    "    df_enc.set_value(x[0],'radius_ratio',x[1])"
   ]
  },
  {
   "cell_type": "code",
   "execution_count": 28,
   "metadata": {},
   "outputs": [
    {
     "data": {
      "text/plain": [
       "compactness                    0\n",
       "circularity                    5\n",
       "distance_circularity           4\n",
       "radius_ratio                   0\n",
       "pr.axis_aspect_ratio           2\n",
       "max.length_aspect_ratio        0\n",
       "scatter_ratio                  1\n",
       "elongatedness                  1\n",
       "pr.axis_rectangularity         3\n",
       "max.length_rectangularity      0\n",
       "scaled_variance                3\n",
       "scaled_variance.1              2\n",
       "scaled_radius_of_gyration      2\n",
       "scaled_radius_of_gyration.1    4\n",
       "skewness_about                 6\n",
       "skewness_about.1               1\n",
       "skewness_about.2               1\n",
       "hollows_ratio                  0\n",
       "class_bus                      0\n",
       "class_car                      0\n",
       "class_van                      0\n",
       "dtype: int64"
      ]
     },
     "execution_count": 28,
     "metadata": {},
     "output_type": "execute_result"
    }
   ],
   "source": [
    "null_df.isnull().sum()"
   ]
  },
  {
   "cell_type": "code",
   "execution_count": 29,
   "metadata": {},
   "outputs": [
    {
     "data": {
      "text/plain": [
       "compactness                    0\n",
       "circularity                    0\n",
       "distance_circularity           0\n",
       "radius_ratio                   0\n",
       "pr.axis_aspect_ratio           0\n",
       "max.length_aspect_ratio        0\n",
       "scatter_ratio                  0\n",
       "elongatedness                  0\n",
       "pr.axis_rectangularity         0\n",
       "max.length_rectangularity      0\n",
       "scaled_variance                0\n",
       "scaled_variance.1              0\n",
       "scaled_radius_of_gyration      0\n",
       "scaled_radius_of_gyration.1    0\n",
       "skewness_about                 0\n",
       "skewness_about.1               0\n",
       "skewness_about.2               1\n",
       "hollows_ratio                  0\n",
       "class_bus                      0\n",
       "class_car                      0\n",
       "class_van                      0\n",
       "dtype: int64"
      ]
     },
     "execution_count": 29,
     "metadata": {},
     "output_type": "execute_result"
    }
   ],
   "source": [
    "null_df[null_df['skewness_about.2'].isnull()].isnull().sum()"
   ]
  },
  {
   "cell_type": "code",
   "execution_count": 30,
   "metadata": {},
   "outputs": [
    {
     "data": {
      "text/plain": [
       "0.9551561486529337"
      ]
     },
     "execution_count": 30,
     "metadata": {},
     "output_type": "execute_result"
    }
   ],
   "source": [
    "X=not_null_df.drop('skewness_about.2',axis=1)\n",
    "y=not_null_df['skewness_about.2']\n",
    "xTrain, xTest, yTrain, yTest = train_test_split(X,y,test_size=0.2, random_state=24)\n",
    "model = LinearRegression()\n",
    "model.fit(xTrain,yTrain)\n",
    "model.score(xTest,yTest)"
   ]
  },
  {
   "cell_type": "code",
   "execution_count": 31,
   "metadata": {},
   "outputs": [],
   "source": [
    "x_null = null_df[null_df['skewness_about.2'].isnull()]\n",
    "x_null= x_null.drop('skewness_about.2',axis=1)"
   ]
  },
  {
   "cell_type": "code",
   "execution_count": 32,
   "metadata": {},
   "outputs": [],
   "source": [
    "values= model.predict(x_null)"
   ]
  },
  {
   "cell_type": "code",
   "execution_count": 33,
   "metadata": {},
   "outputs": [
    {
     "data": {
      "text/plain": [
       "array([197.75054775])"
      ]
     },
     "execution_count": 33,
     "metadata": {},
     "output_type": "execute_result"
    }
   ],
   "source": [
    "values"
   ]
  },
  {
   "cell_type": "code",
   "execution_count": 34,
   "metadata": {},
   "outputs": [
    {
     "data": {
      "text/plain": [
       "array([187., 189., 188., 199., 180., 200., 193., 194., 196., 197., 186.,\n",
       "       181., 198., 185., 179., 192., 191., 195., 190., 183., 184., 202.,\n",
       "       201., 182., 176., 178., 203., 177., 204., 206.])"
      ]
     },
     "execution_count": 34,
     "metadata": {},
     "output_type": "execute_result"
    }
   ],
   "source": [
    "not_null_df['skewness_about.2'].unique()"
   ]
  },
  {
   "cell_type": "code",
   "execution_count": 35,
   "metadata": {},
   "outputs": [],
   "source": [
    "values = values.astype('int64')"
   ]
  },
  {
   "cell_type": "code",
   "execution_count": 36,
   "metadata": {},
   "outputs": [],
   "source": [
    "x_null['skewness_about.2']=values"
   ]
  },
  {
   "cell_type": "code",
   "execution_count": 37,
   "metadata": {},
   "outputs": [
    {
     "name": "stderr",
     "output_type": "stream",
     "text": [
      "D:\\ProgramData\\Anaconda3\\lib\\site-packages\\ipykernel_launcher.py:2: FutureWarning: set_value is deprecated and will be removed in a future release. Please use .at[] or .iat[] accessors instead\n",
      "  \n",
      "D:\\ProgramData\\Anaconda3\\lib\\site-packages\\ipykernel_launcher.py:3: FutureWarning: set_value is deprecated and will be removed in a future release. Please use .at[] or .iat[] accessors instead\n",
      "  This is separate from the ipykernel package so we can avoid doing imports until\n"
     ]
    }
   ],
   "source": [
    "for x in x_null['skewness_about.2'].iteritems():\n",
    "    null_df.set_value(x[0],'skewness_about.2',x[1])\n",
    "    df_enc.set_value(x[0],'skewness_about.2',x[1])"
   ]
  },
  {
   "cell_type": "code",
   "execution_count": 38,
   "metadata": {},
   "outputs": [
    {
     "data": {
      "text/plain": [
       "compactness                    0\n",
       "circularity                    0\n",
       "distance_circularity           0\n",
       "radius_ratio                   0\n",
       "pr.axis_aspect_ratio           0\n",
       "max.length_aspect_ratio        0\n",
       "scatter_ratio                  0\n",
       "elongatedness                  1\n",
       "pr.axis_rectangularity         0\n",
       "max.length_rectangularity      0\n",
       "scaled_variance                0\n",
       "scaled_variance.1              0\n",
       "scaled_radius_of_gyration      0\n",
       "scaled_radius_of_gyration.1    0\n",
       "skewness_about                 0\n",
       "skewness_about.1               0\n",
       "skewness_about.2               0\n",
       "hollows_ratio                  0\n",
       "class_bus                      0\n",
       "class_car                      0\n",
       "class_van                      0\n",
       "dtype: int64"
      ]
     },
     "execution_count": 38,
     "metadata": {},
     "output_type": "execute_result"
    }
   ],
   "source": [
    "null_df[null_df['elongatedness'].isnull()].isnull().sum()"
   ]
  },
  {
   "cell_type": "code",
   "execution_count": 39,
   "metadata": {},
   "outputs": [
    {
     "data": {
      "text/plain": [
       "0.9941102826236071"
      ]
     },
     "execution_count": 39,
     "metadata": {},
     "output_type": "execute_result"
    }
   ],
   "source": [
    "X=not_null_df.drop('elongatedness',axis=1)\n",
    "y=not_null_df['elongatedness']\n",
    "xTrain, xTest, yTrain, yTest = train_test_split(X,y,test_size=0.2, random_state=24)\n",
    "model = LinearRegression()\n",
    "model.fit(xTrain,yTrain)\n",
    "model.score(xTest,yTest)"
   ]
  },
  {
   "cell_type": "code",
   "execution_count": 40,
   "metadata": {},
   "outputs": [],
   "source": [
    "x_null = null_df[null_df['elongatedness'].isnull()]\n",
    "x_null= x_null.drop('elongatedness',axis=1)"
   ]
  },
  {
   "cell_type": "code",
   "execution_count": 41,
   "metadata": {},
   "outputs": [],
   "source": [
    "values= model.predict(x_null)"
   ]
  },
  {
   "cell_type": "code",
   "execution_count": 42,
   "metadata": {},
   "outputs": [
    {
     "data": {
      "text/plain": [
       "array([41.08101344])"
      ]
     },
     "execution_count": 42,
     "metadata": {},
     "output_type": "execute_result"
    }
   ],
   "source": [
    "values"
   ]
  },
  {
   "cell_type": "code",
   "execution_count": 43,
   "metadata": {},
   "outputs": [
    {
     "data": {
      "text/plain": [
       "array([42., 45., 32., 46., 48., 54., 50., 43., 44., 37., 57., 36., 31.,\n",
       "       55., 53., 33., 47., 40., 51., 26., 34., 52., 35., 30., 38., 56.,\n",
       "       39., 58., 59., 49., 27., 41., 61., 28., 29.])"
      ]
     },
     "execution_count": 43,
     "metadata": {},
     "output_type": "execute_result"
    }
   ],
   "source": [
    "not_null_df['elongatedness'].unique()"
   ]
  },
  {
   "cell_type": "code",
   "execution_count": 44,
   "metadata": {},
   "outputs": [],
   "source": [
    "values = values.astype('int64')"
   ]
  },
  {
   "cell_type": "code",
   "execution_count": 45,
   "metadata": {},
   "outputs": [],
   "source": [
    "x_null['elongatedness']=values"
   ]
  },
  {
   "cell_type": "code",
   "execution_count": 46,
   "metadata": {},
   "outputs": [
    {
     "name": "stderr",
     "output_type": "stream",
     "text": [
      "D:\\ProgramData\\Anaconda3\\lib\\site-packages\\ipykernel_launcher.py:2: FutureWarning: set_value is deprecated and will be removed in a future release. Please use .at[] or .iat[] accessors instead\n",
      "  \n",
      "D:\\ProgramData\\Anaconda3\\lib\\site-packages\\ipykernel_launcher.py:3: FutureWarning: set_value is deprecated and will be removed in a future release. Please use .at[] or .iat[] accessors instead\n",
      "  This is separate from the ipykernel package so we can avoid doing imports until\n"
     ]
    }
   ],
   "source": [
    "for x in x_null['elongatedness'].iteritems():\n",
    "    null_df.set_value(x[0],'elongatedness',x[1])\n",
    "    df_enc.set_value(x[0],'elongatedness',x[1])"
   ]
  },
  {
   "cell_type": "code",
   "execution_count": 47,
   "metadata": {},
   "outputs": [
    {
     "data": {
      "text/plain": [
       "compactness                    0\n",
       "circularity                    0\n",
       "distance_circularity           0\n",
       "radius_ratio                   0\n",
       "pr.axis_aspect_ratio           0\n",
       "max.length_aspect_ratio        0\n",
       "scatter_ratio                  0\n",
       "elongatedness                  0\n",
       "pr.axis_rectangularity         3\n",
       "max.length_rectangularity      0\n",
       "scaled_variance                0\n",
       "scaled_variance.1              0\n",
       "scaled_radius_of_gyration      0\n",
       "scaled_radius_of_gyration.1    0\n",
       "skewness_about                 0\n",
       "skewness_about.1               0\n",
       "skewness_about.2               0\n",
       "hollows_ratio                  0\n",
       "class_bus                      0\n",
       "class_car                      0\n",
       "class_van                      0\n",
       "dtype: int64"
      ]
     },
     "execution_count": 47,
     "metadata": {},
     "output_type": "execute_result"
    }
   ],
   "source": [
    "null_df[null_df['pr.axis_rectangularity'].isnull()].isnull().sum()"
   ]
  },
  {
   "cell_type": "code",
   "execution_count": 48,
   "metadata": {},
   "outputs": [
    {
     "data": {
      "text/plain": [
       "0.988577087706542"
      ]
     },
     "execution_count": 48,
     "metadata": {},
     "output_type": "execute_result"
    }
   ],
   "source": [
    "X=not_null_df.drop('pr.axis_rectangularity',axis=1)\n",
    "y=not_null_df['pr.axis_rectangularity']\n",
    "xTrain, xTest, yTrain, yTest = train_test_split(X,y,test_size=0.2, random_state=24)\n",
    "model = LinearRegression()\n",
    "model.fit(xTrain,yTrain)\n",
    "model.score(xTest,yTest)"
   ]
  },
  {
   "cell_type": "code",
   "execution_count": 49,
   "metadata": {},
   "outputs": [],
   "source": [
    "x_null = null_df[null_df['pr.axis_rectangularity'].isnull()]\n",
    "x_null= x_null.drop('pr.axis_rectangularity',axis=1)"
   ]
  },
  {
   "cell_type": "code",
   "execution_count": 50,
   "metadata": {},
   "outputs": [],
   "source": [
    "values= model.predict(x_null)"
   ]
  },
  {
   "cell_type": "code",
   "execution_count": 51,
   "metadata": {},
   "outputs": [
    {
     "data": {
      "text/plain": [
       "array([24.31944527, 19.08474558, 18.77915515])"
      ]
     },
     "execution_count": 51,
     "metadata": {},
     "output_type": "execute_result"
    }
   ],
   "source": [
    "values"
   ]
  },
  {
   "cell_type": "code",
   "execution_count": 52,
   "metadata": {},
   "outputs": [
    {
     "data": {
      "text/plain": [
       "array([20., 19., 23., 18., 17., 21., 24., 25., 22., 28., 27., 26., 29.])"
      ]
     },
     "execution_count": 52,
     "metadata": {},
     "output_type": "execute_result"
    }
   ],
   "source": [
    "not_null_df['pr.axis_rectangularity'].unique()"
   ]
  },
  {
   "cell_type": "code",
   "execution_count": 53,
   "metadata": {},
   "outputs": [],
   "source": [
    "values = values.astype('int64')"
   ]
  },
  {
   "cell_type": "code",
   "execution_count": 54,
   "metadata": {},
   "outputs": [],
   "source": [
    "x_null['pr.axis_rectangularity']=values"
   ]
  },
  {
   "cell_type": "code",
   "execution_count": 55,
   "metadata": {},
   "outputs": [
    {
     "name": "stderr",
     "output_type": "stream",
     "text": [
      "D:\\ProgramData\\Anaconda3\\lib\\site-packages\\ipykernel_launcher.py:2: FutureWarning: set_value is deprecated and will be removed in a future release. Please use .at[] or .iat[] accessors instead\n",
      "  \n",
      "D:\\ProgramData\\Anaconda3\\lib\\site-packages\\ipykernel_launcher.py:3: FutureWarning: set_value is deprecated and will be removed in a future release. Please use .at[] or .iat[] accessors instead\n",
      "  This is separate from the ipykernel package so we can avoid doing imports until\n"
     ]
    }
   ],
   "source": [
    "for x in x_null['pr.axis_rectangularity'].iteritems():\n",
    "    null_df.set_value(x[0],'pr.axis_rectangularity',x[1])\n",
    "    df_enc.set_value(x[0],'pr.axis_rectangularity',x[1])"
   ]
  },
  {
   "cell_type": "code",
   "execution_count": 56,
   "metadata": {},
   "outputs": [
    {
     "data": {
      "text/plain": [
       "compactness                    0\n",
       "circularity                    0\n",
       "distance_circularity           0\n",
       "radius_ratio                   0\n",
       "pr.axis_aspect_ratio           0\n",
       "max.length_aspect_ratio        0\n",
       "scatter_ratio                  0\n",
       "elongatedness                  0\n",
       "pr.axis_rectangularity         0\n",
       "max.length_rectangularity      0\n",
       "scaled_variance                0\n",
       "scaled_variance.1              2\n",
       "scaled_radius_of_gyration      0\n",
       "scaled_radius_of_gyration.1    0\n",
       "skewness_about                 0\n",
       "skewness_about.1               0\n",
       "skewness_about.2               0\n",
       "hollows_ratio                  0\n",
       "class_bus                      0\n",
       "class_car                      0\n",
       "class_van                      0\n",
       "dtype: int64"
      ]
     },
     "execution_count": 56,
     "metadata": {},
     "output_type": "execute_result"
    }
   ],
   "source": [
    "null_df[null_df['scaled_variance.1'].isnull()].isnull().sum()"
   ]
  },
  {
   "cell_type": "code",
   "execution_count": 57,
   "metadata": {},
   "outputs": [
    {
     "data": {
      "text/plain": [
       "0.9989577833796007"
      ]
     },
     "execution_count": 57,
     "metadata": {},
     "output_type": "execute_result"
    }
   ],
   "source": [
    "X=not_null_df.drop('scaled_variance.1',axis=1)\n",
    "y=not_null_df['scaled_variance.1']\n",
    "xTrain, xTest, yTrain, yTest = train_test_split(X,y,test_size=0.2, random_state=24)\n",
    "model = LinearRegression()\n",
    "model.fit(xTrain,yTrain)\n",
    "model.score(xTest,yTest)"
   ]
  },
  {
   "cell_type": "code",
   "execution_count": 58,
   "metadata": {},
   "outputs": [],
   "source": [
    "x_null = null_df[null_df['scaled_variance.1'].isnull()]\n",
    "x_null= x_null.drop('scaled_variance.1',axis=1)"
   ]
  },
  {
   "cell_type": "code",
   "execution_count": 59,
   "metadata": {},
   "outputs": [],
   "source": [
    "values= model.predict(x_null)"
   ]
  },
  {
   "cell_type": "code",
   "execution_count": 60,
   "metadata": {},
   "outputs": [
    {
     "data": {
      "text/plain": [
       "array([553.78128054, 684.08620406])"
      ]
     },
     "execution_count": 60,
     "metadata": {},
     "output_type": "execute_result"
    }
   ],
   "source": [
    "values"
   ]
  },
  {
   "cell_type": "code",
   "execution_count": 61,
   "metadata": {},
   "outputs": [
    {
     "data": {
      "text/plain": [
       "array([ 379.,  330.,  635.,  309.,  325.,  361.,  281.,  223.,  266.,\n",
       "        224.,  349.,  345.,  465.,  624.,  206.,  485.,  686.,  354.,\n",
       "        221.,  344.,  307.,  623.,  324.,  238.,  696.,  570.,  314.,\n",
       "        356.,  293.,  304.,  641.,  402.,  340.,  346.,  691.,  336.,\n",
       "        628.,  207.,  366.,  405.,  675.,  371.,  253.,  317.,  352.,\n",
       "        404.,  299.,  355.,  661.,  341.,  956.,  265.,  512.,  653.,\n",
       "        241.,  567.,  247.,  269.,  333.,  523.,  748.,  305.,  558.,\n",
       "        732.,  466.,  227.,  338.,  571.,  445.,  328.,  343.,  671.,\n",
       "        242.,  311.,  342.,  998.,  209.,  446.,  229.,  703.,  430.,\n",
       "        583.,  363.,  312.,  683.,  308.,  337.,  602.,  321.,  326.,\n",
       "        347.,  246.,  194.,  576.,  575.,  331.,  329.,  524.,  357.,\n",
       "        315.,  192.,  351.,  611.,  712.,  463.,  370.,  319.,  216.,\n",
       "        323.,  365.,  605.,  578.,  511.,  261.,  669.,  364.,  264.,\n",
       "        230.,  373.,  670.,  406.,  728.,  387.,  332.,  360.,  279.,\n",
       "        527.,  525.,  334.,  645.,  928.,  240.,  259.,  610.,  415.,\n",
       "        260.,  665.,  707.,  674.,  320.,  243.,  892.,  313.,  680.,\n",
       "        469.,  273.,  638.,  196.,  612.,  479.,  434.,  367.,  494.,\n",
       "        866.,  705.,  350.,  727.,  666.,  225.,  396.,  681.,  444.,\n",
       "        284.,  682.,  286.,  708.,  195.,  722.,  274.,  704.,  258.,\n",
       "        640.,  203.,  184.,  642.,  268.,  419.,  731.,  684.,  358.,\n",
       "        374.,  426.,  673.,  716.,  310.,  676.,  604.,  245.,  457.,\n",
       "        237.,  518.,  212.,  218.,  322.,  452.,  954.,  327.,  362.,\n",
       "        521.,  692.,  598.,  251.,  870.,  252.,  385.,  335.,  492.,\n",
       "        589.,  249.,  520.,  213.,  718.,  982.,  533.,  435.,  300.,\n",
       "        530.,  725.,  822.,  720.,  625.,  290.,  271.,  737.,  668.,\n",
       "        546.,  472.,  504.,  519.,  687.,  425.,  608.,  388.,  399.,\n",
       "        429.,  205.,  776.,  694.,  923.,  296.,  756.,  348.,  467.,\n",
       "        391.,  413.,  627.,  294.,  595.,  433.,  390.,  287.,  685.,\n",
       "        255.,  650.,  298.,  710.,  428.,  639.,  280.,  629.,  262.,\n",
       "        473.,  586.,  572.,  376.,  211.,  517.,  844.,  636.,  394.,\n",
       "        607.,  282.,  706.,  480.,  711.,  735.,  658.,  741.,  697.,\n",
       "        418.,  301.,  383.,  663.,  709.,  891.,  359.,  204.,  757.,\n",
       "        573.,  667.,  372.,  678.,  395.,  729.,  278.,  700.,  339.,\n",
       "        471.,  275.,  701.,  381.,  526.,  630.,  460.,  904.,  637.,\n",
       "        719.,  601.,  857.,  375.,  378.,  277.,  208.,  295.,  458.,\n",
       "        613.,  855.,  698.,  713.,  416.,  688.,  648.,  369.,  677.,\n",
       "        600.,  409.,  232.,  291.,  622.,  200.,  250.,  481.,  534.,\n",
       "        422.,  462.,  191.,  393.,  193.,  219.,  486.,  664.,  306.,\n",
       "        644.,  616.,  297.,  487.,  562.,  543.,  484.,  318.,  389.,\n",
       "        440.,  289.,  561.,  513.,  659.,  455.,  596.,  353.,  752.,\n",
       "        579.,  427.,  414.,  987.,  220.,  545.,  489.,  417.,  693.,\n",
       "        438.,  657.,  222.,  474.,  766.,  587.,  459.,  408.,  557.,\n",
       "        256.,  233.,  633.,  730.,  816.,  968.,  621.,  584.,  506.,\n",
       "        401.,  559.,  272.,  660.,  574.,  536.,  450.,  552.,  838.,\n",
       "        535.,  285.,  631.,  563.,  476.,  508.,  597.,  717.,  478.,\n",
       "        726.,  254.,  382., 1018.,  283.,  368.,  721.,  270.])"
      ]
     },
     "execution_count": 61,
     "metadata": {},
     "output_type": "execute_result"
    }
   ],
   "source": [
    "not_null_df['scaled_variance.1'].unique()"
   ]
  },
  {
   "cell_type": "code",
   "execution_count": 62,
   "metadata": {},
   "outputs": [],
   "source": [
    "values = values.astype('int64')"
   ]
  },
  {
   "cell_type": "code",
   "execution_count": 63,
   "metadata": {},
   "outputs": [],
   "source": [
    "x_null['scaled_variance.1']=values"
   ]
  },
  {
   "cell_type": "code",
   "execution_count": 64,
   "metadata": {},
   "outputs": [
    {
     "name": "stderr",
     "output_type": "stream",
     "text": [
      "D:\\ProgramData\\Anaconda3\\lib\\site-packages\\ipykernel_launcher.py:2: FutureWarning: set_value is deprecated and will be removed in a future release. Please use .at[] or .iat[] accessors instead\n",
      "  \n",
      "D:\\ProgramData\\Anaconda3\\lib\\site-packages\\ipykernel_launcher.py:3: FutureWarning: set_value is deprecated and will be removed in a future release. Please use .at[] or .iat[] accessors instead\n",
      "  This is separate from the ipykernel package so we can avoid doing imports until\n"
     ]
    }
   ],
   "source": [
    "for x in x_null['scaled_variance.1'].iteritems():\n",
    "    null_df.set_value(x[0],'scaled_variance.1',x[1])\n",
    "    df_enc.set_value(x[0],'scaled_variance.1',x[1])"
   ]
  },
  {
   "cell_type": "code",
   "execution_count": 65,
   "metadata": {},
   "outputs": [
    {
     "data": {
      "text/plain": [
       "circularity                    5\n",
       "distance_circularity           4\n",
       "pr.axis_aspect_ratio           2\n",
       "scatter_ratio                  1\n",
       "scaled_variance                3\n",
       "scaled_radius_of_gyration      2\n",
       "scaled_radius_of_gyration.1    4\n",
       "skewness_about                 6\n",
       "skewness_about.1               1\n",
       "dtype: int64"
      ]
     },
     "execution_count": 65,
     "metadata": {},
     "output_type": "execute_result"
    }
   ],
   "source": [
    "null_df.isnull().sum()[null_df.isnull().sum() > 0]"
   ]
  },
  {
   "cell_type": "code",
   "execution_count": 66,
   "metadata": {},
   "outputs": [
    {
     "data": {
      "text/plain": [
       "compactness                    0\n",
       "circularity                    0\n",
       "distance_circularity           0\n",
       "radius_ratio                   0\n",
       "pr.axis_aspect_ratio           1\n",
       "max.length_aspect_ratio        0\n",
       "scatter_ratio                  1\n",
       "elongatedness                  0\n",
       "pr.axis_rectangularity         0\n",
       "max.length_rectangularity      0\n",
       "scaled_variance                0\n",
       "scaled_variance.1              0\n",
       "scaled_radius_of_gyration      0\n",
       "scaled_radius_of_gyration.1    1\n",
       "skewness_about                 6\n",
       "skewness_about.1               0\n",
       "skewness_about.2               0\n",
       "hollows_ratio                  0\n",
       "class_bus                      0\n",
       "class_car                      0\n",
       "class_van                      0\n",
       "dtype: int64"
      ]
     },
     "execution_count": 66,
     "metadata": {},
     "output_type": "execute_result"
    }
   ],
   "source": [
    "null_df[null_df['skewness_about'].isnull()].isnull().sum()"
   ]
  },
  {
   "cell_type": "code",
   "execution_count": 67,
   "metadata": {},
   "outputs": [
    {
     "data": {
      "text/plain": [
       "compactness                    0.231648\n",
       "circularity                    0.141726\n",
       "distance_circularity           0.110280\n",
       "radius_ratio                   0.044693\n",
       "pr.axis_aspect_ratio          -0.059244\n",
       "max.length_aspect_ratio        0.016461\n",
       "scatter_ratio                  0.070118\n",
       "elongatedness                 -0.046621\n",
       "pr.axis_rectangularity         0.078701\n",
       "max.length_rectangularity      0.130356\n",
       "scaled_variance                0.034228\n",
       "scaled_variance.1              0.072393\n",
       "scaled_radius_of_gyration      0.162397\n",
       "scaled_radius_of_gyration.1   -0.088109\n",
       "skewness_about                 1.000000\n",
       "skewness_about.1              -0.022611\n",
       "skewness_about.2               0.111135\n",
       "hollows_ratio                  0.098128\n",
       "class_bus                     -0.191264\n",
       "class_car                      0.161430\n",
       "class_van                      0.005507\n",
       "Name: skewness_about, dtype: float64"
      ]
     },
     "execution_count": 67,
     "metadata": {},
     "output_type": "execute_result"
    }
   ],
   "source": [
    "not_null_df.corr()['skewness_about']"
   ]
  },
  {
   "cell_type": "code",
   "execution_count": 68,
   "metadata": {},
   "outputs": [
    {
     "data": {
      "text/plain": [
       "0.26149320906034823"
      ]
     },
     "execution_count": 68,
     "metadata": {},
     "output_type": "execute_result"
    }
   ],
   "source": [
    "X=not_null_df.drop(['skewness_about','scaled_radius_of_gyration.1','scatter_ratio','pr.axis_aspect_ratio'],axis=1)\n",
    "y=not_null_df['skewness_about']\n",
    "xTrain, xTest, yTrain, yTest = train_test_split(X,y,test_size=0.2, random_state=24)\n",
    "model = LinearRegression()\n",
    "model.fit(xTrain,yTrain)\n",
    "model.score(xTest,yTest)"
   ]
  },
  {
   "cell_type": "code",
   "execution_count": 69,
   "metadata": {},
   "outputs": [],
   "source": [
    "x_null = null_df[null_df['skewness_about'].isnull()]\n",
    "x_null= x_null.drop(['skewness_about','scaled_radius_of_gyration.1','scatter_ratio','pr.axis_aspect_ratio'],axis=1)"
   ]
  },
  {
   "cell_type": "code",
   "execution_count": 70,
   "metadata": {},
   "outputs": [],
   "source": [
    "values= model.predict(x_null)"
   ]
  },
  {
   "cell_type": "code",
   "execution_count": 71,
   "metadata": {},
   "outputs": [
    {
     "data": {
      "text/plain": [
       "array([3.34287002, 3.3538559 , 5.3134433 , 7.5655726 , 8.45033968,\n",
       "       7.28504292])"
      ]
     },
     "execution_count": 71,
     "metadata": {},
     "output_type": "execute_result"
    }
   ],
   "source": [
    "values"
   ]
  },
  {
   "cell_type": "code",
   "execution_count": 72,
   "metadata": {},
   "outputs": [
    {
     "data": {
      "text/plain": [
       "array([ 6.,  9., 14., 13.,  3.,  2.,  5.,  8.,  4.,  0.,  7.,  1., 10.,\n",
       "       20., 18., 11., 17., 16., 21., 12., 22., 15., 19.])"
      ]
     },
     "execution_count": 72,
     "metadata": {},
     "output_type": "execute_result"
    }
   ],
   "source": [
    "not_null_df['skewness_about'].unique()"
   ]
  },
  {
   "cell_type": "code",
   "execution_count": 73,
   "metadata": {},
   "outputs": [],
   "source": [
    "values = values.astype('int64')"
   ]
  },
  {
   "cell_type": "code",
   "execution_count": 74,
   "metadata": {},
   "outputs": [],
   "source": [
    "x_null['skewness_about']=values"
   ]
  },
  {
   "cell_type": "code",
   "execution_count": 75,
   "metadata": {},
   "outputs": [
    {
     "name": "stderr",
     "output_type": "stream",
     "text": [
      "D:\\ProgramData\\Anaconda3\\lib\\site-packages\\ipykernel_launcher.py:2: FutureWarning: set_value is deprecated and will be removed in a future release. Please use .at[] or .iat[] accessors instead\n",
      "  \n",
      "D:\\ProgramData\\Anaconda3\\lib\\site-packages\\ipykernel_launcher.py:3: FutureWarning: set_value is deprecated and will be removed in a future release. Please use .at[] or .iat[] accessors instead\n",
      "  This is separate from the ipykernel package so we can avoid doing imports until\n"
     ]
    }
   ],
   "source": [
    "for x in x_null['skewness_about'].iteritems():\n",
    "    null_df.set_value(x[0],'skewness_about',x[1])\n",
    "    df_enc.set_value(x[0],'skewness_about',x[1])"
   ]
  },
  {
   "cell_type": "code",
   "execution_count": 76,
   "metadata": {},
   "outputs": [
    {
     "data": {
      "text/plain": [
       "circularity                    5\n",
       "distance_circularity           4\n",
       "pr.axis_aspect_ratio           2\n",
       "scatter_ratio                  1\n",
       "scaled_variance                3\n",
       "scaled_radius_of_gyration      2\n",
       "scaled_radius_of_gyration.1    4\n",
       "skewness_about.1               1\n",
       "dtype: int64"
      ]
     },
     "execution_count": 76,
     "metadata": {},
     "output_type": "execute_result"
    }
   ],
   "source": [
    "null_df.isnull().sum()[null_df.isnull().sum() > 0]"
   ]
  },
  {
   "cell_type": "code",
   "execution_count": 77,
   "metadata": {},
   "outputs": [
    {
     "data": {
      "text/plain": [
       "compactness                    0\n",
       "circularity                    5\n",
       "distance_circularity           1\n",
       "radius_ratio                   0\n",
       "pr.axis_aspect_ratio           0\n",
       "max.length_aspect_ratio        0\n",
       "scatter_ratio                  0\n",
       "elongatedness                  0\n",
       "pr.axis_rectangularity         0\n",
       "max.length_rectangularity      0\n",
       "scaled_variance                1\n",
       "scaled_variance.1              0\n",
       "scaled_radius_of_gyration      1\n",
       "scaled_radius_of_gyration.1    0\n",
       "skewness_about                 0\n",
       "skewness_about.1               1\n",
       "skewness_about.2               0\n",
       "hollows_ratio                  0\n",
       "class_bus                      0\n",
       "class_car                      0\n",
       "class_van                      0\n",
       "dtype: int64"
      ]
     },
     "execution_count": 77,
     "metadata": {},
     "output_type": "execute_result"
    }
   ],
   "source": [
    "null_df[null_df['circularity'].isnull()].isnull().sum()"
   ]
  },
  {
   "cell_type": "code",
   "execution_count": 78,
   "metadata": {},
   "outputs": [
    {
     "data": {
      "text/plain": [
       "compactness                    0.689885\n",
       "circularity                    1.000000\n",
       "distance_circularity           0.797704\n",
       "radius_ratio                   0.623950\n",
       "pr.axis_aspect_ratio           0.155023\n",
       "max.length_aspect_ratio        0.251619\n",
       "scatter_ratio                  0.858149\n",
       "elongatedness                 -0.825108\n",
       "pr.axis_rectangularity         0.856137\n",
       "max.length_rectangularity      0.965366\n",
       "scaled_variance                0.806108\n",
       "scaled_variance.1              0.850932\n",
       "scaled_radius_of_gyration      0.935594\n",
       "scaled_radius_of_gyration.1    0.049070\n",
       "skewness_about                 0.141726\n",
       "skewness_about.1              -0.001975\n",
       "skewness_about.2              -0.113902\n",
       "hollows_ratio                  0.049331\n",
       "class_bus                      0.008459\n",
       "class_car                      0.211185\n",
       "class_van                     -0.255864\n",
       "Name: circularity, dtype: float64"
      ]
     },
     "execution_count": 78,
     "metadata": {},
     "output_type": "execute_result"
    }
   ],
   "source": [
    "not_null_df.corr()['circularity']"
   ]
  },
  {
   "cell_type": "code",
   "execution_count": 79,
   "metadata": {},
   "outputs": [
    {
     "data": {
      "text/plain": [
       "0.969823151680319"
      ]
     },
     "execution_count": 79,
     "metadata": {},
     "output_type": "execute_result"
    }
   ],
   "source": [
    "X=not_null_df.drop(['circularity','distance_circularity','scaled_variance','scaled_radius_of_gyration','skewness_about.1'],axis=1)\n",
    "y=not_null_df['circularity']\n",
    "xTrain, xTest, yTrain, yTest = train_test_split(X,y,test_size=0.2, random_state=24)\n",
    "model = LinearRegression()\n",
    "model.fit(xTrain,yTrain)\n",
    "model.score(xTest,yTest)"
   ]
  },
  {
   "cell_type": "code",
   "execution_count": 80,
   "metadata": {},
   "outputs": [],
   "source": [
    "x_null = null_df[null_df['circularity'].isnull()]\n",
    "x_null= x_null.drop(['circularity','distance_circularity','scaled_variance','scaled_radius_of_gyration','skewness_about.1'],axis=1)"
   ]
  },
  {
   "cell_type": "code",
   "execution_count": 81,
   "metadata": {},
   "outputs": [],
   "source": [
    "values= model.predict(x_null)"
   ]
  },
  {
   "cell_type": "code",
   "execution_count": 82,
   "metadata": {},
   "outputs": [
    {
     "data": {
      "text/plain": [
       "array([55.94945186, 53.41000655, 42.80897729, 41.69730845, 56.81501132])"
      ]
     },
     "execution_count": 82,
     "metadata": {},
     "output_type": "execute_result"
    }
   ],
   "source": [
    "values"
   ]
  },
  {
   "cell_type": "code",
   "execution_count": 83,
   "metadata": {},
   "outputs": [
    {
     "data": {
      "text/plain": [
       "array([48., 41., 50., 44., 43., 34., 36., 46., 42., 49., 55., 54., 47.,\n",
       "       37., 39., 53., 45., 38., 35., 56., 40., 59., 51., 58., 52., 57.,\n",
       "       33.])"
      ]
     },
     "execution_count": 83,
     "metadata": {},
     "output_type": "execute_result"
    }
   ],
   "source": [
    "not_null_df['circularity'].unique()"
   ]
  },
  {
   "cell_type": "code",
   "execution_count": 84,
   "metadata": {},
   "outputs": [],
   "source": [
    "values = values.astype('int64')"
   ]
  },
  {
   "cell_type": "code",
   "execution_count": 85,
   "metadata": {},
   "outputs": [],
   "source": [
    "x_null['circularity']=values"
   ]
  },
  {
   "cell_type": "code",
   "execution_count": 86,
   "metadata": {},
   "outputs": [
    {
     "name": "stderr",
     "output_type": "stream",
     "text": [
      "D:\\ProgramData\\Anaconda3\\lib\\site-packages\\ipykernel_launcher.py:2: FutureWarning: set_value is deprecated and will be removed in a future release. Please use .at[] or .iat[] accessors instead\n",
      "  \n",
      "D:\\ProgramData\\Anaconda3\\lib\\site-packages\\ipykernel_launcher.py:3: FutureWarning: set_value is deprecated and will be removed in a future release. Please use .at[] or .iat[] accessors instead\n",
      "  This is separate from the ipykernel package so we can avoid doing imports until\n"
     ]
    }
   ],
   "source": [
    "for x in x_null['circularity'].iteritems():\n",
    "    null_df.set_value(x[0],'circularity',x[1])\n",
    "    df_enc.set_value(x[0],'circularity',x[1])"
   ]
  },
  {
   "cell_type": "code",
   "execution_count": 87,
   "metadata": {},
   "outputs": [
    {
     "data": {
      "text/plain": [
       "distance_circularity           4\n",
       "pr.axis_aspect_ratio           2\n",
       "scatter_ratio                  1\n",
       "scaled_variance                3\n",
       "scaled_radius_of_gyration      2\n",
       "scaled_radius_of_gyration.1    4\n",
       "skewness_about.1               1\n",
       "dtype: int64"
      ]
     },
     "execution_count": 87,
     "metadata": {},
     "output_type": "execute_result"
    }
   ],
   "source": [
    "null_df.isnull().sum()[null_df.isnull().sum() > 0]"
   ]
  },
  {
   "cell_type": "code",
   "execution_count": 88,
   "metadata": {},
   "outputs": [
    {
     "data": {
      "text/plain": [
       "compactness                    0\n",
       "circularity                    0\n",
       "distance_circularity           4\n",
       "radius_ratio                   0\n",
       "pr.axis_aspect_ratio           0\n",
       "max.length_aspect_ratio        0\n",
       "scatter_ratio                  0\n",
       "elongatedness                  0\n",
       "pr.axis_rectangularity         0\n",
       "max.length_rectangularity      0\n",
       "scaled_variance                0\n",
       "scaled_variance.1              0\n",
       "scaled_radius_of_gyration      1\n",
       "scaled_radius_of_gyration.1    0\n",
       "skewness_about                 0\n",
       "skewness_about.1               0\n",
       "skewness_about.2               0\n",
       "hollows_ratio                  0\n",
       "class_bus                      0\n",
       "class_car                      0\n",
       "class_van                      0\n",
       "dtype: int64"
      ]
     },
     "execution_count": 88,
     "metadata": {},
     "output_type": "execute_result"
    }
   ],
   "source": [
    "null_df[null_df['distance_circularity'].isnull()].isnull().sum()"
   ]
  },
  {
   "cell_type": "code",
   "execution_count": 89,
   "metadata": {},
   "outputs": [
    {
     "data": {
      "text/plain": [
       "0.9463831244734842"
      ]
     },
     "execution_count": 89,
     "metadata": {},
     "output_type": "execute_result"
    }
   ],
   "source": [
    "X=not_null_df.drop(['distance_circularity','scaled_radius_of_gyration'],axis=1)\n",
    "y=not_null_df['distance_circularity']\n",
    "xTrain, xTest, yTrain, yTest = train_test_split(X,y,test_size=0.2, random_state=24)\n",
    "model = LinearRegression()\n",
    "model.fit(xTrain,yTrain)\n",
    "model.score(xTest,yTest)"
   ]
  },
  {
   "cell_type": "code",
   "execution_count": 90,
   "metadata": {},
   "outputs": [],
   "source": [
    "x_null = null_df[null_df['distance_circularity'].isnull()]\n",
    "x_null= x_null.drop(['distance_circularity','scaled_radius_of_gyration'],axis=1)"
   ]
  },
  {
   "cell_type": "code",
   "execution_count": 91,
   "metadata": {},
   "outputs": [],
   "source": [
    "values= model.predict(x_null)"
   ]
  },
  {
   "cell_type": "code",
   "execution_count": 92,
   "metadata": {},
   "outputs": [
    {
     "data": {
      "text/plain": [
       "array([85.66339416, 68.05889456, 62.44870822, 94.55905645])"
      ]
     },
     "execution_count": 92,
     "metadata": {},
     "output_type": "execute_result"
    }
   ],
   "source": [
    "values"
   ]
  },
  {
   "cell_type": "code",
   "execution_count": 93,
   "metadata": {},
   "outputs": [
    {
     "data": {
      "text/plain": [
       "array([ 83.,  84., 106.,  82.,  70.,  73.,  66.,  62.,  74.,  85.,  79.,\n",
       "       103.,  51.,  77., 100.,  75.,  53.,  64., 105.,  80.,  54.,  98.,\n",
       "        63., 107.,  72.,  86.,  68., 104.,  87.,  76.,  81.,  71., 101.,\n",
       "        96.,  78., 108.,  91.,  89.,  92.,  60.,  57.,  65.,  50.,  88.,\n",
       "       109.,  95.,  90.,  94.,  58.,  69.,  47.,  40.,  59., 110.,  93.,\n",
       "       102., 112.,  61.,  42.,  49.,  44.,  52.,  55.])"
      ]
     },
     "execution_count": 93,
     "metadata": {},
     "output_type": "execute_result"
    }
   ],
   "source": [
    "not_null_df['distance_circularity'].unique()"
   ]
  },
  {
   "cell_type": "code",
   "execution_count": 94,
   "metadata": {},
   "outputs": [],
   "source": [
    "values = values.astype('int64')"
   ]
  },
  {
   "cell_type": "code",
   "execution_count": 95,
   "metadata": {},
   "outputs": [],
   "source": [
    "x_null['distance_circularity']=values"
   ]
  },
  {
   "cell_type": "code",
   "execution_count": 96,
   "metadata": {},
   "outputs": [
    {
     "name": "stderr",
     "output_type": "stream",
     "text": [
      "D:\\ProgramData\\Anaconda3\\lib\\site-packages\\ipykernel_launcher.py:2: FutureWarning: set_value is deprecated and will be removed in a future release. Please use .at[] or .iat[] accessors instead\n",
      "  \n",
      "D:\\ProgramData\\Anaconda3\\lib\\site-packages\\ipykernel_launcher.py:3: FutureWarning: set_value is deprecated and will be removed in a future release. Please use .at[] or .iat[] accessors instead\n",
      "  This is separate from the ipykernel package so we can avoid doing imports until\n"
     ]
    }
   ],
   "source": [
    "for x in x_null['distance_circularity'].iteritems():\n",
    "    null_df.set_value(x[0],'distance_circularity',x[1])\n",
    "    df_enc.set_value(x[0],'distance_circularity',x[1])"
   ]
  },
  {
   "cell_type": "code",
   "execution_count": 97,
   "metadata": {},
   "outputs": [
    {
     "data": {
      "text/plain": [
       "pr.axis_aspect_ratio           2\n",
       "scatter_ratio                  1\n",
       "scaled_variance                3\n",
       "scaled_radius_of_gyration      2\n",
       "scaled_radius_of_gyration.1    4\n",
       "skewness_about.1               1\n",
       "dtype: int64"
      ]
     },
     "execution_count": 97,
     "metadata": {},
     "output_type": "execute_result"
    }
   ],
   "source": [
    "null_df.isnull().sum()[null_df.isnull().sum() > 0]"
   ]
  },
  {
   "cell_type": "code",
   "execution_count": 98,
   "metadata": {},
   "outputs": [
    {
     "data": {
      "text/plain": [
       "compactness                    0\n",
       "circularity                    0\n",
       "distance_circularity           0\n",
       "radius_ratio                   0\n",
       "pr.axis_aspect_ratio           0\n",
       "max.length_aspect_ratio        0\n",
       "scatter_ratio                  0\n",
       "elongatedness                  0\n",
       "pr.axis_rectangularity         0\n",
       "max.length_rectangularity      0\n",
       "scaled_variance                0\n",
       "scaled_variance.1              0\n",
       "scaled_radius_of_gyration      0\n",
       "scaled_radius_of_gyration.1    4\n",
       "skewness_about                 0\n",
       "skewness_about.1               0\n",
       "skewness_about.2               0\n",
       "hollows_ratio                  0\n",
       "class_bus                      0\n",
       "class_car                      0\n",
       "class_van                      0\n",
       "dtype: int64"
      ]
     },
     "execution_count": 98,
     "metadata": {},
     "output_type": "execute_result"
    }
   ],
   "source": [
    "null_df[null_df['scaled_radius_of_gyration.1'].isnull()].isnull().sum()"
   ]
  },
  {
   "cell_type": "code",
   "execution_count": 99,
   "metadata": {},
   "outputs": [
    {
     "data": {
      "text/plain": [
       "0.9135600118394284"
      ]
     },
     "execution_count": 99,
     "metadata": {},
     "output_type": "execute_result"
    }
   ],
   "source": [
    "X=not_null_df.drop(['scaled_radius_of_gyration.1'],axis=1)\n",
    "y=not_null_df['scaled_radius_of_gyration.1']\n",
    "xTrain, xTest, yTrain, yTest = train_test_split(X,y,test_size=0.2, random_state=24)\n",
    "model = LinearRegression()\n",
    "model.fit(xTrain,yTrain)\n",
    "model.score(xTest,yTest)"
   ]
  },
  {
   "cell_type": "code",
   "execution_count": 100,
   "metadata": {},
   "outputs": [],
   "source": [
    "x_null = null_df[null_df['scaled_radius_of_gyration.1'].isnull()]\n",
    "x_null= x_null.drop(['scaled_radius_of_gyration.1'],axis=1)"
   ]
  },
  {
   "cell_type": "code",
   "execution_count": 101,
   "metadata": {},
   "outputs": [],
   "source": [
    "values= model.predict(x_null)"
   ]
  },
  {
   "cell_type": "code",
   "execution_count": 102,
   "metadata": {},
   "outputs": [
    {
     "data": {
      "text/plain": [
       "array([82.71943036, 81.43382207, 70.23082617, 68.81608877])"
      ]
     },
     "execution_count": 102,
     "metadata": {},
     "output_type": "execute_result"
    }
   ],
   "source": [
    "values"
   ]
  },
  {
   "cell_type": "code",
   "execution_count": 103,
   "metadata": {
    "scrolled": true
   },
   "outputs": [
    {
     "data": {
      "text/plain": [
       "array([ 70.,  72.,  73.,  63., 127.,  66.,  67.,  64.,  65.,  71.,  74.,\n",
       "        80.,  75.,  82.,  68.,  69.,  76.,  83., 118.,  86.,  77.,  88.,\n",
       "        62.,  79.,  78.,  81.,  87., 119.,  97.,  60.,  85.,  61.,  89.,\n",
       "        90.,  84., 135.,  91.,  59.,  99.])"
      ]
     },
     "execution_count": 103,
     "metadata": {},
     "output_type": "execute_result"
    }
   ],
   "source": [
    "not_null_df['scaled_radius_of_gyration.1'].unique()"
   ]
  },
  {
   "cell_type": "code",
   "execution_count": 104,
   "metadata": {},
   "outputs": [],
   "source": [
    "values = values.astype('int64')"
   ]
  },
  {
   "cell_type": "code",
   "execution_count": 105,
   "metadata": {},
   "outputs": [],
   "source": [
    "x_null['scaled_radius_of_gyration.1']=values"
   ]
  },
  {
   "cell_type": "code",
   "execution_count": 106,
   "metadata": {},
   "outputs": [
    {
     "name": "stderr",
     "output_type": "stream",
     "text": [
      "D:\\ProgramData\\Anaconda3\\lib\\site-packages\\ipykernel_launcher.py:2: FutureWarning: set_value is deprecated and will be removed in a future release. Please use .at[] or .iat[] accessors instead\n",
      "  \n",
      "D:\\ProgramData\\Anaconda3\\lib\\site-packages\\ipykernel_launcher.py:3: FutureWarning: set_value is deprecated and will be removed in a future release. Please use .at[] or .iat[] accessors instead\n",
      "  This is separate from the ipykernel package so we can avoid doing imports until\n"
     ]
    }
   ],
   "source": [
    "for x in x_null['scaled_radius_of_gyration.1'].iteritems():\n",
    "    null_df.set_value(x[0],'scaled_radius_of_gyration.1',x[1])\n",
    "    df_enc.set_value(x[0],'scaled_radius_of_gyration.1',x[1])"
   ]
  },
  {
   "cell_type": "code",
   "execution_count": 107,
   "metadata": {},
   "outputs": [
    {
     "data": {
      "text/plain": [
       "pr.axis_aspect_ratio         2\n",
       "scatter_ratio                1\n",
       "scaled_variance              3\n",
       "scaled_radius_of_gyration    2\n",
       "skewness_about.1             1\n",
       "dtype: int64"
      ]
     },
     "execution_count": 107,
     "metadata": {},
     "output_type": "execute_result"
    }
   ],
   "source": [
    "null_df.isnull().sum()[null_df.isnull().sum() > 0]"
   ]
  },
  {
   "cell_type": "code",
   "execution_count": 108,
   "metadata": {},
   "outputs": [
    {
     "data": {
      "text/plain": [
       "compactness                    0\n",
       "circularity                    0\n",
       "distance_circularity           0\n",
       "radius_ratio                   0\n",
       "pr.axis_aspect_ratio           0\n",
       "max.length_aspect_ratio        0\n",
       "scatter_ratio                  0\n",
       "elongatedness                  0\n",
       "pr.axis_rectangularity         0\n",
       "max.length_rectangularity      0\n",
       "scaled_variance                3\n",
       "scaled_variance.1              0\n",
       "scaled_radius_of_gyration      0\n",
       "scaled_radius_of_gyration.1    0\n",
       "skewness_about                 0\n",
       "skewness_about.1               1\n",
       "skewness_about.2               0\n",
       "hollows_ratio                  0\n",
       "class_bus                      0\n",
       "class_car                      0\n",
       "class_van                      0\n",
       "dtype: int64"
      ]
     },
     "execution_count": 108,
     "metadata": {},
     "output_type": "execute_result"
    }
   ],
   "source": [
    "null_df[null_df['scaled_variance'].isnull()].isnull().sum()"
   ]
  },
  {
   "cell_type": "code",
   "execution_count": 109,
   "metadata": {},
   "outputs": [
    {
     "data": {
      "text/plain": [
       "0.9840757651152164"
      ]
     },
     "execution_count": 109,
     "metadata": {},
     "output_type": "execute_result"
    }
   ],
   "source": [
    "X=not_null_df.drop(['scaled_variance','skewness_about.1'],axis=1)\n",
    "y=not_null_df['scaled_variance']\n",
    "xTrain, xTest, yTrain, yTest = train_test_split(X,y,test_size=0.2, random_state=24)\n",
    "model = LinearRegression()\n",
    "model.fit(xTrain,yTrain)\n",
    "model.score(xTest,yTest)"
   ]
  },
  {
   "cell_type": "code",
   "execution_count": 110,
   "metadata": {},
   "outputs": [],
   "source": [
    "x_null = null_df[null_df['scaled_variance'].isnull()]\n",
    "x_null= x_null.drop(['scaled_variance','skewness_about.1'],axis=1)"
   ]
  },
  {
   "cell_type": "code",
   "execution_count": 111,
   "metadata": {},
   "outputs": [],
   "source": [
    "values= model.predict(x_null)"
   ]
  },
  {
   "cell_type": "code",
   "execution_count": 112,
   "metadata": {},
   "outputs": [
    {
     "data": {
      "text/plain": [
       "array([228.82807729, 173.88656519, 156.85110544])"
      ]
     },
     "execution_count": 112,
     "metadata": {},
     "output_type": "execute_result"
    }
   ],
   "source": [
    "values"
   ]
  },
  {
   "cell_type": "code",
   "execution_count": 113,
   "metadata": {},
   "outputs": [
    {
     "data": {
      "text/plain": [
       "array([176., 170., 223., 160., 241., 162., 141., 153., 148., 180., 173.,\n",
       "       196., 227., 137., 202., 225., 175., 169., 164., 221., 143., 229.,\n",
       "       217., 168., 165., 232., 186., 174., 272., 235., 135., 178., 191.,\n",
       "       159., 172., 184., 181., 236., 275., 154., 222., 214., 145., 203.,\n",
       "       231., 208., 210., 197., 171., 155., 278., 189., 142., 218., 179.,\n",
       "       166., 237., 212., 177., 167., 132., 226., 151., 216., 219., 157.,\n",
       "       224., 188., 161., 207., 280., 156., 152., 220., 266., 228., 185.,\n",
       "       209., 204., 182., 200., 258., 146., 183., 163., 238., 134., 136.,\n",
       "       130., 190., 158., 147., 140., 265., 194., 211., 138., 288., 206.,\n",
       "       234., 243., 195., 213., 187., 205., 262., 320., 215., 150., 139.,\n",
       "       267., 149., 193., 230., 254., 269., 264., 199., 192., 144., 131.,\n",
       "       285., 246., 287., 240., 263.])"
      ]
     },
     "execution_count": 113,
     "metadata": {},
     "output_type": "execute_result"
    }
   ],
   "source": [
    "not_null_df['scaled_variance'].unique()"
   ]
  },
  {
   "cell_type": "code",
   "execution_count": 114,
   "metadata": {},
   "outputs": [],
   "source": [
    "values = values.astype('int64')"
   ]
  },
  {
   "cell_type": "code",
   "execution_count": 115,
   "metadata": {},
   "outputs": [],
   "source": [
    "x_null['scaled_variance']=values"
   ]
  },
  {
   "cell_type": "code",
   "execution_count": 116,
   "metadata": {},
   "outputs": [
    {
     "name": "stderr",
     "output_type": "stream",
     "text": [
      "D:\\ProgramData\\Anaconda3\\lib\\site-packages\\ipykernel_launcher.py:2: FutureWarning: set_value is deprecated and will be removed in a future release. Please use .at[] or .iat[] accessors instead\n",
      "  \n",
      "D:\\ProgramData\\Anaconda3\\lib\\site-packages\\ipykernel_launcher.py:3: FutureWarning: set_value is deprecated and will be removed in a future release. Please use .at[] or .iat[] accessors instead\n",
      "  This is separate from the ipykernel package so we can avoid doing imports until\n"
     ]
    }
   ],
   "source": [
    "for x in x_null['scaled_variance'].iteritems():\n",
    "    null_df.set_value(x[0],'scaled_variance',x[1])\n",
    "    df_enc.set_value(x[0],'scaled_variance',x[1])"
   ]
  },
  {
   "cell_type": "code",
   "execution_count": 117,
   "metadata": {},
   "outputs": [
    {
     "data": {
      "text/plain": [
       "pr.axis_aspect_ratio         2\n",
       "scatter_ratio                1\n",
       "scaled_radius_of_gyration    2\n",
       "skewness_about.1             1\n",
       "dtype: int64"
      ]
     },
     "execution_count": 117,
     "metadata": {},
     "output_type": "execute_result"
    }
   ],
   "source": [
    "null_df.isnull().sum()[null_df.isnull().sum() > 0]"
   ]
  },
  {
   "cell_type": "code",
   "execution_count": 118,
   "metadata": {},
   "outputs": [
    {
     "data": {
      "text/plain": [
       "compactness                    0\n",
       "circularity                    0\n",
       "distance_circularity           0\n",
       "radius_ratio                   0\n",
       "pr.axis_aspect_ratio           2\n",
       "max.length_aspect_ratio        0\n",
       "scatter_ratio                  0\n",
       "elongatedness                  0\n",
       "pr.axis_rectangularity         0\n",
       "max.length_rectangularity      0\n",
       "scaled_variance                0\n",
       "scaled_variance.1              0\n",
       "scaled_radius_of_gyration      0\n",
       "scaled_radius_of_gyration.1    0\n",
       "skewness_about                 0\n",
       "skewness_about.1               0\n",
       "skewness_about.2               0\n",
       "hollows_ratio                  0\n",
       "class_bus                      0\n",
       "class_car                      0\n",
       "class_van                      0\n",
       "dtype: int64"
      ]
     },
     "execution_count": 118,
     "metadata": {},
     "output_type": "execute_result"
    }
   ],
   "source": [
    "null_df[null_df['pr.axis_aspect_ratio'].isnull()].isnull().sum()"
   ]
  },
  {
   "cell_type": "code",
   "execution_count": 119,
   "metadata": {},
   "outputs": [
    {
     "data": {
      "text/plain": [
       "0.9759975629026958"
      ]
     },
     "execution_count": 119,
     "metadata": {},
     "output_type": "execute_result"
    }
   ],
   "source": [
    "X=not_null_df.drop(['pr.axis_aspect_ratio'],axis=1)\n",
    "y=not_null_df['pr.axis_aspect_ratio']\n",
    "xTrain, xTest, yTrain, yTest = train_test_split(X,y,test_size=0.2, random_state=24)\n",
    "model = LinearRegression()\n",
    "model.fit(xTrain,yTrain)\n",
    "model.score(xTest,yTest)"
   ]
  },
  {
   "cell_type": "code",
   "execution_count": 120,
   "metadata": {},
   "outputs": [],
   "source": [
    "x_null = null_df[null_df['pr.axis_aspect_ratio'].isnull()]\n",
    "x_null= x_null.drop(['pr.axis_aspect_ratio'],axis=1)"
   ]
  },
  {
   "cell_type": "code",
   "execution_count": 121,
   "metadata": {},
   "outputs": [],
   "source": [
    "values= model.predict(x_null)"
   ]
  },
  {
   "cell_type": "code",
   "execution_count": 122,
   "metadata": {},
   "outputs": [
    {
     "data": {
      "text/plain": [
       "array([68.33374348, 68.47838238])"
      ]
     },
     "execution_count": 122,
     "metadata": {},
     "output_type": "execute_result"
    }
   ],
   "source": [
    "values"
   ]
  },
  {
   "cell_type": "code",
   "execution_count": 123,
   "metadata": {},
   "outputs": [
    {
     "data": {
      "text/plain": [
       "array([ 72.,  57.,  66.,  63., 103.,  65.,  61.,  55.,  68.,  58.,  71.,\n",
       "        52.,  69.,  64.,  59., 126.,  54.,  73.,  67.,  51.,  70.,  53.,\n",
       "        50.,  56.,  74.,  62.,  60.,  76.,  75.,  49., 133.,  47., 102.,\n",
       "       138.,  48.,  97., 105.])"
      ]
     },
     "execution_count": 123,
     "metadata": {},
     "output_type": "execute_result"
    }
   ],
   "source": [
    "not_null_df['pr.axis_aspect_ratio'].unique()"
   ]
  },
  {
   "cell_type": "code",
   "execution_count": 124,
   "metadata": {},
   "outputs": [],
   "source": [
    "values = values.astype('int64')"
   ]
  },
  {
   "cell_type": "code",
   "execution_count": 125,
   "metadata": {},
   "outputs": [],
   "source": [
    "x_null['pr.axis_aspect_ratio']=values"
   ]
  },
  {
   "cell_type": "code",
   "execution_count": 126,
   "metadata": {},
   "outputs": [
    {
     "name": "stderr",
     "output_type": "stream",
     "text": [
      "D:\\ProgramData\\Anaconda3\\lib\\site-packages\\ipykernel_launcher.py:2: FutureWarning: set_value is deprecated and will be removed in a future release. Please use .at[] or .iat[] accessors instead\n",
      "  \n",
      "D:\\ProgramData\\Anaconda3\\lib\\site-packages\\ipykernel_launcher.py:3: FutureWarning: set_value is deprecated and will be removed in a future release. Please use .at[] or .iat[] accessors instead\n",
      "  This is separate from the ipykernel package so we can avoid doing imports until\n"
     ]
    }
   ],
   "source": [
    "for x in x_null['pr.axis_aspect_ratio'].iteritems():\n",
    "    null_df.set_value(x[0],'pr.axis_aspect_ratio',x[1])\n",
    "    df_enc.set_value(x[0],'pr.axis_aspect_ratio',x[1])"
   ]
  },
  {
   "cell_type": "code",
   "execution_count": 127,
   "metadata": {},
   "outputs": [
    {
     "data": {
      "text/plain": [
       "scatter_ratio                1\n",
       "scaled_radius_of_gyration    2\n",
       "skewness_about.1             1\n",
       "dtype: int64"
      ]
     },
     "execution_count": 127,
     "metadata": {},
     "output_type": "execute_result"
    }
   ],
   "source": [
    "null_df.isnull().sum()[null_df.isnull().sum() > 0]"
   ]
  },
  {
   "cell_type": "code",
   "execution_count": 128,
   "metadata": {},
   "outputs": [
    {
     "data": {
      "text/plain": [
       "compactness                    0\n",
       "circularity                    0\n",
       "distance_circularity           0\n",
       "radius_ratio                   0\n",
       "pr.axis_aspect_ratio           0\n",
       "max.length_aspect_ratio        0\n",
       "scatter_ratio                  0\n",
       "elongatedness                  0\n",
       "pr.axis_rectangularity         0\n",
       "max.length_rectangularity      0\n",
       "scaled_variance                0\n",
       "scaled_variance.1              0\n",
       "scaled_radius_of_gyration      2\n",
       "scaled_radius_of_gyration.1    0\n",
       "skewness_about                 0\n",
       "skewness_about.1               0\n",
       "skewness_about.2               0\n",
       "hollows_ratio                  0\n",
       "class_bus                      0\n",
       "class_car                      0\n",
       "class_van                      0\n",
       "dtype: int64"
      ]
     },
     "execution_count": 128,
     "metadata": {},
     "output_type": "execute_result"
    }
   ],
   "source": [
    "null_df[null_df['scaled_radius_of_gyration'].isnull()].isnull().sum()"
   ]
  },
  {
   "cell_type": "code",
   "execution_count": 129,
   "metadata": {},
   "outputs": [
    {
     "data": {
      "text/plain": [
       "0.9230959661836341"
      ]
     },
     "execution_count": 129,
     "metadata": {},
     "output_type": "execute_result"
    }
   ],
   "source": [
    "X=not_null_df.drop(['scaled_radius_of_gyration'],axis=1)\n",
    "y=not_null_df['scaled_radius_of_gyration']\n",
    "xTrain, xTest, yTrain, yTest = train_test_split(X,y,test_size=0.2, random_state=24)\n",
    "model = LinearRegression()\n",
    "model.fit(xTrain,yTrain)\n",
    "model.score(xTest,yTest)"
   ]
  },
  {
   "cell_type": "code",
   "execution_count": 130,
   "metadata": {},
   "outputs": [],
   "source": [
    "x_null = null_df[null_df['scaled_radius_of_gyration'].isnull()]\n",
    "x_null= x_null.drop(['scaled_radius_of_gyration'],axis=1)"
   ]
  },
  {
   "cell_type": "code",
   "execution_count": 131,
   "metadata": {},
   "outputs": [],
   "source": [
    "values= model.predict(x_null)"
   ]
  },
  {
   "cell_type": "code",
   "execution_count": 132,
   "metadata": {},
   "outputs": [
    {
     "data": {
      "text/plain": [
       "array([160.48429292, 162.66948454])"
      ]
     },
     "execution_count": 132,
     "metadata": {},
     "output_type": "execute_result"
    }
   ],
   "source": [
    "values"
   ]
  },
  {
   "cell_type": "code",
   "execution_count": 133,
   "metadata": {},
   "outputs": [
    {
     "data": {
      "text/plain": [
       "array([184., 158., 220., 127., 188., 172., 164., 112., 118., 192., 161.,\n",
       "       206., 246., 125., 151., 133., 177., 141., 224., 174., 139., 216.,\n",
       "       163., 120., 204., 130., 200., 218., 186., 202., 232., 189., 156.,\n",
       "       179., 146., 245., 165., 230., 119., 176., 212., 142., 185., 159.,\n",
       "       183., 171., 209., 147., 210., 152., 214., 116., 144., 148., 257.,\n",
       "       162., 129., 132., 229., 155., 234., 170., 201., 150., 137., 167.,\n",
       "       173., 143., 187., 136., 138., 194., 153., 157., 198., 131., 168.,\n",
       "       134., 145., 115., 178., 199., 195., 154., 149., 239., 140., 217.,\n",
       "       124., 190., 242., 135., 166., 238., 121., 128., 191., 123., 219.,\n",
       "       181., 180., 213., 175., 197., 211., 126., 249., 203., 205., 160.,\n",
       "       222., 247., 221., 226., 261., 231., 236., 169., 235., 182., 262.,\n",
       "       193., 117., 223., 250., 196., 243., 113., 228., 240., 241., 244.,\n",
       "       109., 207., 268., 260., 215., 208., 237., 255., 114.])"
      ]
     },
     "execution_count": 133,
     "metadata": {},
     "output_type": "execute_result"
    }
   ],
   "source": [
    "not_null_df['scaled_radius_of_gyration'].unique()"
   ]
  },
  {
   "cell_type": "code",
   "execution_count": 134,
   "metadata": {},
   "outputs": [],
   "source": [
    "values = values.astype('int64')"
   ]
  },
  {
   "cell_type": "code",
   "execution_count": 135,
   "metadata": {},
   "outputs": [],
   "source": [
    "x_null['scaled_radius_of_gyration']=values"
   ]
  },
  {
   "cell_type": "code",
   "execution_count": 136,
   "metadata": {},
   "outputs": [
    {
     "name": "stderr",
     "output_type": "stream",
     "text": [
      "D:\\ProgramData\\Anaconda3\\lib\\site-packages\\ipykernel_launcher.py:2: FutureWarning: set_value is deprecated and will be removed in a future release. Please use .at[] or .iat[] accessors instead\n",
      "  \n",
      "D:\\ProgramData\\Anaconda3\\lib\\site-packages\\ipykernel_launcher.py:3: FutureWarning: set_value is deprecated and will be removed in a future release. Please use .at[] or .iat[] accessors instead\n",
      "  This is separate from the ipykernel package so we can avoid doing imports until\n"
     ]
    }
   ],
   "source": [
    "for x in x_null['scaled_radius_of_gyration'].iteritems():\n",
    "    null_df.set_value(x[0],'scaled_radius_of_gyration',x[1])\n",
    "    df_enc.set_value(x[0],'scaled_radius_of_gyration',x[1])"
   ]
  },
  {
   "cell_type": "code",
   "execution_count": 137,
   "metadata": {},
   "outputs": [
    {
     "data": {
      "text/plain": [
       "scatter_ratio       1\n",
       "skewness_about.1    1\n",
       "dtype: int64"
      ]
     },
     "execution_count": 137,
     "metadata": {},
     "output_type": "execute_result"
    }
   ],
   "source": [
    "null_df.isnull().sum()[null_df.isnull().sum() > 0]"
   ]
  },
  {
   "cell_type": "code",
   "execution_count": 138,
   "metadata": {},
   "outputs": [
    {
     "data": {
      "text/plain": [
       "compactness                    0\n",
       "circularity                    0\n",
       "distance_circularity           0\n",
       "radius_ratio                   0\n",
       "pr.axis_aspect_ratio           0\n",
       "max.length_aspect_ratio        0\n",
       "scatter_ratio                  1\n",
       "elongatedness                  0\n",
       "pr.axis_rectangularity         0\n",
       "max.length_rectangularity      0\n",
       "scaled_variance                0\n",
       "scaled_variance.1              0\n",
       "scaled_radius_of_gyration      0\n",
       "scaled_radius_of_gyration.1    0\n",
       "skewness_about                 0\n",
       "skewness_about.1               0\n",
       "skewness_about.2               0\n",
       "hollows_ratio                  0\n",
       "class_bus                      0\n",
       "class_car                      0\n",
       "class_van                      0\n",
       "dtype: int64"
      ]
     },
     "execution_count": 138,
     "metadata": {},
     "output_type": "execute_result"
    }
   ],
   "source": [
    "null_df[null_df['scatter_ratio'].isnull()].isnull().sum()"
   ]
  },
  {
   "cell_type": "code",
   "execution_count": 139,
   "metadata": {},
   "outputs": [
    {
     "data": {
      "text/plain": [
       "0.9994534257805912"
      ]
     },
     "execution_count": 139,
     "metadata": {},
     "output_type": "execute_result"
    }
   ],
   "source": [
    "X=not_null_df.drop(['scatter_ratio'],axis=1)\n",
    "y=not_null_df['scatter_ratio']\n",
    "xTrain, xTest, yTrain, yTest = train_test_split(X,y,test_size=0.2, random_state=24)\n",
    "model = LinearRegression()\n",
    "model.fit(xTrain,yTrain)\n",
    "model.score(xTest,yTest)"
   ]
  },
  {
   "cell_type": "code",
   "execution_count": 140,
   "metadata": {},
   "outputs": [],
   "source": [
    "x_null = null_df[null_df['scatter_ratio'].isnull()]\n",
    "x_null= x_null.drop(['scatter_ratio'],axis=1)"
   ]
  },
  {
   "cell_type": "code",
   "execution_count": 141,
   "metadata": {},
   "outputs": [],
   "source": [
    "values= model.predict(x_null)"
   ]
  },
  {
   "cell_type": "code",
   "execution_count": 142,
   "metadata": {},
   "outputs": [
    {
     "data": {
      "text/plain": [
       "array([116.03388976])"
      ]
     },
     "execution_count": 142,
     "metadata": {},
     "output_type": "execute_result"
    }
   ],
   "source": [
    "values"
   ]
  },
  {
   "cell_type": "code",
   "execution_count": 143,
   "metadata": {},
   "outputs": [
    {
     "data": {
      "text/plain": [
       "array([162., 149., 207., 144., 153., 137., 122., 133., 123., 152., 174.,\n",
       "       204., 118., 177., 216., 154., 150., 143., 147., 128., 218., 192.,\n",
       "       146., 155., 140., 142., 208., 164., 151., 205., 119., 158., 213.,\n",
       "       159., 130., 148., 156., 163., 210., 257., 185., 157., 209., 193.,\n",
       "       184., 225., 190., 224., 176., 126., 195., 172., 127., 261., 171.,\n",
       "       125., 169., 197., 145., 214., 201., 114., 194., 221., 173., 134.,\n",
       "       160., 121., 199., 186., 161., 222., 136., 187., 250., 202., 166.,\n",
       "       132., 220., 211., 247., 116., 203., 181., 240., 219., 212., 138.,\n",
       "       131., 117., 112., 165., 215., 226., 129., 175., 135., 217., 200.,\n",
       "       241., 198., 120., 260., 188., 170., 234., 183., 168., 167., 227.,\n",
       "       139., 206., 141., 238., 178., 223., 252., 239., 115., 191., 179.,\n",
       "       251., 262., 196., 180., 236., 189., 237., 265.])"
      ]
     },
     "execution_count": 143,
     "metadata": {},
     "output_type": "execute_result"
    }
   ],
   "source": [
    "not_null_df['scatter_ratio'].unique()"
   ]
  },
  {
   "cell_type": "code",
   "execution_count": 144,
   "metadata": {},
   "outputs": [],
   "source": [
    "values = values.astype('int64')"
   ]
  },
  {
   "cell_type": "code",
   "execution_count": 145,
   "metadata": {},
   "outputs": [],
   "source": [
    "x_null['scatter_ratio']=values"
   ]
  },
  {
   "cell_type": "code",
   "execution_count": 146,
   "metadata": {},
   "outputs": [
    {
     "name": "stderr",
     "output_type": "stream",
     "text": [
      "D:\\ProgramData\\Anaconda3\\lib\\site-packages\\ipykernel_launcher.py:2: FutureWarning: set_value is deprecated and will be removed in a future release. Please use .at[] or .iat[] accessors instead\n",
      "  \n",
      "D:\\ProgramData\\Anaconda3\\lib\\site-packages\\ipykernel_launcher.py:3: FutureWarning: set_value is deprecated and will be removed in a future release. Please use .at[] or .iat[] accessors instead\n",
      "  This is separate from the ipykernel package so we can avoid doing imports until\n"
     ]
    }
   ],
   "source": [
    "for x in x_null['scatter_ratio'].iteritems():\n",
    "    null_df.set_value(x[0],'scatter_ratio',x[1])\n",
    "    df_enc.set_value(x[0],'scatter_ratio',x[1])"
   ]
  },
  {
   "cell_type": "code",
   "execution_count": 147,
   "metadata": {},
   "outputs": [
    {
     "data": {
      "text/plain": [
       "skewness_about.1    1\n",
       "dtype: int64"
      ]
     },
     "execution_count": 147,
     "metadata": {},
     "output_type": "execute_result"
    }
   ],
   "source": [
    "null_df.isnull().sum()[null_df.isnull().sum() > 0]"
   ]
  },
  {
   "cell_type": "code",
   "execution_count": 148,
   "metadata": {},
   "outputs": [
    {
     "data": {
      "text/plain": [
       "compactness                    0\n",
       "circularity                    0\n",
       "distance_circularity           0\n",
       "radius_ratio                   0\n",
       "pr.axis_aspect_ratio           0\n",
       "max.length_aspect_ratio        0\n",
       "scatter_ratio                  0\n",
       "elongatedness                  0\n",
       "pr.axis_rectangularity         0\n",
       "max.length_rectangularity      0\n",
       "scaled_variance                0\n",
       "scaled_variance.1              0\n",
       "scaled_radius_of_gyration      0\n",
       "scaled_radius_of_gyration.1    0\n",
       "skewness_about                 0\n",
       "skewness_about.1               1\n",
       "skewness_about.2               0\n",
       "hollows_ratio                  0\n",
       "class_bus                      0\n",
       "class_car                      0\n",
       "class_van                      0\n",
       "dtype: int64"
      ]
     },
     "execution_count": 148,
     "metadata": {},
     "output_type": "execute_result"
    }
   ],
   "source": [
    "null_df[null_df['skewness_about.1'].isnull()].isnull().sum()"
   ]
  },
  {
   "cell_type": "code",
   "execution_count": 149,
   "metadata": {},
   "outputs": [
    {
     "data": {
      "text/plain": [
       "0.40509949558920166"
      ]
     },
     "execution_count": 149,
     "metadata": {},
     "output_type": "execute_result"
    }
   ],
   "source": [
    "X=not_null_df.drop(['skewness_about.1'],axis=1)\n",
    "y=not_null_df['skewness_about.1']\n",
    "xTrain, xTest, yTrain, yTest = train_test_split(X,y,test_size=0.2, random_state=24)\n",
    "model = LinearRegression()\n",
    "model.fit(xTrain,yTrain)\n",
    "model.score(xTest,yTest)"
   ]
  },
  {
   "cell_type": "code",
   "execution_count": 150,
   "metadata": {},
   "outputs": [],
   "source": [
    "x_null = null_df[null_df['skewness_about.1'].isnull()]\n",
    "x_null= x_null.drop(['skewness_about.1'],axis=1)"
   ]
  },
  {
   "cell_type": "code",
   "execution_count": 151,
   "metadata": {},
   "outputs": [],
   "source": [
    "values= model.predict(x_null)"
   ]
  },
  {
   "cell_type": "code",
   "execution_count": 152,
   "metadata": {},
   "outputs": [
    {
     "data": {
      "text/plain": [
       "array([16.94289542])"
      ]
     },
     "execution_count": 152,
     "metadata": {},
     "output_type": "execute_result"
    }
   ],
   "source": [
    "values"
   ]
  },
  {
   "cell_type": "code",
   "execution_count": 153,
   "metadata": {},
   "outputs": [
    {
     "data": {
      "text/plain": [
       "array([16., 14.,  9., 10., 11.,  1.,  3., 26., 13.,  2.,  6.,  4., 28.,\n",
       "        7., 20., 38., 25., 15.,  0.,  5.,  8., 24., 21., 23., 30., 18.,\n",
       "       12., 29., 27., 33., 32., 41., 39., 17., 22., 19., 35., 31., 36.,\n",
       "       40., 34.])"
      ]
     },
     "execution_count": 153,
     "metadata": {},
     "output_type": "execute_result"
    }
   ],
   "source": [
    "not_null_df['skewness_about.1'].unique()"
   ]
  },
  {
   "cell_type": "code",
   "execution_count": 154,
   "metadata": {},
   "outputs": [],
   "source": [
    "values = values.astype('int64')"
   ]
  },
  {
   "cell_type": "code",
   "execution_count": 155,
   "metadata": {},
   "outputs": [],
   "source": [
    "x_null['skewness_about.1']=values"
   ]
  },
  {
   "cell_type": "code",
   "execution_count": 156,
   "metadata": {},
   "outputs": [
    {
     "name": "stderr",
     "output_type": "stream",
     "text": [
      "D:\\ProgramData\\Anaconda3\\lib\\site-packages\\ipykernel_launcher.py:2: FutureWarning: set_value is deprecated and will be removed in a future release. Please use .at[] or .iat[] accessors instead\n",
      "  \n",
      "D:\\ProgramData\\Anaconda3\\lib\\site-packages\\ipykernel_launcher.py:3: FutureWarning: set_value is deprecated and will be removed in a future release. Please use .at[] or .iat[] accessors instead\n",
      "  This is separate from the ipykernel package so we can avoid doing imports until\n"
     ]
    }
   ],
   "source": [
    "for x in x_null['skewness_about.1'].iteritems():\n",
    "    null_df.set_value(x[0],'skewness_about.1',x[1])\n",
    "    df_enc.set_value(x[0],'skewness_about.1',x[1])"
   ]
  },
  {
   "cell_type": "code",
   "execution_count": 157,
   "metadata": {},
   "outputs": [
    {
     "data": {
      "text/plain": [
       "Index([], dtype='object')"
      ]
     },
     "execution_count": 157,
     "metadata": {},
     "output_type": "execute_result"
    }
   ],
   "source": [
    "df_enc.isnull().sum()[df_enc.isnull().sum() > 0].index"
   ]
  },
  {
   "cell_type": "code",
   "execution_count": 158,
   "metadata": {},
   "outputs": [],
   "source": [
    "\n",
    "import matplotlib.pyplot as plt\n",
    "import seaborn as sns\n",
    "%matplotlib inline"
   ]
  },
  {
   "cell_type": "code",
   "execution_count": 159,
   "metadata": {},
   "outputs": [
    {
     "data": {
      "image/png": "[encoded data removed]",
      "text/plain": [
       "<Figure size 864x7530 with 21 Axes>"
      ]
     },
     "metadata": {
      "needs_background": "light"
     },
     "output_type": "display_data"
    }
   ],
   "source": [
    "l = df_enc.columns.values\n",
    "number_of_columns=12\n",
    "number_of_rows = len(l)-1/number_of_columns\n",
    "plt.figure(figsize=(number_of_columns,5*number_of_rows))\n",
    "for i in range(0,len(l)):\n",
    "    plt.subplot(number_of_rows + 1,number_of_columns,i+1)\n",
    "    sns.set_style('whitegrid')\n",
    "    sns.boxplot(df_enc[l[i]],color='green',orient='v')\n",
    "    plt.tight_layout()"
   ]
  },
  {
   "cell_type": "markdown",
   "metadata": {},
   "source": [
    "Features with outliers:-\n",
    "\n",
    "radius_ratio\n",
    "\n",
    "pr.axis_aspect_ratio\n",
    "\n",
    "max.length_aspect_ratio\n",
    "\n",
    "scaled_variance\n",
    "\n",
    "scaled_variance_1\n",
    "\n",
    "scaled_radius_of_gyration_1\n",
    "\n",
    "skewness_about\n",
    "\n",
    "skewness_about_1\n",
    "\n",
    "Outliers are identified and not removed."
   ]
  },
  {
   "cell_type": "markdown",
   "metadata": {},
   "source": [
    "#### Question 2"
   ]
  },
  {
   "cell_type": "code",
   "execution_count": 160,
   "metadata": {},
   "outputs": [
    {
     "data": {
      "text/html": [
       "<div>\n",
       "<style scoped>\n",
       "    .dataframe tbody tr th:only-of-type {\n",
       "        vertical-align: middle;\n",
       "    }\n",
       "\n",
       "    .dataframe tbody tr th {\n",
       "        vertical-align: top;\n",
       "    }\n",
       "\n",
       "    .dataframe thead th {\n",
       "        text-align: right;\n",
       "    }\n",
       "</style>\n",
       "<table border=\"1\" class=\"dataframe\">\n",
       "  <thead>\n",
       "    <tr style=\"text-align: right;\">\n",
       "      <th></th>\n",
       "      <th>class_car</th>\n",
       "      <th>class_van</th>\n",
       "      <th>class_bus</th>\n",
       "    </tr>\n",
       "  </thead>\n",
       "  <tbody>\n",
       "    <tr>\n",
       "      <th>compactness</th>\n",
       "      <td>0.308819</td>\n",
       "      <td>-0.209965</td>\n",
       "      <td>-0.149396</td>\n",
       "    </tr>\n",
       "    <tr>\n",
       "      <th>circularity</th>\n",
       "      <td>0.196820</td>\n",
       "      <td>-0.250744</td>\n",
       "      <td>0.018178</td>\n",
       "    </tr>\n",
       "    <tr>\n",
       "      <th>distance_circularity</th>\n",
       "      <td>0.437082</td>\n",
       "      <td>-0.309003</td>\n",
       "      <td>-0.199970</td>\n",
       "    </tr>\n",
       "    <tr>\n",
       "      <th>radius_ratio</th>\n",
       "      <td>0.352455</td>\n",
       "      <td>-0.361929</td>\n",
       "      <td>-0.051906</td>\n",
       "    </tr>\n",
       "    <tr>\n",
       "      <th>pr.axis_aspect_ratio</th>\n",
       "      <td>-0.088072</td>\n",
       "      <td>-0.030429</td>\n",
       "      <td>0.130185</td>\n",
       "    </tr>\n",
       "    <tr>\n",
       "      <th>max.length_aspect_ratio</th>\n",
       "      <td>0.056862</td>\n",
       "      <td>0.138234</td>\n",
       "      <td>-0.199056</td>\n",
       "    </tr>\n",
       "    <tr>\n",
       "      <th>scatter_ratio</th>\n",
       "      <td>0.368249</td>\n",
       "      <td>-0.455714</td>\n",
       "      <td>0.020990</td>\n",
       "    </tr>\n",
       "    <tr>\n",
       "      <th>elongatedness</th>\n",
       "      <td>-0.368141</td>\n",
       "      <td>0.497688</td>\n",
       "      <td>-0.061819</td>\n",
       "    </tr>\n",
       "    <tr>\n",
       "      <th>pr.axis_rectangularity</th>\n",
       "      <td>0.366302</td>\n",
       "      <td>-0.429861</td>\n",
       "      <td>-0.001856</td>\n",
       "    </tr>\n",
       "    <tr>\n",
       "      <th>max.length_rectangularity</th>\n",
       "      <td>0.137634</td>\n",
       "      <td>-0.107919</td>\n",
       "      <td>-0.052675</td>\n",
       "    </tr>\n",
       "    <tr>\n",
       "      <th>scaled_variance</th>\n",
       "      <td>0.298774</td>\n",
       "      <td>-0.434807</td>\n",
       "      <td>0.080133</td>\n",
       "    </tr>\n",
       "    <tr>\n",
       "      <th>scaled_variance.1</th>\n",
       "      <td>0.351366</td>\n",
       "      <td>-0.445054</td>\n",
       "      <td>0.029951</td>\n",
       "    </tr>\n",
       "    <tr>\n",
       "      <th>scaled_radius_of_gyration</th>\n",
       "      <td>0.153879</td>\n",
       "      <td>-0.296628</td>\n",
       "      <td>0.111761</td>\n",
       "    </tr>\n",
       "    <tr>\n",
       "      <th>scaled_radius_of_gyration.1</th>\n",
       "      <td>-0.341023</td>\n",
       "      <td>0.023573</td>\n",
       "      <td>0.366966</td>\n",
       "    </tr>\n",
       "    <tr>\n",
       "      <th>skewness_about</th>\n",
       "      <td>0.159280</td>\n",
       "      <td>0.006665</td>\n",
       "      <td>-0.188539</td>\n",
       "    </tr>\n",
       "    <tr>\n",
       "      <th>skewness_about.1</th>\n",
       "      <td>0.291585</td>\n",
       "      <td>-0.180668</td>\n",
       "      <td>-0.158107</td>\n",
       "    </tr>\n",
       "    <tr>\n",
       "      <th>skewness_about.2</th>\n",
       "      <td>0.092741</td>\n",
       "      <td>0.000957</td>\n",
       "      <td>-0.106942</td>\n",
       "    </tr>\n",
       "    <tr>\n",
       "      <th>hollows_ratio</th>\n",
       "      <td>0.266091</td>\n",
       "      <td>0.038294</td>\n",
       "      <td>-0.341308</td>\n",
       "    </tr>\n",
       "    <tr>\n",
       "      <th>class_bus</th>\n",
       "      <td>-0.597598</td>\n",
       "      <td>-0.326755</td>\n",
       "      <td>1.000000</td>\n",
       "    </tr>\n",
       "    <tr>\n",
       "      <th>class_car</th>\n",
       "      <td>1.000000</td>\n",
       "      <td>-0.562516</td>\n",
       "      <td>-0.597598</td>\n",
       "    </tr>\n",
       "    <tr>\n",
       "      <th>class_van</th>\n",
       "      <td>-0.562516</td>\n",
       "      <td>1.000000</td>\n",
       "      <td>-0.326755</td>\n",
       "    </tr>\n",
       "  </tbody>\n",
       "</table>\n",
       "</div>"
      ],
      "text/plain": [
       "                             class_car  class_van  class_bus\n",
       "compactness                   0.308819  -0.209965  -0.149396\n",
       "circularity                   0.196820  -0.250744   0.018178\n",
       "distance_circularity          0.437082  -0.309003  -0.199970\n",
       "radius_ratio                  0.352455  -0.361929  -0.051906\n",
       "pr.axis_aspect_ratio         -0.088072  -0.030429   0.130185\n",
       "max.length_aspect_ratio       0.056862   0.138234  -0.199056\n",
       "scatter_ratio                 0.368249  -0.455714   0.020990\n",
       "elongatedness                -0.368141   0.497688  -0.061819\n",
       "pr.axis_rectangularity        0.366302  -0.429861  -0.001856\n",
       "max.length_rectangularity     0.137634  -0.107919  -0.052675\n",
       "scaled_variance               0.298774  -0.434807   0.080133\n",
       "scaled_variance.1             0.351366  -0.445054   0.029951\n",
       "scaled_radius_of_gyration     0.153879  -0.296628   0.111761\n",
       "scaled_radius_of_gyration.1  -0.341023   0.023573   0.366966\n",
       "skewness_about                0.159280   0.006665  -0.188539\n",
       "skewness_about.1              0.291585  -0.180668  -0.158107\n",
       "skewness_about.2              0.092741   0.000957  -0.106942\n",
       "hollows_ratio                 0.266091   0.038294  -0.341308\n",
       "class_bus                    -0.597598  -0.326755   1.000000\n",
       "class_car                     1.000000  -0.562516  -0.597598\n",
       "class_van                    -0.562516   1.000000  -0.326755"
      ]
     },
     "execution_count": 160,
     "metadata": {},
     "output_type": "execute_result"
    }
   ],
   "source": [
    "df_enc.corr()[['class_car','class_van','class_bus']]"
   ]
  },
  {
   "cell_type": "markdown",
   "metadata": {},
   "source": [
    "Independent variables are weakly correlated with the dependent variable.  \n",
    "\n",
    "We have features both positively & negatively correlated.  But none of them are strongly correlated."
   ]
  },
  {
   "cell_type": "code",
   "execution_count": 161,
   "metadata": {},
   "outputs": [
    {
     "name": "stdout",
     "output_type": "stream",
     "text": [
      "<class 'pandas.core.frame.DataFrame'>\n",
      "RangeIndex: 846 entries, 0 to 845\n",
      "Data columns (total 21 columns):\n",
      "compactness                    846 non-null int64\n",
      "circularity                    846 non-null float64\n",
      "distance_circularity           846 non-null float64\n",
      "radius_ratio                   846 non-null float64\n",
      "pr.axis_aspect_ratio           846 non-null float64\n",
      "max.length_aspect_ratio        846 non-null int64\n",
      "scatter_ratio                  846 non-null float64\n",
      "elongatedness                  846 non-null float64\n",
      "pr.axis_rectangularity         846 non-null float64\n",
      "max.length_rectangularity      846 non-null int64\n",
      "scaled_variance                846 non-null float64\n",
      "scaled_variance.1              846 non-null float64\n",
      "scaled_radius_of_gyration      846 non-null float64\n",
      "scaled_radius_of_gyration.1    846 non-null float64\n",
      "skewness_about                 846 non-null float64\n",
      "skewness_about.1               846 non-null float64\n",
      "skewness_about.2               846 non-null float64\n",
      "hollows_ratio                  846 non-null int64\n",
      "class_bus                      846 non-null uint8\n",
      "class_car                      846 non-null uint8\n",
      "class_van                      846 non-null uint8\n",
      "dtypes: float64(14), int64(4), uint8(3)\n",
      "memory usage: 121.5 KB\n"
     ]
    }
   ],
   "source": [
    "df_enc.info()"
   ]
  },
  {
   "cell_type": "markdown",
   "metadata": {},
   "source": [
    "#### Question 3"
   ]
  },
  {
   "cell_type": "code",
   "execution_count": 162,
   "metadata": {},
   "outputs": [],
   "source": [
    "X=df_enc.drop(['class_van','class_bus','class_car'],axis=1)"
   ]
  },
  {
   "cell_type": "code",
   "execution_count": 163,
   "metadata": {},
   "outputs": [],
   "source": [
    "from scipy.stats import zscore\n",
    "X_scaled=X.apply(zscore)"
   ]
  },
  {
   "cell_type": "code",
   "execution_count": 164,
   "metadata": {},
   "outputs": [],
   "source": [
    "cov=np.cov(X_scaled.T)"
   ]
  },
  {
   "cell_type": "code",
   "execution_count": 165,
   "metadata": {},
   "outputs": [
    {
     "data": {
      "text/plain": [
       "array([9.44140211e+00, 3.02412423e+00, 1.90094784e+00, 1.17810684e+00,\n",
       "       9.16636262e-01, 5.35046553e-01, 3.56621759e-01, 2.20519525e-01,\n",
       "       1.57750912e-01, 9.13987627e-02, 6.29894680e-02, 4.39261418e-02,\n",
       "       3.50017207e-02, 2.12492763e-02, 1.60528863e-02, 1.29064318e-02,\n",
       "       6.25762808e-03, 3.63434436e-04])"
      ]
     },
     "execution_count": 165,
     "metadata": {},
     "output_type": "execute_result"
    }
   ],
   "source": [
    "from numpy import linalg as LA\n",
    "w, v = LA.eig(cov)\n",
    "w"
   ]
  },
  {
   "cell_type": "code",
   "execution_count": 166,
   "metadata": {},
   "outputs": [],
   "source": [
    "eig_sum = sum(w)"
   ]
  },
  {
   "cell_type": "code",
   "execution_count": 167,
   "metadata": {},
   "outputs": [],
   "source": [
    "explained_variance=[x/sum(w) * 100 for x in w]\n"
   ]
  },
  {
   "cell_type": "code",
   "execution_count": 168,
   "metadata": {},
   "outputs": [
    {
     "data": {
      "image/png": "[encoded data removed]",
      "text/plain": [
       "<Figure size 432x288 with 1 Axes>"
      ]
     },
     "metadata": {},
     "output_type": "display_data"
    }
   ],
   "source": [
    "import matplotlib.pyplot as plt\n",
    "plt.plot(sorted(explained_variance,reverse=True))\n",
    "plt.show()"
   ]
  },
  {
   "cell_type": "code",
   "execution_count": 169,
   "metadata": {},
   "outputs": [
    {
     "name": "stdout",
     "output_type": "stream",
     "text": [
      "0 52.39023365396702 52.39023365396702\n",
      "1 69.17106484370954 16.78083118974252\n",
      "2 79.71940291820688 10.548338074497337\n",
      "3 86.25670446781079 6.537301549603904\n",
      "4 91.3431087303862 5.086404262575418\n",
      "5 94.31207601089915 2.968967280512942\n",
      "6 96.29096612490657 1.9788901140074286\n",
      "7 values contribute for 95%+\n"
     ]
    }
   ],
   "source": [
    "sum_val =0\n",
    "idx =0\n",
    "for index, value in enumerate(sorted(explained_variance,reverse=True)): \n",
    "    sum_val = sum_val+value\n",
    "    idx = index\n",
    "    print(index,sum_val,value)\n",
    "    if sum_val >= 95:\n",
    "        break\n",
    "print(str(idx+1)+\" values contribute for 95%+\")"
   ]
  },
  {
   "cell_type": "code",
   "execution_count": 170,
   "metadata": {},
   "outputs": [],
   "source": [
    "from sklearn.decomposition import PCA"
   ]
  },
  {
   "cell_type": "code",
   "execution_count": 171,
   "metadata": {},
   "outputs": [
    {
     "data": {
      "text/plain": [
       "PCA(copy=True, iterated_power='auto', n_components=7, random_state=None,\n",
       "    svd_solver='auto', tol=0.0, whiten=False)"
      ]
     },
     "execution_count": 171,
     "metadata": {},
     "output_type": "execute_result"
    }
   ],
   "source": [
    "pca = PCA(n_components=7)\n",
    "pca.fit(X)"
   ]
  },
  {
   "cell_type": "code",
   "execution_count": 172,
   "metadata": {},
   "outputs": [
    {
     "data": {
      "text/plain": [
       "array([[ 3.60866934e-02,  2.83512625e-02,  7.55279000e-02,\n",
       "         1.32570201e-01,  4.82136730e-03,  3.99572580e-03,\n",
       "         1.77227919e-01, -4.01217638e-02,  1.37540032e-02,\n",
       "         6.25401806e-02,  1.60482376e-01,  9.44369116e-01,\n",
       "         1.40541945e-01, -6.88167622e-04,  2.09478891e-03,\n",
       "         9.53330776e-03,  3.47833048e-04,  4.46765494e-03],\n",
       "       [ 5.12018488e-02, -2.71165563e-02,  1.09248017e-01,\n",
       "         8.51864450e-01,  2.43244195e-01,  8.10573063e-02,\n",
       "         3.49405240e-03, -3.76646113e-02, -3.23064040e-03,\n",
       "        -6.70422615e-02,  1.58364304e-01, -1.16624290e-01,\n",
       "        -2.73072738e-01, -1.00289071e-01, -8.15079011e-03,\n",
       "         5.06119258e-02,  1.56327546e-01,  1.92321435e-01],\n",
       "       [-3.64590180e-02,  1.20496316e-01,  1.89583753e-02,\n",
       "         2.42704869e-01,  1.58359656e-01,  8.17147360e-02,\n",
       "        -7.92527589e-03, -1.02265925e-02, -1.84924976e-03,\n",
       "         2.62999801e-01,  1.33805652e-01, -2.01268814e-01,\n",
       "         8.42138029e-01,  1.24903381e-01,  3.30094854e-02,\n",
       "        -1.71163338e-01, -7.35153947e-02, -6.92104581e-02],\n",
       "       [-1.65836576e-01, -8.91194887e-02, -2.73743577e-01,\n",
       "         4.20247651e-03,  1.88595852e-01,  1.06650112e-01,\n",
       "        -3.51718505e-02,  2.99910641e-02, -3.33977210e-03,\n",
       "        -2.76694233e-01,  5.09964999e-01, -7.16345577e-03,\n",
       "        -1.48980099e-01,  5.05757379e-01, -1.11178016e-01,\n",
       "         3.46158940e-02, -2.54103196e-01, -3.84349146e-01],\n",
       "       [-6.16441077e-02,  1.49047479e-02,  3.83428706e-01,\n",
       "        -9.12339192e-02, -5.15895784e-02,  1.27600142e-01,\n",
       "         1.04240319e-01, -1.94399088e-02,  8.46606731e-03,\n",
       "         1.32260588e-01,  1.76847033e-01, -9.65018431e-02,\n",
       "         8.16278201e-02,  3.35298619e-02,  2.30654018e-03,\n",
       "         8.54333724e-01, -1.09808373e-01,  5.06037284e-02],\n",
       "       [ 9.86115377e-02,  1.20335449e-01,  3.27001562e-01,\n",
       "        -1.42356408e-01,  4.01679500e-02,  3.05725010e-01,\n",
       "         1.12617989e-01, -2.81818182e-02,  1.09277561e-02,\n",
       "         6.33833086e-01,  2.11465546e-01, -5.80431967e-02,\n",
       "        -3.60193469e-01,  1.43470840e-01, -7.01292788e-02,\n",
       "        -3.49082194e-01, -1.13872464e-01,  4.93645851e-03],\n",
       "       [-1.14984681e-01,  9.15610980e-02, -3.17152132e-01,\n",
       "         1.93151073e-01,  2.61609058e-01,  5.17193804e-02,\n",
       "        -1.60289219e-02,  9.46197010e-02,  8.50137457e-03,\n",
       "         3.56985327e-01, -6.37116004e-01,  1.06376653e-01,\n",
       "        -1.18067256e-01,  1.90938246e-01, -1.07973416e-01,\n",
       "         2.34875257e-01, -2.59774948e-01, -1.75298941e-01]])"
      ]
     },
     "execution_count": 172,
     "metadata": {},
     "output_type": "execute_result"
    }
   ],
   "source": [
    "pca.components_"
   ]
  },
  {
   "cell_type": "code",
   "execution_count": 173,
   "metadata": {},
   "outputs": [
    {
     "data": {
      "text/plain": [
       "array([0.95926381, 0.01796226, 0.01195578, 0.00394561, 0.00196783,\n",
       "       0.00133591, 0.00114952])"
      ]
     },
     "execution_count": 173,
     "metadata": {},
     "output_type": "execute_result"
    }
   ],
   "source": [
    "pca.explained_variance_ratio_"
   ]
  },
  {
   "cell_type": "code",
   "execution_count": 174,
   "metadata": {},
   "outputs": [],
   "source": [
    "X_pca = pca.transform(X)"
   ]
  },
  {
   "cell_type": "code",
   "execution_count": 175,
   "metadata": {},
   "outputs": [
    {
     "data": {
      "text/plain": [
       "(846, 7)"
      ]
     },
     "execution_count": 175,
     "metadata": {},
     "output_type": "execute_result"
    }
   ],
   "source": [
    "X_pca.shape"
   ]
  },
  {
   "cell_type": "code",
   "execution_count": 176,
   "metadata": {},
   "outputs": [
    {
     "data": {
      "text/plain": [
       "846"
      ]
     },
     "execution_count": 176,
     "metadata": {},
     "output_type": "execute_result"
    }
   ],
   "source": [
    "df['class'].count()"
   ]
  },
  {
   "cell_type": "code",
   "execution_count": 177,
   "metadata": {},
   "outputs": [],
   "source": [
    "df_pca = pd.DataFrame(X_pca)"
   ]
  },
  {
   "cell_type": "code",
   "execution_count": 178,
   "metadata": {},
   "outputs": [
    {
     "data": {
      "text/html": [
       "<div>\n",
       "<style scoped>\n",
       "    .dataframe tbody tr th:only-of-type {\n",
       "        vertical-align: middle;\n",
       "    }\n",
       "\n",
       "    .dataframe tbody tr th {\n",
       "        vertical-align: top;\n",
       "    }\n",
       "\n",
       "    .dataframe thead th {\n",
       "        text-align: right;\n",
       "    }\n",
       "</style>\n",
       "<table border=\"1\" class=\"dataframe\">\n",
       "  <thead>\n",
       "    <tr style=\"text-align: right;\">\n",
       "      <th></th>\n",
       "      <th>0</th>\n",
       "      <th>1</th>\n",
       "      <th>2</th>\n",
       "      <th>3</th>\n",
       "      <th>4</th>\n",
       "      <th>5</th>\n",
       "      <th>6</th>\n",
       "    </tr>\n",
       "  </thead>\n",
       "  <tbody>\n",
       "    <tr>\n",
       "      <th>69</th>\n",
       "      <td>130.918445</td>\n",
       "      <td>26.092613</td>\n",
       "      <td>24.230726</td>\n",
       "      <td>1.607572</td>\n",
       "      <td>-12.335780</td>\n",
       "      <td>-12.633422</td>\n",
       "      <td>7.170471</td>\n",
       "    </tr>\n",
       "    <tr>\n",
       "      <th>82</th>\n",
       "      <td>-216.454836</td>\n",
       "      <td>-3.532538</td>\n",
       "      <td>-30.573890</td>\n",
       "      <td>-2.672175</td>\n",
       "      <td>-9.819089</td>\n",
       "      <td>12.323869</td>\n",
       "      <td>-8.083116</td>\n",
       "    </tr>\n",
       "    <tr>\n",
       "      <th>5</th>\n",
       "      <td>535.628780</td>\n",
       "      <td>-73.315360</td>\n",
       "      <td>-8.176544</td>\n",
       "      <td>21.387324</td>\n",
       "      <td>-8.273171</td>\n",
       "      <td>-6.689684</td>\n",
       "      <td>-13.813090</td>\n",
       "    </tr>\n",
       "    <tr>\n",
       "      <th>796</th>\n",
       "      <td>-238.396643</td>\n",
       "      <td>-8.291383</td>\n",
       "      <td>-4.923401</td>\n",
       "      <td>-16.989404</td>\n",
       "      <td>-5.651765</td>\n",
       "      <td>-8.517115</td>\n",
       "      <td>-0.981850</td>\n",
       "    </tr>\n",
       "    <tr>\n",
       "      <th>667</th>\n",
       "      <td>235.989857</td>\n",
       "      <td>22.189678</td>\n",
       "      <td>7.036961</td>\n",
       "      <td>-9.325264</td>\n",
       "      <td>0.048850</td>\n",
       "      <td>-2.278661</td>\n",
       "      <td>3.344810</td>\n",
       "    </tr>\n",
       "  </tbody>\n",
       "</table>\n",
       "</div>"
      ],
      "text/plain": [
       "              0          1          2          3          4          5  \\\n",
       "69   130.918445  26.092613  24.230726   1.607572 -12.335780 -12.633422   \n",
       "82  -216.454836  -3.532538 -30.573890  -2.672175  -9.819089  12.323869   \n",
       "5    535.628780 -73.315360  -8.176544  21.387324  -8.273171  -6.689684   \n",
       "796 -238.396643  -8.291383  -4.923401 -16.989404  -5.651765  -8.517115   \n",
       "667  235.989857  22.189678   7.036961  -9.325264   0.048850  -2.278661   \n",
       "\n",
       "             6  \n",
       "69    7.170471  \n",
       "82   -8.083116  \n",
       "5   -13.813090  \n",
       "796  -0.981850  \n",
       "667   3.344810  "
      ]
     },
     "execution_count": 178,
     "metadata": {},
     "output_type": "execute_result"
    }
   ],
   "source": [
    "df_pca.sample(5)"
   ]
  },
  {
   "cell_type": "code",
   "execution_count": 179,
   "metadata": {},
   "outputs": [],
   "source": [
    "df_pca['class']=df['class']"
   ]
  },
  {
   "cell_type": "code",
   "execution_count": 180,
   "metadata": {},
   "outputs": [
    {
     "data": {
      "text/html": [
       "<div>\n",
       "<style scoped>\n",
       "    .dataframe tbody tr th:only-of-type {\n",
       "        vertical-align: middle;\n",
       "    }\n",
       "\n",
       "    .dataframe tbody tr th {\n",
       "        vertical-align: top;\n",
       "    }\n",
       "\n",
       "    .dataframe thead th {\n",
       "        text-align: right;\n",
       "    }\n",
       "</style>\n",
       "<table border=\"1\" class=\"dataframe\">\n",
       "  <thead>\n",
       "    <tr style=\"text-align: right;\">\n",
       "      <th></th>\n",
       "      <th>0</th>\n",
       "      <th>1</th>\n",
       "      <th>2</th>\n",
       "      <th>3</th>\n",
       "      <th>4</th>\n",
       "      <th>5</th>\n",
       "      <th>6</th>\n",
       "      <th>class</th>\n",
       "    </tr>\n",
       "  </thead>\n",
       "  <tbody>\n",
       "    <tr>\n",
       "      <th>0</th>\n",
       "      <td>-57.317052</td>\n",
       "      <td>12.568510</td>\n",
       "      <td>24.804490</td>\n",
       "      <td>-9.895484</td>\n",
       "      <td>7.360713</td>\n",
       "      <td>2.758052</td>\n",
       "      <td>9.587206</td>\n",
       "      <td>van</td>\n",
       "    </tr>\n",
       "    <tr>\n",
       "      <th>1</th>\n",
       "      <td>-116.900068</td>\n",
       "      <td>-9.433109</td>\n",
       "      <td>-3.875719</td>\n",
       "      <td>-6.498923</td>\n",
       "      <td>8.162292</td>\n",
       "      <td>6.003565</td>\n",
       "      <td>-6.863365</td>\n",
       "      <td>van</td>\n",
       "    </tr>\n",
       "    <tr>\n",
       "      <th>2</th>\n",
       "      <td>211.542032</td>\n",
       "      <td>8.027694</td>\n",
       "      <td>18.117811</td>\n",
       "      <td>-3.192612</td>\n",
       "      <td>-1.561543</td>\n",
       "      <td>-4.191214</td>\n",
       "      <td>-5.122010</td>\n",
       "      <td>car</td>\n",
       "    </tr>\n",
       "    <tr>\n",
       "      <th>3</th>\n",
       "      <td>-141.282400</td>\n",
       "      <td>20.345864</td>\n",
       "      <td>-23.683342</td>\n",
       "      <td>-15.173444</td>\n",
       "      <td>-1.911915</td>\n",
       "      <td>12.120601</td>\n",
       "      <td>0.225277</td>\n",
       "      <td>van</td>\n",
       "    </tr>\n",
       "    <tr>\n",
       "      <th>4</th>\n",
       "      <td>-98.400694</td>\n",
       "      <td>51.258817</td>\n",
       "      <td>67.956364</td>\n",
       "      <td>79.238029</td>\n",
       "      <td>15.563084</td>\n",
       "      <td>22.094282</td>\n",
       "      <td>-8.851442</td>\n",
       "      <td>bus</td>\n",
       "    </tr>\n",
       "  </tbody>\n",
       "</table>\n",
       "</div>"
      ],
      "text/plain": [
       "            0          1          2          3          4          5  \\\n",
       "0  -57.317052  12.568510  24.804490  -9.895484   7.360713   2.758052   \n",
       "1 -116.900068  -9.433109  -3.875719  -6.498923   8.162292   6.003565   \n",
       "2  211.542032   8.027694  18.117811  -3.192612  -1.561543  -4.191214   \n",
       "3 -141.282400  20.345864 -23.683342 -15.173444  -1.911915  12.120601   \n",
       "4  -98.400694  51.258817  67.956364  79.238029  15.563084  22.094282   \n",
       "\n",
       "          6 class  \n",
       "0  9.587206   van  \n",
       "1 -6.863365   van  \n",
       "2 -5.122010   car  \n",
       "3  0.225277   van  \n",
       "4 -8.851442   bus  "
      ]
     },
     "execution_count": 180,
     "metadata": {},
     "output_type": "execute_result"
    }
   ],
   "source": [
    "df_pca.head()"
   ]
  },
  {
   "cell_type": "code",
   "execution_count": 181,
   "metadata": {},
   "outputs": [
    {
     "data": {
      "text/html": [
       "<div>\n",
       "<style scoped>\n",
       "    .dataframe tbody tr th:only-of-type {\n",
       "        vertical-align: middle;\n",
       "    }\n",
       "\n",
       "    .dataframe tbody tr th {\n",
       "        vertical-align: top;\n",
       "    }\n",
       "\n",
       "    .dataframe thead th {\n",
       "        text-align: right;\n",
       "    }\n",
       "</style>\n",
       "<table border=\"1\" class=\"dataframe\">\n",
       "  <thead>\n",
       "    <tr style=\"text-align: right;\">\n",
       "      <th></th>\n",
       "      <th>compactness</th>\n",
       "      <th>circularity</th>\n",
       "      <th>distance_circularity</th>\n",
       "      <th>radius_ratio</th>\n",
       "      <th>pr.axis_aspect_ratio</th>\n",
       "      <th>max.length_aspect_ratio</th>\n",
       "      <th>scatter_ratio</th>\n",
       "      <th>elongatedness</th>\n",
       "      <th>pr.axis_rectangularity</th>\n",
       "      <th>max.length_rectangularity</th>\n",
       "      <th>scaled_variance</th>\n",
       "      <th>scaled_variance.1</th>\n",
       "      <th>scaled_radius_of_gyration</th>\n",
       "      <th>scaled_radius_of_gyration.1</th>\n",
       "      <th>skewness_about</th>\n",
       "      <th>skewness_about.1</th>\n",
       "      <th>skewness_about.2</th>\n",
       "      <th>hollows_ratio</th>\n",
       "      <th>class</th>\n",
       "    </tr>\n",
       "  </thead>\n",
       "  <tbody>\n",
       "    <tr>\n",
       "      <th>0</th>\n",
       "      <td>95</td>\n",
       "      <td>48.0</td>\n",
       "      <td>83.0</td>\n",
       "      <td>178.0</td>\n",
       "      <td>72.0</td>\n",
       "      <td>10</td>\n",
       "      <td>162.0</td>\n",
       "      <td>42.0</td>\n",
       "      <td>20.0</td>\n",
       "      <td>159</td>\n",
       "      <td>176.0</td>\n",
       "      <td>379.0</td>\n",
       "      <td>184.0</td>\n",
       "      <td>70.0</td>\n",
       "      <td>6.0</td>\n",
       "      <td>16.0</td>\n",
       "      <td>187.0</td>\n",
       "      <td>197</td>\n",
       "      <td>van</td>\n",
       "    </tr>\n",
       "    <tr>\n",
       "      <th>1</th>\n",
       "      <td>91</td>\n",
       "      <td>41.0</td>\n",
       "      <td>84.0</td>\n",
       "      <td>141.0</td>\n",
       "      <td>57.0</td>\n",
       "      <td>9</td>\n",
       "      <td>149.0</td>\n",
       "      <td>45.0</td>\n",
       "      <td>19.0</td>\n",
       "      <td>143</td>\n",
       "      <td>170.0</td>\n",
       "      <td>330.0</td>\n",
       "      <td>158.0</td>\n",
       "      <td>72.0</td>\n",
       "      <td>9.0</td>\n",
       "      <td>14.0</td>\n",
       "      <td>189.0</td>\n",
       "      <td>199</td>\n",
       "      <td>van</td>\n",
       "    </tr>\n",
       "    <tr>\n",
       "      <th>2</th>\n",
       "      <td>104</td>\n",
       "      <td>50.0</td>\n",
       "      <td>106.0</td>\n",
       "      <td>209.0</td>\n",
       "      <td>66.0</td>\n",
       "      <td>10</td>\n",
       "      <td>207.0</td>\n",
       "      <td>32.0</td>\n",
       "      <td>23.0</td>\n",
       "      <td>158</td>\n",
       "      <td>223.0</td>\n",
       "      <td>635.0</td>\n",
       "      <td>220.0</td>\n",
       "      <td>73.0</td>\n",
       "      <td>14.0</td>\n",
       "      <td>9.0</td>\n",
       "      <td>188.0</td>\n",
       "      <td>196</td>\n",
       "      <td>car</td>\n",
       "    </tr>\n",
       "    <tr>\n",
       "      <th>3</th>\n",
       "      <td>93</td>\n",
       "      <td>41.0</td>\n",
       "      <td>82.0</td>\n",
       "      <td>159.0</td>\n",
       "      <td>63.0</td>\n",
       "      <td>9</td>\n",
       "      <td>144.0</td>\n",
       "      <td>46.0</td>\n",
       "      <td>19.0</td>\n",
       "      <td>143</td>\n",
       "      <td>160.0</td>\n",
       "      <td>309.0</td>\n",
       "      <td>127.0</td>\n",
       "      <td>63.0</td>\n",
       "      <td>6.0</td>\n",
       "      <td>10.0</td>\n",
       "      <td>199.0</td>\n",
       "      <td>207</td>\n",
       "      <td>van</td>\n",
       "    </tr>\n",
       "    <tr>\n",
       "      <th>4</th>\n",
       "      <td>85</td>\n",
       "      <td>44.0</td>\n",
       "      <td>70.0</td>\n",
       "      <td>205.0</td>\n",
       "      <td>103.0</td>\n",
       "      <td>52</td>\n",
       "      <td>149.0</td>\n",
       "      <td>45.0</td>\n",
       "      <td>19.0</td>\n",
       "      <td>144</td>\n",
       "      <td>241.0</td>\n",
       "      <td>325.0</td>\n",
       "      <td>188.0</td>\n",
       "      <td>127.0</td>\n",
       "      <td>9.0</td>\n",
       "      <td>11.0</td>\n",
       "      <td>180.0</td>\n",
       "      <td>183</td>\n",
       "      <td>bus</td>\n",
       "    </tr>\n",
       "  </tbody>\n",
       "</table>\n",
       "</div>"
      ],
      "text/plain": [
       "   compactness  circularity  distance_circularity  radius_ratio  \\\n",
       "0           95         48.0                  83.0         178.0   \n",
       "1           91         41.0                  84.0         141.0   \n",
       "2          104         50.0                 106.0         209.0   \n",
       "3           93         41.0                  82.0         159.0   \n",
       "4           85         44.0                  70.0         205.0   \n",
       "\n",
       "   pr.axis_aspect_ratio  max.length_aspect_ratio  scatter_ratio  \\\n",
       "0                  72.0                       10          162.0   \n",
       "1                  57.0                        9          149.0   \n",
       "2                  66.0                       10          207.0   \n",
       "3                  63.0                        9          144.0   \n",
       "4                 103.0                       52          149.0   \n",
       "\n",
       "   elongatedness  pr.axis_rectangularity  max.length_rectangularity  \\\n",
       "0           42.0                    20.0                        159   \n",
       "1           45.0                    19.0                        143   \n",
       "2           32.0                    23.0                        158   \n",
       "3           46.0                    19.0                        143   \n",
       "4           45.0                    19.0                        144   \n",
       "\n",
       "   scaled_variance  scaled_variance.1  scaled_radius_of_gyration  \\\n",
       "0            176.0              379.0                      184.0   \n",
       "1            170.0              330.0                      158.0   \n",
       "2            223.0              635.0                      220.0   \n",
       "3            160.0              309.0                      127.0   \n",
       "4            241.0              325.0                      188.0   \n",
       "\n",
       "   scaled_radius_of_gyration.1  skewness_about  skewness_about.1  \\\n",
       "0                         70.0             6.0              16.0   \n",
       "1                         72.0             9.0              14.0   \n",
       "2                         73.0            14.0               9.0   \n",
       "3                         63.0             6.0              10.0   \n",
       "4                        127.0             9.0              11.0   \n",
       "\n",
       "   skewness_about.2  hollows_ratio class  \n",
       "0             187.0            197   van  \n",
       "1             189.0            199   van  \n",
       "2             188.0            196   car  \n",
       "3             199.0            207   van  \n",
       "4             180.0            183   bus  "
      ]
     },
     "execution_count": 181,
     "metadata": {},
     "output_type": "execute_result"
    }
   ],
   "source": [
    "df.head()"
   ]
  },
  {
   "cell_type": "code",
   "execution_count": 182,
   "metadata": {},
   "outputs": [
    {
     "data": {
      "text/plain": [
       "array(['van', 'car', 'bus'], dtype=object)"
      ]
     },
     "execution_count": 182,
     "metadata": {},
     "output_type": "execute_result"
    }
   ],
   "source": [
    "df_pca['class'].unique()"
   ]
  },
  {
   "cell_type": "code",
   "execution_count": 183,
   "metadata": {},
   "outputs": [],
   "source": [
    "di = {\"van\": 1, \"car\":2,\"bus\":3}"
   ]
  },
  {
   "cell_type": "code",
   "execution_count": 184,
   "metadata": {},
   "outputs": [],
   "source": [
    "df_pca.replace({\"class\": di},inplace =True)"
   ]
  },
  {
   "cell_type": "code",
   "execution_count": 185,
   "metadata": {},
   "outputs": [
    {
     "data": {
      "text/html": [
       "<div>\n",
       "<style scoped>\n",
       "    .dataframe tbody tr th:only-of-type {\n",
       "        vertical-align: middle;\n",
       "    }\n",
       "\n",
       "    .dataframe tbody tr th {\n",
       "        vertical-align: top;\n",
       "    }\n",
       "\n",
       "    .dataframe thead th {\n",
       "        text-align: right;\n",
       "    }\n",
       "</style>\n",
       "<table border=\"1\" class=\"dataframe\">\n",
       "  <thead>\n",
       "    <tr style=\"text-align: right;\">\n",
       "      <th></th>\n",
       "      <th>0</th>\n",
       "      <th>1</th>\n",
       "      <th>2</th>\n",
       "      <th>3</th>\n",
       "      <th>4</th>\n",
       "      <th>5</th>\n",
       "      <th>6</th>\n",
       "      <th>class</th>\n",
       "    </tr>\n",
       "  </thead>\n",
       "  <tbody>\n",
       "    <tr>\n",
       "      <th>0</th>\n",
       "      <td>-57.317052</td>\n",
       "      <td>12.568510</td>\n",
       "      <td>24.804490</td>\n",
       "      <td>-9.895484</td>\n",
       "      <td>7.360713</td>\n",
       "      <td>2.758052</td>\n",
       "      <td>9.587206</td>\n",
       "      <td>1</td>\n",
       "    </tr>\n",
       "    <tr>\n",
       "      <th>1</th>\n",
       "      <td>-116.900068</td>\n",
       "      <td>-9.433109</td>\n",
       "      <td>-3.875719</td>\n",
       "      <td>-6.498923</td>\n",
       "      <td>8.162292</td>\n",
       "      <td>6.003565</td>\n",
       "      <td>-6.863365</td>\n",
       "      <td>1</td>\n",
       "    </tr>\n",
       "    <tr>\n",
       "      <th>2</th>\n",
       "      <td>211.542032</td>\n",
       "      <td>8.027694</td>\n",
       "      <td>18.117811</td>\n",
       "      <td>-3.192612</td>\n",
       "      <td>-1.561543</td>\n",
       "      <td>-4.191214</td>\n",
       "      <td>-5.122010</td>\n",
       "      <td>2</td>\n",
       "    </tr>\n",
       "    <tr>\n",
       "      <th>3</th>\n",
       "      <td>-141.282400</td>\n",
       "      <td>20.345864</td>\n",
       "      <td>-23.683342</td>\n",
       "      <td>-15.173444</td>\n",
       "      <td>-1.911915</td>\n",
       "      <td>12.120601</td>\n",
       "      <td>0.225277</td>\n",
       "      <td>1</td>\n",
       "    </tr>\n",
       "    <tr>\n",
       "      <th>4</th>\n",
       "      <td>-98.400694</td>\n",
       "      <td>51.258817</td>\n",
       "      <td>67.956364</td>\n",
       "      <td>79.238029</td>\n",
       "      <td>15.563084</td>\n",
       "      <td>22.094282</td>\n",
       "      <td>-8.851442</td>\n",
       "      <td>3</td>\n",
       "    </tr>\n",
       "  </tbody>\n",
       "</table>\n",
       "</div>"
      ],
      "text/plain": [
       "            0          1          2          3          4          5  \\\n",
       "0  -57.317052  12.568510  24.804490  -9.895484   7.360713   2.758052   \n",
       "1 -116.900068  -9.433109  -3.875719  -6.498923   8.162292   6.003565   \n",
       "2  211.542032   8.027694  18.117811  -3.192612  -1.561543  -4.191214   \n",
       "3 -141.282400  20.345864 -23.683342 -15.173444  -1.911915  12.120601   \n",
       "4  -98.400694  51.258817  67.956364  79.238029  15.563084  22.094282   \n",
       "\n",
       "          6  class  \n",
       "0  9.587206      1  \n",
       "1 -6.863365      1  \n",
       "2 -5.122010      2  \n",
       "3  0.225277      1  \n",
       "4 -8.851442      3  "
      ]
     },
     "execution_count": 185,
     "metadata": {},
     "output_type": "execute_result"
    }
   ],
   "source": [
    "df_pca.head()"
   ]
  },
  {
   "cell_type": "code",
   "execution_count": 186,
   "metadata": {},
   "outputs": [
    {
     "name": "stdout",
     "output_type": "stream",
     "text": [
      "<class 'pandas.core.frame.DataFrame'>\n",
      "RangeIndex: 846 entries, 0 to 845\n",
      "Data columns (total 8 columns):\n",
      "0        846 non-null float64\n",
      "1        846 non-null float64\n",
      "2        846 non-null float64\n",
      "3        846 non-null float64\n",
      "4        846 non-null float64\n",
      "5        846 non-null float64\n",
      "6        846 non-null float64\n",
      "class    846 non-null int64\n",
      "dtypes: float64(7), int64(1)\n",
      "memory usage: 53.0 KB\n"
     ]
    }
   ],
   "source": [
    "df_pca.info()"
   ]
  },
  {
   "cell_type": "markdown",
   "metadata": {},
   "source": [
    "#### Question 4"
   ]
  },
  {
   "cell_type": "code",
   "execution_count": 187,
   "metadata": {},
   "outputs": [],
   "source": [
    "from sklearn import svm"
   ]
  },
  {
   "cell_type": "code",
   "execution_count": 188,
   "metadata": {},
   "outputs": [],
   "source": [
    "from sklearn.model_selection import GridSearchCV"
   ]
  },
  {
   "cell_type": "code",
   "execution_count": 189,
   "metadata": {},
   "outputs": [],
   "source": [
    "X=df_pca.drop('class',axis=1)"
   ]
  },
  {
   "cell_type": "code",
   "execution_count": 190,
   "metadata": {},
   "outputs": [],
   "source": [
    "y = df_pca['class']"
   ]
  },
  {
   "cell_type": "code",
   "execution_count": 191,
   "metadata": {},
   "outputs": [],
   "source": [
    "from sklearn.model_selection import train_test_split\n",
    "xTrain, xTest, yTrain, yTest = train_test_split(X,y,test_size=0.3, random_state=24,stratify=y)"
   ]
  },
  {
   "cell_type": "code",
   "execution_count": 192,
   "metadata": {},
   "outputs": [],
   "source": [
    "svc = svm.SVC()"
   ]
  },
  {
   "cell_type": "code",
   "execution_count": 193,
   "metadata": {},
   "outputs": [],
   "source": [
    "parameters ={'C': [0.01, 0.05, 0.5, 1],\n",
    "             'kernel':('linear', 'rbf')\n",
    "    \n",
    "}"
   ]
  },
  {
   "cell_type": "code",
   "execution_count": 194,
   "metadata": {},
   "outputs": [
    {
     "name": "stderr",
     "output_type": "stream",
     "text": [
      "D:\\ProgramData\\Anaconda3\\lib\\site-packages\\sklearn\\svm\\base.py:193: FutureWarning: The default value of gamma will change from 'auto' to 'scale' in version 0.22 to account better for unscaled features. Set gamma explicitly to 'auto' or 'scale' to avoid this warning.\n",
      "  \"avoid this warning.\", FutureWarning)\n",
      "D:\\ProgramData\\Anaconda3\\lib\\site-packages\\sklearn\\svm\\base.py:193: FutureWarning: The default value of gamma will change from 'auto' to 'scale' in version 0.22 to account better for unscaled features. Set gamma explicitly to 'auto' or 'scale' to avoid this warning.\n",
      "  \"avoid this warning.\", FutureWarning)\n",
      "D:\\ProgramData\\Anaconda3\\lib\\site-packages\\sklearn\\svm\\base.py:193: FutureWarning: The default value of gamma will change from 'auto' to 'scale' in version 0.22 to account better for unscaled features. Set gamma explicitly to 'auto' or 'scale' to avoid this warning.\n",
      "  \"avoid this warning.\", FutureWarning)\n",
      "D:\\ProgramData\\Anaconda3\\lib\\site-packages\\sklearn\\svm\\base.py:193: FutureWarning: The default value of gamma will change from 'auto' to 'scale' in version 0.22 to account better for unscaled features. Set gamma explicitly to 'auto' or 'scale' to avoid this warning.\n",
      "  \"avoid this warning.\", FutureWarning)\n",
      "D:\\ProgramData\\Anaconda3\\lib\\site-packages\\sklearn\\svm\\base.py:193: FutureWarning: The default value of gamma will change from 'auto' to 'scale' in version 0.22 to account better for unscaled features. Set gamma explicitly to 'auto' or 'scale' to avoid this warning.\n",
      "  \"avoid this warning.\", FutureWarning)\n",
      "D:\\ProgramData\\Anaconda3\\lib\\site-packages\\sklearn\\svm\\base.py:193: FutureWarning: The default value of gamma will change from 'auto' to 'scale' in version 0.22 to account better for unscaled features. Set gamma explicitly to 'auto' or 'scale' to avoid this warning.\n",
      "  \"avoid this warning.\", FutureWarning)\n",
      "D:\\ProgramData\\Anaconda3\\lib\\site-packages\\sklearn\\svm\\base.py:193: FutureWarning: The default value of gamma will change from 'auto' to 'scale' in version 0.22 to account better for unscaled features. Set gamma explicitly to 'auto' or 'scale' to avoid this warning.\n",
      "  \"avoid this warning.\", FutureWarning)\n",
      "D:\\ProgramData\\Anaconda3\\lib\\site-packages\\sklearn\\svm\\base.py:193: FutureWarning: The default value of gamma will change from 'auto' to 'scale' in version 0.22 to account better for unscaled features. Set gamma explicitly to 'auto' or 'scale' to avoid this warning.\n",
      "  \"avoid this warning.\", FutureWarning)\n",
      "D:\\ProgramData\\Anaconda3\\lib\\site-packages\\sklearn\\svm\\base.py:193: FutureWarning: The default value of gamma will change from 'auto' to 'scale' in version 0.22 to account better for unscaled features. Set gamma explicitly to 'auto' or 'scale' to avoid this warning.\n",
      "  \"avoid this warning.\", FutureWarning)\n",
      "D:\\ProgramData\\Anaconda3\\lib\\site-packages\\sklearn\\svm\\base.py:193: FutureWarning: The default value of gamma will change from 'auto' to 'scale' in version 0.22 to account better for unscaled features. Set gamma explicitly to 'auto' or 'scale' to avoid this warning.\n",
      "  \"avoid this warning.\", FutureWarning)\n",
      "D:\\ProgramData\\Anaconda3\\lib\\site-packages\\sklearn\\svm\\base.py:193: FutureWarning: The default value of gamma will change from 'auto' to 'scale' in version 0.22 to account better for unscaled features. Set gamma explicitly to 'auto' or 'scale' to avoid this warning.\n",
      "  \"avoid this warning.\", FutureWarning)\n",
      "D:\\ProgramData\\Anaconda3\\lib\\site-packages\\sklearn\\svm\\base.py:193: FutureWarning: The default value of gamma will change from 'auto' to 'scale' in version 0.22 to account better for unscaled features. Set gamma explicitly to 'auto' or 'scale' to avoid this warning.\n",
      "  \"avoid this warning.\", FutureWarning)\n",
      "D:\\ProgramData\\Anaconda3\\lib\\site-packages\\sklearn\\svm\\base.py:193: FutureWarning: The default value of gamma will change from 'auto' to 'scale' in version 0.22 to account better for unscaled features. Set gamma explicitly to 'auto' or 'scale' to avoid this warning.\n",
      "  \"avoid this warning.\", FutureWarning)\n",
      "D:\\ProgramData\\Anaconda3\\lib\\site-packages\\sklearn\\svm\\base.py:193: FutureWarning: The default value of gamma will change from 'auto' to 'scale' in version 0.22 to account better for unscaled features. Set gamma explicitly to 'auto' or 'scale' to avoid this warning.\n",
      "  \"avoid this warning.\", FutureWarning)\n",
      "D:\\ProgramData\\Anaconda3\\lib\\site-packages\\sklearn\\svm\\base.py:193: FutureWarning: The default value of gamma will change from 'auto' to 'scale' in version 0.22 to account better for unscaled features. Set gamma explicitly to 'auto' or 'scale' to avoid this warning.\n",
      "  \"avoid this warning.\", FutureWarning)\n",
      "D:\\ProgramData\\Anaconda3\\lib\\site-packages\\sklearn\\svm\\base.py:193: FutureWarning: The default value of gamma will change from 'auto' to 'scale' in version 0.22 to account better for unscaled features. Set gamma explicitly to 'auto' or 'scale' to avoid this warning.\n",
      "  \"avoid this warning.\", FutureWarning)\n",
      "D:\\ProgramData\\Anaconda3\\lib\\site-packages\\sklearn\\svm\\base.py:193: FutureWarning: The default value of gamma will change from 'auto' to 'scale' in version 0.22 to account better for unscaled features. Set gamma explicitly to 'auto' or 'scale' to avoid this warning.\n",
      "  \"avoid this warning.\", FutureWarning)\n",
      "D:\\ProgramData\\Anaconda3\\lib\\site-packages\\sklearn\\svm\\base.py:193: FutureWarning: The default value of gamma will change from 'auto' to 'scale' in version 0.22 to account better for unscaled features. Set gamma explicitly to 'auto' or 'scale' to avoid this warning.\n",
      "  \"avoid this warning.\", FutureWarning)\n",
      "D:\\ProgramData\\Anaconda3\\lib\\site-packages\\sklearn\\svm\\base.py:193: FutureWarning: The default value of gamma will change from 'auto' to 'scale' in version 0.22 to account better for unscaled features. Set gamma explicitly to 'auto' or 'scale' to avoid this warning.\n",
      "  \"avoid this warning.\", FutureWarning)\n",
      "D:\\ProgramData\\Anaconda3\\lib\\site-packages\\sklearn\\svm\\base.py:193: FutureWarning: The default value of gamma will change from 'auto' to 'scale' in version 0.22 to account better for unscaled features. Set gamma explicitly to 'auto' or 'scale' to avoid this warning.\n",
      "  \"avoid this warning.\", FutureWarning)\n",
      "D:\\ProgramData\\Anaconda3\\lib\\site-packages\\sklearn\\svm\\base.py:193: FutureWarning: The default value of gamma will change from 'auto' to 'scale' in version 0.22 to account better for unscaled features. Set gamma explicitly to 'auto' or 'scale' to avoid this warning.\n",
      "  \"avoid this warning.\", FutureWarning)\n",
      "D:\\ProgramData\\Anaconda3\\lib\\site-packages\\sklearn\\svm\\base.py:193: FutureWarning: The default value of gamma will change from 'auto' to 'scale' in version 0.22 to account better for unscaled features. Set gamma explicitly to 'auto' or 'scale' to avoid this warning.\n",
      "  \"avoid this warning.\", FutureWarning)\n",
      "D:\\ProgramData\\Anaconda3\\lib\\site-packages\\sklearn\\svm\\base.py:193: FutureWarning: The default value of gamma will change from 'auto' to 'scale' in version 0.22 to account better for unscaled features. Set gamma explicitly to 'auto' or 'scale' to avoid this warning.\n",
      "  \"avoid this warning.\", FutureWarning)\n",
      "D:\\ProgramData\\Anaconda3\\lib\\site-packages\\sklearn\\svm\\base.py:193: FutureWarning: The default value of gamma will change from 'auto' to 'scale' in version 0.22 to account better for unscaled features. Set gamma explicitly to 'auto' or 'scale' to avoid this warning.\n",
      "  \"avoid this warning.\", FutureWarning)\n",
      "D:\\ProgramData\\Anaconda3\\lib\\site-packages\\sklearn\\svm\\base.py:193: FutureWarning: The default value of gamma will change from 'auto' to 'scale' in version 0.22 to account better for unscaled features. Set gamma explicitly to 'auto' or 'scale' to avoid this warning.\n",
      "  \"avoid this warning.\", FutureWarning)\n",
      "D:\\ProgramData\\Anaconda3\\lib\\site-packages\\sklearn\\svm\\base.py:193: FutureWarning: The default value of gamma will change from 'auto' to 'scale' in version 0.22 to account better for unscaled features. Set gamma explicitly to 'auto' or 'scale' to avoid this warning.\n",
      "  \"avoid this warning.\", FutureWarning)\n",
      "D:\\ProgramData\\Anaconda3\\lib\\site-packages\\sklearn\\svm\\base.py:193: FutureWarning: The default value of gamma will change from 'auto' to 'scale' in version 0.22 to account better for unscaled features. Set gamma explicitly to 'auto' or 'scale' to avoid this warning.\n",
      "  \"avoid this warning.\", FutureWarning)\n"
     ]
    },
    {
     "name": "stderr",
     "output_type": "stream",
     "text": [
      "D:\\ProgramData\\Anaconda3\\lib\\site-packages\\sklearn\\svm\\base.py:193: FutureWarning: The default value of gamma will change from 'auto' to 'scale' in version 0.22 to account better for unscaled features. Set gamma explicitly to 'auto' or 'scale' to avoid this warning.\n",
      "  \"avoid this warning.\", FutureWarning)\n",
      "D:\\ProgramData\\Anaconda3\\lib\\site-packages\\sklearn\\svm\\base.py:193: FutureWarning: The default value of gamma will change from 'auto' to 'scale' in version 0.22 to account better for unscaled features. Set gamma explicitly to 'auto' or 'scale' to avoid this warning.\n",
      "  \"avoid this warning.\", FutureWarning)\n",
      "D:\\ProgramData\\Anaconda3\\lib\\site-packages\\sklearn\\svm\\base.py:193: FutureWarning: The default value of gamma will change from 'auto' to 'scale' in version 0.22 to account better for unscaled features. Set gamma explicitly to 'auto' or 'scale' to avoid this warning.\n",
      "  \"avoid this warning.\", FutureWarning)\n",
      "D:\\ProgramData\\Anaconda3\\lib\\site-packages\\sklearn\\svm\\base.py:193: FutureWarning: The default value of gamma will change from 'auto' to 'scale' in version 0.22 to account better for unscaled features. Set gamma explicitly to 'auto' or 'scale' to avoid this warning.\n",
      "  \"avoid this warning.\", FutureWarning)\n",
      "D:\\ProgramData\\Anaconda3\\lib\\site-packages\\sklearn\\svm\\base.py:193: FutureWarning: The default value of gamma will change from 'auto' to 'scale' in version 0.22 to account better for unscaled features. Set gamma explicitly to 'auto' or 'scale' to avoid this warning.\n",
      "  \"avoid this warning.\", FutureWarning)\n",
      "D:\\ProgramData\\Anaconda3\\lib\\site-packages\\sklearn\\svm\\base.py:193: FutureWarning: The default value of gamma will change from 'auto' to 'scale' in version 0.22 to account better for unscaled features. Set gamma explicitly to 'auto' or 'scale' to avoid this warning.\n",
      "  \"avoid this warning.\", FutureWarning)\n",
      "D:\\ProgramData\\Anaconda3\\lib\\site-packages\\sklearn\\svm\\base.py:193: FutureWarning: The default value of gamma will change from 'auto' to 'scale' in version 0.22 to account better for unscaled features. Set gamma explicitly to 'auto' or 'scale' to avoid this warning.\n",
      "  \"avoid this warning.\", FutureWarning)\n",
      "D:\\ProgramData\\Anaconda3\\lib\\site-packages\\sklearn\\svm\\base.py:193: FutureWarning: The default value of gamma will change from 'auto' to 'scale' in version 0.22 to account better for unscaled features. Set gamma explicitly to 'auto' or 'scale' to avoid this warning.\n",
      "  \"avoid this warning.\", FutureWarning)\n",
      "D:\\ProgramData\\Anaconda3\\lib\\site-packages\\sklearn\\svm\\base.py:193: FutureWarning: The default value of gamma will change from 'auto' to 'scale' in version 0.22 to account better for unscaled features. Set gamma explicitly to 'auto' or 'scale' to avoid this warning.\n",
      "  \"avoid this warning.\", FutureWarning)\n",
      "D:\\ProgramData\\Anaconda3\\lib\\site-packages\\sklearn\\svm\\base.py:193: FutureWarning: The default value of gamma will change from 'auto' to 'scale' in version 0.22 to account better for unscaled features. Set gamma explicitly to 'auto' or 'scale' to avoid this warning.\n",
      "  \"avoid this warning.\", FutureWarning)\n",
      "D:\\ProgramData\\Anaconda3\\lib\\site-packages\\sklearn\\svm\\base.py:193: FutureWarning: The default value of gamma will change from 'auto' to 'scale' in version 0.22 to account better for unscaled features. Set gamma explicitly to 'auto' or 'scale' to avoid this warning.\n",
      "  \"avoid this warning.\", FutureWarning)\n",
      "D:\\ProgramData\\Anaconda3\\lib\\site-packages\\sklearn\\svm\\base.py:193: FutureWarning: The default value of gamma will change from 'auto' to 'scale' in version 0.22 to account better for unscaled features. Set gamma explicitly to 'auto' or 'scale' to avoid this warning.\n",
      "  \"avoid this warning.\", FutureWarning)\n",
      "D:\\ProgramData\\Anaconda3\\lib\\site-packages\\sklearn\\svm\\base.py:193: FutureWarning: The default value of gamma will change from 'auto' to 'scale' in version 0.22 to account better for unscaled features. Set gamma explicitly to 'auto' or 'scale' to avoid this warning.\n",
      "  \"avoid this warning.\", FutureWarning)\n"
     ]
    },
    {
     "data": {
      "text/plain": [
       "GridSearchCV(cv=10, error_score='raise-deprecating',\n",
       "             estimator=SVC(C=1.0, cache_size=200, class_weight=None, coef0=0.0,\n",
       "                           decision_function_shape='ovr', degree=3,\n",
       "                           gamma='auto_deprecated', kernel='rbf', max_iter=-1,\n",
       "                           probability=False, random_state=None, shrinking=True,\n",
       "                           tol=0.001, verbose=False),\n",
       "             iid='warn', n_jobs=None,\n",
       "             param_grid={'C': [0.01, 0.05, 0.5, 1],\n",
       "                         'kernel': ('linear', 'rbf')},\n",
       "             pre_dispatch='2*n_jobs', refit=True, return_train_score=False,\n",
       "             scoring=None, verbose=0)"
      ]
     },
     "execution_count": 194,
     "metadata": {},
     "output_type": "execute_result"
    }
   ],
   "source": [
    "clf = GridSearchCV(svc, parameters, cv=10)\n",
    "clf.fit(xTrain, yTrain)"
   ]
  },
  {
   "cell_type": "code",
   "execution_count": 195,
   "metadata": {},
   "outputs": [
    {
     "data": {
      "text/plain": [
       "{'C': 0.05, 'kernel': 'linear'}"
      ]
     },
     "execution_count": 195,
     "metadata": {},
     "output_type": "execute_result"
    }
   ],
   "source": [
    "clf.best_params_"
   ]
  },
  {
   "cell_type": "code",
   "execution_count": 196,
   "metadata": {},
   "outputs": [],
   "source": [
    "model = clf.best_estimator_"
   ]
  },
  {
   "cell_type": "code",
   "execution_count": 197,
   "metadata": {},
   "outputs": [],
   "source": [
    "pred = model.predict(xTest)"
   ]
  },
  {
   "cell_type": "code",
   "execution_count": 198,
   "metadata": {},
   "outputs": [
    {
     "name": "stdout",
     "output_type": "stream",
     "text": [
      "[[ 58   2   0]\n",
      " [  9 111   9]\n",
      " [  4   6  55]]\n",
      "Test accuracy is 0.8818897637795275\n"
     ]
    }
   ],
   "source": [
    "from sklearn.metrics import confusion_matrix, accuracy_score\n",
    "print(confusion_matrix(yTest, pred))\n",
    "print(\"Test accuracy is\", accuracy_score(yTest,pred))"
   ]
  },
  {
   "cell_type": "code",
   "execution_count": 199,
   "metadata": {},
   "outputs": [],
   "source": [
    "from sklearn.model_selection import StratifiedKFold"
   ]
  },
  {
   "cell_type": "code",
   "execution_count": 200,
   "metadata": {},
   "outputs": [
    {
     "name": "stdout",
     "output_type": "stream",
     "text": [
      "1 of KFold 5\n",
      "Accuracy score: 0.8176470588235294\n",
      "2 of KFold 5\n",
      "Accuracy score: 0.7941176470588235\n",
      "3 of KFold 5\n",
      "Accuracy score: 0.8352941176470589\n",
      "4 of KFold 5\n",
      "Accuracy score: 0.7633136094674556\n",
      "5 of KFold 5\n",
      "Accuracy score: 0.9101796407185628\n"
     ]
    }
   ],
   "source": [
    "kf = StratifiedKFold(n_splits=5,shuffle=True,random_state=24)\n",
    "pred_test_full =0\n",
    "cv_score =[]\n",
    "i=1\n",
    "for train_index,test_index in kf.split(X,y):\n",
    "    print('{} of KFold {}'.format(i,kf.n_splits))\n",
    "    xtr,xvl = X.loc[train_index],X.loc[test_index]\n",
    "    ytr,yvl = y.loc[train_index],y.loc[test_index]\n",
    "    \n",
    "    #model\n",
    "   \n",
    "    model.fit(xtr,ytr)\n",
    "    pred = model.predict(xvl)\n",
    "    score = accuracy_score(yvl,pred)\n",
    "    print('Accuracy score:',score)\n",
    "    cv_score.append(score)    \n",
    "    i+=1"
   ]
  },
  {
   "cell_type": "code",
   "execution_count": 201,
   "metadata": {},
   "outputs": [
    {
     "name": "stdout",
     "output_type": "stream",
     "text": [
      "Cv [0.8176470588235294, 0.7941176470588235, 0.8352941176470589, 0.7633136094674556, 0.9101796407185628] \n",
      "Mean cv Score 0.824110414743086\n"
     ]
    }
   ],
   "source": [
    "print('Cv',cv_score,'\\nMean cv Score',np.mean(cv_score))"
   ]
  },
  {
   "cell_type": "code",
   "execution_count": 202,
   "metadata": {},
   "outputs": [],
   "source": [
    "mean = np.mean(cv_score)\n",
    "\n",
    "sd = np.std(cv_score)"
   ]
  },
  {
   "cell_type": "code",
   "execution_count": 203,
   "metadata": {},
   "outputs": [],
   "source": [
    "#The values for const are provided from statistics, and common values used are:\n",
    "a = 1.64 #(90%)\n",
    "b = 1.96 #(95%)\n",
    "c = 2.33 #(98%)\n",
    "d = 2.58 #(99%)"
   ]
  },
  {
   "cell_type": "code",
   "execution_count": 204,
   "metadata": {},
   "outputs": [],
   "source": [
    "def conf_calc(percentage):\n",
    "    upper = mean + (percentage * sd)\n",
    "    lower = mean - (percentage * sd)\n",
    "    return (lower,upper)"
   ]
  },
  {
   "cell_type": "code",
   "execution_count": 211,
   "metadata": {},
   "outputs": [
    {
     "name": "stdout",
     "output_type": "stream",
     "text": [
      "90% confidence that model has accuracy between 74.32% & 90.50%\n"
     ]
    }
   ],
   "source": [
    "ninety =conf_calc(a)\n",
    "\n",
    "print(\"90% confidence that model has accuracy between {:.2f}% & {:.2f}%\".format(ninety[0]*100,ninety[1]*100))"
   ]
  },
  {
   "cell_type": "code",
   "execution_count": 213,
   "metadata": {},
   "outputs": [
    {
     "name": "stdout",
     "output_type": "stream",
     "text": [
      "95% confidence that model has accuracy between 72.74% & 92.08%\n"
     ]
    }
   ],
   "source": [
    "ninetyfive =conf_calc(b)\n",
    "\n",
    "\n",
    "print(\"95% confidence that model has accuracy between {:.2f}% & {:.2f}%\".format(ninetyfive[0]*100,ninetyfive[1]*100))"
   ]
  },
  {
   "cell_type": "code",
   "execution_count": 214,
   "metadata": {},
   "outputs": [
    {
     "name": "stdout",
     "output_type": "stream",
     "text": [
      "98% confidence that model has accuracy between 70.92% & 93.91%\n"
     ]
    }
   ],
   "source": [
    "ninetyeight =conf_calc(c)\n",
    "\n",
    "\n",
    "print(\"98% confidence that model has accuracy between {:.2f}% & {:.2f}%\".format(ninetyeight[0]*100,ninetyeight[1]*100))"
   ]
  },
  {
   "cell_type": "code",
   "execution_count": 215,
   "metadata": {},
   "outputs": [
    {
     "name": "stdout",
     "output_type": "stream",
     "text": [
      "99% confidence that model has accuracy between 69.68% & 95.14%\n"
     ]
    }
   ],
   "source": [
    "ninetynine =conf_calc(d)\n",
    "\n",
    "\n",
    "print(\"99% confidence that model has accuracy between {:.2f}% & {:.2f}%\".format(ninetynine[0]*100,ninetynine[1]*100))"
   ]
  },
  {
   "cell_type": "code",
   "execution_count": null,
   "metadata": {},
   "outputs": [],
   "source": []
  }
 ],
 "metadata": {
  "kernelspec": {
   "display_name": "Python 3",
   "language": "python",
   "name": "python3"
  },
  "language_info": {
   "codemirror_mode": {
    "name": "ipython",
    "version": 3
   },
   "file_extension": ".py",
   "mimetype": "text/x-python",
   "name": "python",
   "nbconvert_exporter": "python",
   "pygments_lexer": "ipython3",
   "version": "3.7.3"
  }
 },
 "nbformat": 4,
 "nbformat_minor": 2
}
